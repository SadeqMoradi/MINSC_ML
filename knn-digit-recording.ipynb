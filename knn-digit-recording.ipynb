{
 "cells": [
  {
   "cell_type": "markdown",
   "id": "4ddccfc3",
   "metadata": {
    "papermill": {
     "duration": 0.010735,
     "end_time": "2024-09-22T12:04:10.884545",
     "exception": false,
     "start_time": "2024-09-22T12:04:10.873810",
     "status": "completed"
    },
    "tags": []
   },
   "source": [
    "**Importing Libraries:**"
   ]
  },
  {
   "cell_type": "code",
   "execution_count": 1,
   "id": "1fdecb28",
   "metadata": {
    "execution": {
     "iopub.execute_input": "2024-09-22T12:04:10.906927Z",
     "iopub.status.busy": "2024-09-22T12:04:10.906348Z",
     "iopub.status.idle": "2024-09-22T12:04:13.090785Z",
     "shell.execute_reply": "2024-09-22T12:04:13.089433Z"
    },
    "papermill": {
     "duration": 2.199261,
     "end_time": "2024-09-22T12:04:13.094032",
     "exception": false,
     "start_time": "2024-09-22T12:04:10.894771",
     "status": "completed"
    },
    "tags": []
   },
   "outputs": [
    {
     "name": "stderr",
     "output_type": "stream",
     "text": [
      "/tmp/ipykernel_17/4030402293.py:12: DeprecationWarning: Please import `shift` from the `scipy.ndimage` namespace; the `scipy.ndimage.interpolation` namespace is deprecated and will be removed in SciPy 2.0.0.\n",
      "  from scipy.ndimage.interpolation import shift\n"
     ]
    }
   ],
   "source": [
    "import numpy as np\n",
    "import pandas as pd\n",
    "import os\n",
    "from pathlib import Path\n",
    "import matplotlib.pyplot as plt\n",
    "from sklearn.neighbors import KNeighborsClassifier\n",
    "from sklearn.model_selection import cross_val_score\n",
    "from sklearn.model_selection import cross_val_predict\n",
    "from sklearn.metrics import ConfusionMatrixDisplay\n",
    "from sklearn.pipeline import Pipeline\n",
    "from sklearn.model_selection import GridSearchCV\n",
    "from scipy.ndimage.interpolation import shift\n",
    "from IPython.display import clear_output"
   ]
  },
  {
   "cell_type": "markdown",
   "id": "3043ad51",
   "metadata": {
    "papermill": {
     "duration": 0.010057,
     "end_time": "2024-09-22T12:04:13.114962",
     "exception": false,
     "start_time": "2024-09-22T12:04:13.104905",
     "status": "completed"
    },
    "tags": []
   },
   "source": [
    "**Listing files under input directory:**"
   ]
  },
  {
   "cell_type": "code",
   "execution_count": 2,
   "id": "e813fc21",
   "metadata": {
    "execution": {
     "iopub.execute_input": "2024-09-22T12:04:13.137928Z",
     "iopub.status.busy": "2024-09-22T12:04:13.137306Z",
     "iopub.status.idle": "2024-09-22T12:04:13.145842Z",
     "shell.execute_reply": "2024-09-22T12:04:13.144126Z"
    },
    "papermill": {
     "duration": 0.022955,
     "end_time": "2024-09-22T12:04:13.148366",
     "exception": false,
     "start_time": "2024-09-22T12:04:13.125411",
     "status": "completed"
    },
    "tags": []
   },
   "outputs": [
    {
     "name": "stdout",
     "output_type": "stream",
     "text": [
      "/kaggle/input/digit-recognizer/sample_submission.csv\n",
      "/kaggle/input/digit-recognizer/train.csv\n",
      "/kaggle/input/digit-recognizer/test.csv\n"
     ]
    }
   ],
   "source": [
    "for dirname, _, filenames in os.walk('/kaggle/input'):\n",
    "    for filename in filenames:\n",
    "        print(os.path.join(dirname, filename))"
   ]
  },
  {
   "cell_type": "markdown",
   "id": "546c5eac",
   "metadata": {
    "papermill": {
     "duration": 0.010141,
     "end_time": "2024-09-22T12:04:13.168972",
     "exception": false,
     "start_time": "2024-09-22T12:04:13.158831",
     "status": "completed"
    },
    "tags": []
   },
   "source": [
    "**Reading .csv files :**"
   ]
  },
  {
   "cell_type": "code",
   "execution_count": 3,
   "id": "7999fdba",
   "metadata": {
    "execution": {
     "iopub.execute_input": "2024-09-22T12:04:13.194137Z",
     "iopub.status.busy": "2024-09-22T12:04:13.193712Z",
     "iopub.status.idle": "2024-09-22T12:04:19.893337Z",
     "shell.execute_reply": "2024-09-22T12:04:19.892256Z"
    },
    "papermill": {
     "duration": 6.714313,
     "end_time": "2024-09-22T12:04:19.896257",
     "exception": false,
     "start_time": "2024-09-22T12:04:13.181944",
     "status": "completed"
    },
    "tags": []
   },
   "outputs": [],
   "source": [
    "train_data = pd.read_csv(Path(\"/kaggle/input/digit-recognizer/train.csv\"))\n",
    "test_data = pd.read_csv(Path(\"/kaggle/input/digit-recognizer/test.csv\"))\n",
    "sample_submission = pd.read_csv(Path(\"/kaggle/input/digit-recognizer/sample_submission.csv\"))"
   ]
  },
  {
   "cell_type": "markdown",
   "id": "3b0656c1",
   "metadata": {
    "papermill": {
     "duration": 0.009965,
     "end_time": "2024-09-22T12:04:19.916625",
     "exception": false,
     "start_time": "2024-09-22T12:04:19.906660",
     "status": "completed"
    },
    "tags": []
   },
   "source": [
    "**Taking a quick look at the data structure:**"
   ]
  },
  {
   "cell_type": "code",
   "execution_count": 4,
   "id": "d120d14b",
   "metadata": {
    "execution": {
     "iopub.execute_input": "2024-09-22T12:04:19.939199Z",
     "iopub.status.busy": "2024-09-22T12:04:19.938775Z",
     "iopub.status.idle": "2024-09-22T12:04:19.969892Z",
     "shell.execute_reply": "2024-09-22T12:04:19.968461Z"
    },
    "papermill": {
     "duration": 0.045593,
     "end_time": "2024-09-22T12:04:19.972649",
     "exception": false,
     "start_time": "2024-09-22T12:04:19.927056",
     "status": "completed"
    },
    "tags": []
   },
   "outputs": [
    {
     "data": {
      "text/html": [
       "<div>\n",
       "<style scoped>\n",
       "    .dataframe tbody tr th:only-of-type {\n",
       "        vertical-align: middle;\n",
       "    }\n",
       "\n",
       "    .dataframe tbody tr th {\n",
       "        vertical-align: top;\n",
       "    }\n",
       "\n",
       "    .dataframe thead th {\n",
       "        text-align: right;\n",
       "    }\n",
       "</style>\n",
       "<table border=\"1\" class=\"dataframe\">\n",
       "  <thead>\n",
       "    <tr style=\"text-align: right;\">\n",
       "      <th></th>\n",
       "      <th>label</th>\n",
       "      <th>pixel0</th>\n",
       "      <th>pixel1</th>\n",
       "      <th>pixel2</th>\n",
       "      <th>pixel3</th>\n",
       "      <th>pixel4</th>\n",
       "      <th>pixel5</th>\n",
       "      <th>pixel6</th>\n",
       "      <th>pixel7</th>\n",
       "      <th>pixel8</th>\n",
       "      <th>...</th>\n",
       "      <th>pixel774</th>\n",
       "      <th>pixel775</th>\n",
       "      <th>pixel776</th>\n",
       "      <th>pixel777</th>\n",
       "      <th>pixel778</th>\n",
       "      <th>pixel779</th>\n",
       "      <th>pixel780</th>\n",
       "      <th>pixel781</th>\n",
       "      <th>pixel782</th>\n",
       "      <th>pixel783</th>\n",
       "    </tr>\n",
       "  </thead>\n",
       "  <tbody>\n",
       "    <tr>\n",
       "      <th>0</th>\n",
       "      <td>1</td>\n",
       "      <td>0</td>\n",
       "      <td>0</td>\n",
       "      <td>0</td>\n",
       "      <td>0</td>\n",
       "      <td>0</td>\n",
       "      <td>0</td>\n",
       "      <td>0</td>\n",
       "      <td>0</td>\n",
       "      <td>0</td>\n",
       "      <td>...</td>\n",
       "      <td>0</td>\n",
       "      <td>0</td>\n",
       "      <td>0</td>\n",
       "      <td>0</td>\n",
       "      <td>0</td>\n",
       "      <td>0</td>\n",
       "      <td>0</td>\n",
       "      <td>0</td>\n",
       "      <td>0</td>\n",
       "      <td>0</td>\n",
       "    </tr>\n",
       "    <tr>\n",
       "      <th>1</th>\n",
       "      <td>0</td>\n",
       "      <td>0</td>\n",
       "      <td>0</td>\n",
       "      <td>0</td>\n",
       "      <td>0</td>\n",
       "      <td>0</td>\n",
       "      <td>0</td>\n",
       "      <td>0</td>\n",
       "      <td>0</td>\n",
       "      <td>0</td>\n",
       "      <td>...</td>\n",
       "      <td>0</td>\n",
       "      <td>0</td>\n",
       "      <td>0</td>\n",
       "      <td>0</td>\n",
       "      <td>0</td>\n",
       "      <td>0</td>\n",
       "      <td>0</td>\n",
       "      <td>0</td>\n",
       "      <td>0</td>\n",
       "      <td>0</td>\n",
       "    </tr>\n",
       "    <tr>\n",
       "      <th>2</th>\n",
       "      <td>1</td>\n",
       "      <td>0</td>\n",
       "      <td>0</td>\n",
       "      <td>0</td>\n",
       "      <td>0</td>\n",
       "      <td>0</td>\n",
       "      <td>0</td>\n",
       "      <td>0</td>\n",
       "      <td>0</td>\n",
       "      <td>0</td>\n",
       "      <td>...</td>\n",
       "      <td>0</td>\n",
       "      <td>0</td>\n",
       "      <td>0</td>\n",
       "      <td>0</td>\n",
       "      <td>0</td>\n",
       "      <td>0</td>\n",
       "      <td>0</td>\n",
       "      <td>0</td>\n",
       "      <td>0</td>\n",
       "      <td>0</td>\n",
       "    </tr>\n",
       "    <tr>\n",
       "      <th>3</th>\n",
       "      <td>4</td>\n",
       "      <td>0</td>\n",
       "      <td>0</td>\n",
       "      <td>0</td>\n",
       "      <td>0</td>\n",
       "      <td>0</td>\n",
       "      <td>0</td>\n",
       "      <td>0</td>\n",
       "      <td>0</td>\n",
       "      <td>0</td>\n",
       "      <td>...</td>\n",
       "      <td>0</td>\n",
       "      <td>0</td>\n",
       "      <td>0</td>\n",
       "      <td>0</td>\n",
       "      <td>0</td>\n",
       "      <td>0</td>\n",
       "      <td>0</td>\n",
       "      <td>0</td>\n",
       "      <td>0</td>\n",
       "      <td>0</td>\n",
       "    </tr>\n",
       "    <tr>\n",
       "      <th>4</th>\n",
       "      <td>0</td>\n",
       "      <td>0</td>\n",
       "      <td>0</td>\n",
       "      <td>0</td>\n",
       "      <td>0</td>\n",
       "      <td>0</td>\n",
       "      <td>0</td>\n",
       "      <td>0</td>\n",
       "      <td>0</td>\n",
       "      <td>0</td>\n",
       "      <td>...</td>\n",
       "      <td>0</td>\n",
       "      <td>0</td>\n",
       "      <td>0</td>\n",
       "      <td>0</td>\n",
       "      <td>0</td>\n",
       "      <td>0</td>\n",
       "      <td>0</td>\n",
       "      <td>0</td>\n",
       "      <td>0</td>\n",
       "      <td>0</td>\n",
       "    </tr>\n",
       "  </tbody>\n",
       "</table>\n",
       "<p>5 rows × 785 columns</p>\n",
       "</div>"
      ],
      "text/plain": [
       "   label  pixel0  pixel1  pixel2  pixel3  pixel4  pixel5  pixel6  pixel7  \\\n",
       "0      1       0       0       0       0       0       0       0       0   \n",
       "1      0       0       0       0       0       0       0       0       0   \n",
       "2      1       0       0       0       0       0       0       0       0   \n",
       "3      4       0       0       0       0       0       0       0       0   \n",
       "4      0       0       0       0       0       0       0       0       0   \n",
       "\n",
       "   pixel8  ...  pixel774  pixel775  pixel776  pixel777  pixel778  pixel779  \\\n",
       "0       0  ...         0         0         0         0         0         0   \n",
       "1       0  ...         0         0         0         0         0         0   \n",
       "2       0  ...         0         0         0         0         0         0   \n",
       "3       0  ...         0         0         0         0         0         0   \n",
       "4       0  ...         0         0         0         0         0         0   \n",
       "\n",
       "   pixel780  pixel781  pixel782  pixel783  \n",
       "0         0         0         0         0  \n",
       "1         0         0         0         0  \n",
       "2         0         0         0         0  \n",
       "3         0         0         0         0  \n",
       "4         0         0         0         0  \n",
       "\n",
       "[5 rows x 785 columns]"
      ]
     },
     "execution_count": 4,
     "metadata": {},
     "output_type": "execute_result"
    }
   ],
   "source": [
    "train_data.head()"
   ]
  },
  {
   "cell_type": "code",
   "execution_count": 5,
   "id": "25934bf9",
   "metadata": {
    "execution": {
     "iopub.execute_input": "2024-09-22T12:04:19.996825Z",
     "iopub.status.busy": "2024-09-22T12:04:19.996338Z",
     "iopub.status.idle": "2024-09-22T12:04:22.154401Z",
     "shell.execute_reply": "2024-09-22T12:04:22.153126Z"
    },
    "papermill": {
     "duration": 2.173316,
     "end_time": "2024-09-22T12:04:22.157154",
     "exception": false,
     "start_time": "2024-09-22T12:04:19.983838",
     "status": "completed"
    },
    "tags": []
   },
   "outputs": [
    {
     "data": {
      "text/html": [
       "<div>\n",
       "<style scoped>\n",
       "    .dataframe tbody tr th:only-of-type {\n",
       "        vertical-align: middle;\n",
       "    }\n",
       "\n",
       "    .dataframe tbody tr th {\n",
       "        vertical-align: top;\n",
       "    }\n",
       "\n",
       "    .dataframe thead th {\n",
       "        text-align: right;\n",
       "    }\n",
       "</style>\n",
       "<table border=\"1\" class=\"dataframe\">\n",
       "  <thead>\n",
       "    <tr style=\"text-align: right;\">\n",
       "      <th></th>\n",
       "      <th>label</th>\n",
       "      <th>pixel0</th>\n",
       "      <th>pixel1</th>\n",
       "      <th>pixel2</th>\n",
       "      <th>pixel3</th>\n",
       "      <th>pixel4</th>\n",
       "      <th>pixel5</th>\n",
       "      <th>pixel6</th>\n",
       "      <th>pixel7</th>\n",
       "      <th>pixel8</th>\n",
       "      <th>...</th>\n",
       "      <th>pixel774</th>\n",
       "      <th>pixel775</th>\n",
       "      <th>pixel776</th>\n",
       "      <th>pixel777</th>\n",
       "      <th>pixel778</th>\n",
       "      <th>pixel779</th>\n",
       "      <th>pixel780</th>\n",
       "      <th>pixel781</th>\n",
       "      <th>pixel782</th>\n",
       "      <th>pixel783</th>\n",
       "    </tr>\n",
       "  </thead>\n",
       "  <tbody>\n",
       "    <tr>\n",
       "      <th>count</th>\n",
       "      <td>42000.000000</td>\n",
       "      <td>42000.0</td>\n",
       "      <td>42000.0</td>\n",
       "      <td>42000.0</td>\n",
       "      <td>42000.0</td>\n",
       "      <td>42000.0</td>\n",
       "      <td>42000.0</td>\n",
       "      <td>42000.0</td>\n",
       "      <td>42000.0</td>\n",
       "      <td>42000.0</td>\n",
       "      <td>...</td>\n",
       "      <td>42000.000000</td>\n",
       "      <td>42000.000000</td>\n",
       "      <td>42000.000000</td>\n",
       "      <td>42000.00000</td>\n",
       "      <td>42000.000000</td>\n",
       "      <td>42000.000000</td>\n",
       "      <td>42000.0</td>\n",
       "      <td>42000.0</td>\n",
       "      <td>42000.0</td>\n",
       "      <td>42000.0</td>\n",
       "    </tr>\n",
       "    <tr>\n",
       "      <th>mean</th>\n",
       "      <td>4.456643</td>\n",
       "      <td>0.0</td>\n",
       "      <td>0.0</td>\n",
       "      <td>0.0</td>\n",
       "      <td>0.0</td>\n",
       "      <td>0.0</td>\n",
       "      <td>0.0</td>\n",
       "      <td>0.0</td>\n",
       "      <td>0.0</td>\n",
       "      <td>0.0</td>\n",
       "      <td>...</td>\n",
       "      <td>0.219286</td>\n",
       "      <td>0.117095</td>\n",
       "      <td>0.059024</td>\n",
       "      <td>0.02019</td>\n",
       "      <td>0.017238</td>\n",
       "      <td>0.002857</td>\n",
       "      <td>0.0</td>\n",
       "      <td>0.0</td>\n",
       "      <td>0.0</td>\n",
       "      <td>0.0</td>\n",
       "    </tr>\n",
       "    <tr>\n",
       "      <th>std</th>\n",
       "      <td>2.887730</td>\n",
       "      <td>0.0</td>\n",
       "      <td>0.0</td>\n",
       "      <td>0.0</td>\n",
       "      <td>0.0</td>\n",
       "      <td>0.0</td>\n",
       "      <td>0.0</td>\n",
       "      <td>0.0</td>\n",
       "      <td>0.0</td>\n",
       "      <td>0.0</td>\n",
       "      <td>...</td>\n",
       "      <td>6.312890</td>\n",
       "      <td>4.633819</td>\n",
       "      <td>3.274488</td>\n",
       "      <td>1.75987</td>\n",
       "      <td>1.894498</td>\n",
       "      <td>0.414264</td>\n",
       "      <td>0.0</td>\n",
       "      <td>0.0</td>\n",
       "      <td>0.0</td>\n",
       "      <td>0.0</td>\n",
       "    </tr>\n",
       "    <tr>\n",
       "      <th>min</th>\n",
       "      <td>0.000000</td>\n",
       "      <td>0.0</td>\n",
       "      <td>0.0</td>\n",
       "      <td>0.0</td>\n",
       "      <td>0.0</td>\n",
       "      <td>0.0</td>\n",
       "      <td>0.0</td>\n",
       "      <td>0.0</td>\n",
       "      <td>0.0</td>\n",
       "      <td>0.0</td>\n",
       "      <td>...</td>\n",
       "      <td>0.000000</td>\n",
       "      <td>0.000000</td>\n",
       "      <td>0.000000</td>\n",
       "      <td>0.00000</td>\n",
       "      <td>0.000000</td>\n",
       "      <td>0.000000</td>\n",
       "      <td>0.0</td>\n",
       "      <td>0.0</td>\n",
       "      <td>0.0</td>\n",
       "      <td>0.0</td>\n",
       "    </tr>\n",
       "    <tr>\n",
       "      <th>25%</th>\n",
       "      <td>2.000000</td>\n",
       "      <td>0.0</td>\n",
       "      <td>0.0</td>\n",
       "      <td>0.0</td>\n",
       "      <td>0.0</td>\n",
       "      <td>0.0</td>\n",
       "      <td>0.0</td>\n",
       "      <td>0.0</td>\n",
       "      <td>0.0</td>\n",
       "      <td>0.0</td>\n",
       "      <td>...</td>\n",
       "      <td>0.000000</td>\n",
       "      <td>0.000000</td>\n",
       "      <td>0.000000</td>\n",
       "      <td>0.00000</td>\n",
       "      <td>0.000000</td>\n",
       "      <td>0.000000</td>\n",
       "      <td>0.0</td>\n",
       "      <td>0.0</td>\n",
       "      <td>0.0</td>\n",
       "      <td>0.0</td>\n",
       "    </tr>\n",
       "    <tr>\n",
       "      <th>50%</th>\n",
       "      <td>4.000000</td>\n",
       "      <td>0.0</td>\n",
       "      <td>0.0</td>\n",
       "      <td>0.0</td>\n",
       "      <td>0.0</td>\n",
       "      <td>0.0</td>\n",
       "      <td>0.0</td>\n",
       "      <td>0.0</td>\n",
       "      <td>0.0</td>\n",
       "      <td>0.0</td>\n",
       "      <td>...</td>\n",
       "      <td>0.000000</td>\n",
       "      <td>0.000000</td>\n",
       "      <td>0.000000</td>\n",
       "      <td>0.00000</td>\n",
       "      <td>0.000000</td>\n",
       "      <td>0.000000</td>\n",
       "      <td>0.0</td>\n",
       "      <td>0.0</td>\n",
       "      <td>0.0</td>\n",
       "      <td>0.0</td>\n",
       "    </tr>\n",
       "    <tr>\n",
       "      <th>75%</th>\n",
       "      <td>7.000000</td>\n",
       "      <td>0.0</td>\n",
       "      <td>0.0</td>\n",
       "      <td>0.0</td>\n",
       "      <td>0.0</td>\n",
       "      <td>0.0</td>\n",
       "      <td>0.0</td>\n",
       "      <td>0.0</td>\n",
       "      <td>0.0</td>\n",
       "      <td>0.0</td>\n",
       "      <td>...</td>\n",
       "      <td>0.000000</td>\n",
       "      <td>0.000000</td>\n",
       "      <td>0.000000</td>\n",
       "      <td>0.00000</td>\n",
       "      <td>0.000000</td>\n",
       "      <td>0.000000</td>\n",
       "      <td>0.0</td>\n",
       "      <td>0.0</td>\n",
       "      <td>0.0</td>\n",
       "      <td>0.0</td>\n",
       "    </tr>\n",
       "    <tr>\n",
       "      <th>max</th>\n",
       "      <td>9.000000</td>\n",
       "      <td>0.0</td>\n",
       "      <td>0.0</td>\n",
       "      <td>0.0</td>\n",
       "      <td>0.0</td>\n",
       "      <td>0.0</td>\n",
       "      <td>0.0</td>\n",
       "      <td>0.0</td>\n",
       "      <td>0.0</td>\n",
       "      <td>0.0</td>\n",
       "      <td>...</td>\n",
       "      <td>254.000000</td>\n",
       "      <td>254.000000</td>\n",
       "      <td>253.000000</td>\n",
       "      <td>253.00000</td>\n",
       "      <td>254.000000</td>\n",
       "      <td>62.000000</td>\n",
       "      <td>0.0</td>\n",
       "      <td>0.0</td>\n",
       "      <td>0.0</td>\n",
       "      <td>0.0</td>\n",
       "    </tr>\n",
       "  </tbody>\n",
       "</table>\n",
       "<p>8 rows × 785 columns</p>\n",
       "</div>"
      ],
      "text/plain": [
       "              label   pixel0   pixel1   pixel2   pixel3   pixel4   pixel5  \\\n",
       "count  42000.000000  42000.0  42000.0  42000.0  42000.0  42000.0  42000.0   \n",
       "mean       4.456643      0.0      0.0      0.0      0.0      0.0      0.0   \n",
       "std        2.887730      0.0      0.0      0.0      0.0      0.0      0.0   \n",
       "min        0.000000      0.0      0.0      0.0      0.0      0.0      0.0   \n",
       "25%        2.000000      0.0      0.0      0.0      0.0      0.0      0.0   \n",
       "50%        4.000000      0.0      0.0      0.0      0.0      0.0      0.0   \n",
       "75%        7.000000      0.0      0.0      0.0      0.0      0.0      0.0   \n",
       "max        9.000000      0.0      0.0      0.0      0.0      0.0      0.0   \n",
       "\n",
       "        pixel6   pixel7   pixel8  ...      pixel774      pixel775  \\\n",
       "count  42000.0  42000.0  42000.0  ...  42000.000000  42000.000000   \n",
       "mean       0.0      0.0      0.0  ...      0.219286      0.117095   \n",
       "std        0.0      0.0      0.0  ...      6.312890      4.633819   \n",
       "min        0.0      0.0      0.0  ...      0.000000      0.000000   \n",
       "25%        0.0      0.0      0.0  ...      0.000000      0.000000   \n",
       "50%        0.0      0.0      0.0  ...      0.000000      0.000000   \n",
       "75%        0.0      0.0      0.0  ...      0.000000      0.000000   \n",
       "max        0.0      0.0      0.0  ...    254.000000    254.000000   \n",
       "\n",
       "           pixel776     pixel777      pixel778      pixel779  pixel780  \\\n",
       "count  42000.000000  42000.00000  42000.000000  42000.000000   42000.0   \n",
       "mean       0.059024      0.02019      0.017238      0.002857       0.0   \n",
       "std        3.274488      1.75987      1.894498      0.414264       0.0   \n",
       "min        0.000000      0.00000      0.000000      0.000000       0.0   \n",
       "25%        0.000000      0.00000      0.000000      0.000000       0.0   \n",
       "50%        0.000000      0.00000      0.000000      0.000000       0.0   \n",
       "75%        0.000000      0.00000      0.000000      0.000000       0.0   \n",
       "max      253.000000    253.00000    254.000000     62.000000       0.0   \n",
       "\n",
       "       pixel781  pixel782  pixel783  \n",
       "count   42000.0   42000.0   42000.0  \n",
       "mean        0.0       0.0       0.0  \n",
       "std         0.0       0.0       0.0  \n",
       "min         0.0       0.0       0.0  \n",
       "25%         0.0       0.0       0.0  \n",
       "50%         0.0       0.0       0.0  \n",
       "75%         0.0       0.0       0.0  \n",
       "max         0.0       0.0       0.0  \n",
       "\n",
       "[8 rows x 785 columns]"
      ]
     },
     "execution_count": 5,
     "metadata": {},
     "output_type": "execute_result"
    }
   ],
   "source": [
    "train_data.describe()"
   ]
  },
  {
   "cell_type": "code",
   "execution_count": 6,
   "id": "f8a9e610",
   "metadata": {
    "execution": {
     "iopub.execute_input": "2024-09-22T12:04:22.182881Z",
     "iopub.status.busy": "2024-09-22T12:04:22.181544Z",
     "iopub.status.idle": "2024-09-22T12:04:22.238149Z",
     "shell.execute_reply": "2024-09-22T12:04:22.236737Z"
    },
    "papermill": {
     "duration": 0.071971,
     "end_time": "2024-09-22T12:04:22.240830",
     "exception": false,
     "start_time": "2024-09-22T12:04:22.168859",
     "status": "completed"
    },
    "tags": []
   },
   "outputs": [
    {
     "name": "stdout",
     "output_type": "stream",
     "text": [
      "<class 'pandas.core.frame.DataFrame'>\n",
      "RangeIndex: 42000 entries, 0 to 41999\n",
      "Columns: 785 entries, label to pixel783\n",
      "dtypes: int64(785)\n",
      "memory usage: 251.5 MB\n"
     ]
    }
   ],
   "source": [
    "train_data.info()"
   ]
  },
  {
   "cell_type": "code",
   "execution_count": 7,
   "id": "47bbdd47",
   "metadata": {
    "execution": {
     "iopub.execute_input": "2024-09-22T12:04:22.265647Z",
     "iopub.status.busy": "2024-09-22T12:04:22.265161Z",
     "iopub.status.idle": "2024-09-22T12:04:22.271477Z",
     "shell.execute_reply": "2024-09-22T12:04:22.270324Z"
    },
    "papermill": {
     "duration": 0.021755,
     "end_time": "2024-09-22T12:04:22.274098",
     "exception": false,
     "start_time": "2024-09-22T12:04:22.252343",
     "status": "completed"
    },
    "tags": []
   },
   "outputs": [],
   "source": [
    "#plotting the digits\n",
    "def plot_digit(X,v=0,h=0):\n",
    "    image = shift(X.reshape(28,28),(v,h))\n",
    "    plt.imshow(image,cmap=\"binary\")\n",
    "    plt.axis(\"off\")"
   ]
  },
  {
   "cell_type": "code",
   "execution_count": 8,
   "id": "ac5ab386",
   "metadata": {
    "execution": {
     "iopub.execute_input": "2024-09-22T12:04:22.298762Z",
     "iopub.status.busy": "2024-09-22T12:04:22.298267Z",
     "iopub.status.idle": "2024-09-22T12:04:22.517102Z",
     "shell.execute_reply": "2024-09-22T12:04:22.515136Z"
    },
    "papermill": {
     "duration": 0.238589,
     "end_time": "2024-09-22T12:04:22.524059",
     "exception": false,
     "start_time": "2024-09-22T12:04:22.285470",
     "status": "completed"
    },
    "tags": []
   },
   "outputs": [
    {
     "data": {
      "image/png": "[encoded data removed]",
      "text/plain": [
       "<Figure size 640x480 with 1 Axes>"
      ]
     },
     "metadata": {},
     "output_type": "display_data"
    }
   ],
   "source": [
    "td = np.array(train_data)\n",
    "plot_digit(td[3,1:])"
   ]
  },
  {
   "cell_type": "markdown",
   "id": "cc38a87d",
   "metadata": {
    "papermill": {
     "duration": 0.024162,
     "end_time": "2024-09-22T12:04:22.572787",
     "exception": false,
     "start_time": "2024-09-22T12:04:22.548625",
     "status": "completed"
    },
    "tags": []
   },
   "source": [
    "**Preparing the data :**"
   ]
  },
  {
   "cell_type": "code",
   "execution_count": 9,
   "id": "7f398b6d",
   "metadata": {
    "execution": {
     "iopub.execute_input": "2024-09-22T12:04:22.602220Z",
     "iopub.status.busy": "2024-09-22T12:04:22.601761Z",
     "iopub.status.idle": "2024-09-22T12:04:22.640216Z",
     "shell.execute_reply": "2024-09-22T12:04:22.639020Z"
    },
    "papermill": {
     "duration": 0.05461,
     "end_time": "2024-09-22T12:04:22.643114",
     "exception": false,
     "start_time": "2024-09-22T12:04:22.588504",
     "status": "completed"
    },
    "tags": []
   },
   "outputs": [],
   "source": [
    "Fours = train_data[train_data[\"label\"]==4]\n",
    "X_fours_data = np.array(Fours.iloc[:,1:])\n",
    "y_fours_data = np.array(Fours.iloc[:,0])"
   ]
  },
  {
   "cell_type": "code",
   "execution_count": 10,
   "id": "37fd9f03",
   "metadata": {
    "execution": {
     "iopub.execute_input": "2024-09-22T12:04:22.670238Z",
     "iopub.status.busy": "2024-09-22T12:04:22.669796Z",
     "iopub.status.idle": "2024-09-22T12:04:22.716179Z",
     "shell.execute_reply": "2024-09-22T12:04:22.714877Z"
    },
    "papermill": {
     "duration": 0.062385,
     "end_time": "2024-09-22T12:04:22.718782",
     "exception": false,
     "start_time": "2024-09-22T12:04:22.656397",
     "status": "completed"
    },
    "tags": []
   },
   "outputs": [
    {
     "name": "stdout",
     "output_type": "stream",
     "text": [
      "<class 'pandas.core.frame.DataFrame'>\n",
      "Index: 4072 entries, 3 to 41994\n",
      "Columns: 785 entries, label to pixel783\n",
      "dtypes: int64(785)\n",
      "memory usage: 24.4 MB\n"
     ]
    }
   ],
   "source": [
    "Fours.info()"
   ]
  },
  {
   "cell_type": "code",
   "execution_count": 11,
   "id": "ef61b017",
   "metadata": {
    "execution": {
     "iopub.execute_input": "2024-09-22T12:04:22.743724Z",
     "iopub.status.busy": "2024-09-22T12:04:22.743239Z",
     "iopub.status.idle": "2024-09-22T12:11:20.984294Z",
     "shell.execute_reply": "2024-09-22T12:11:20.983096Z"
    },
    "papermill": {
     "duration": 418.256666,
     "end_time": "2024-09-22T12:11:20.987023",
     "exception": false,
     "start_time": "2024-09-22T12:04:22.730357",
     "status": "completed"
    },
    "tags": []
   },
   "outputs": [],
   "source": [
    "j = 0\n",
    "for i in X_fours_data :\n",
    "    j = j + 1\n",
    "    print(j*100/len(y_fours_data))\n",
    "    t1 = shift(i.reshape(28,28),(1,-1))\n",
    "    t2 = shift(i.reshape(28,28),(1,1))\n",
    "    t3 = shift(i.reshape(28,28),(-1,1))\n",
    "    t4 = shift(i.reshape(28,28),(-1,-1))\n",
    "    t1 = np.insert(t1.reshape(1,-1),[0],4)\n",
    "    t2 = np.insert(t2.reshape(1,-1),[0],4)\n",
    "    t3 = np.insert(t3.reshape(1,-1),[0],4)\n",
    "    t4 = np.insert(t4.reshape(1,-1),[0],4)\n",
    "    t1 = pd.DataFrame(t1.reshape(1,785),index = [0],columns = train_data.columns)\n",
    "    t2 = pd.DataFrame(t2.reshape(1,785),index = [1],columns = train_data.columns)\n",
    "    t3 = pd.DataFrame(t3.reshape(1,785),index = [2],columns = train_data.columns)\n",
    "    t4 = pd.DataFrame(t4.reshape(1,785),index = [3],columns = train_data.columns)\n",
    "    t = pd.concat([t1,t2,t3,t4])\n",
    "    train_data = pd.concat([train_data,t])\n",
    "    clear_output()\n",
    "    "
   ]
  },
  {
   "cell_type": "code",
   "execution_count": 12,
   "id": "7913140c",
   "metadata": {
    "execution": {
     "iopub.execute_input": "2024-09-22T12:11:21.012268Z",
     "iopub.status.busy": "2024-09-22T12:11:21.011809Z",
     "iopub.status.idle": "2024-09-22T12:11:21.153075Z",
     "shell.execute_reply": "2024-09-22T12:11:21.151513Z"
    },
    "papermill": {
     "duration": 0.157087,
     "end_time": "2024-09-22T12:11:21.155797",
     "exception": false,
     "start_time": "2024-09-22T12:11:20.998710",
     "status": "completed"
    },
    "tags": []
   },
   "outputs": [],
   "source": [
    "X_train_data = np.array(train_data.iloc[:,1:])\n",
    "y_train_data = np.array(train_data.iloc[:,0])\n"
   ]
  },
  {
   "cell_type": "markdown",
   "id": "691d890f",
   "metadata": {
    "papermill": {
     "duration": 0.011229,
     "end_time": "2024-09-22T12:11:21.178733",
     "exception": false,
     "start_time": "2024-09-22T12:11:21.167504",
     "status": "completed"
    },
    "tags": []
   },
   "source": [
    "**Training and fine-tuning a Classifier:**"
   ]
  },
  {
   "cell_type": "code",
   "execution_count": 13,
   "id": "04f998b8",
   "metadata": {
    "execution": {
     "iopub.execute_input": "2024-09-22T12:11:21.203884Z",
     "iopub.status.busy": "2024-09-22T12:11:21.203357Z",
     "iopub.status.idle": "2024-09-22T12:11:21.208916Z",
     "shell.execute_reply": "2024-09-22T12:11:21.207739Z"
    },
    "papermill": {
     "duration": 0.021291,
     "end_time": "2024-09-22T12:11:21.211554",
     "exception": false,
     "start_time": "2024-09-22T12:11:21.190263",
     "status": "completed"
    },
    "tags": []
   },
   "outputs": [],
   "source": [
    "knn_pipline = Pipeline([(\"classifier\",KNeighborsClassifier(n_neighbors=5))])"
   ]
  },
  {
   "cell_type": "code",
   "execution_count": 14,
   "id": "4c9c9642",
   "metadata": {
    "execution": {
     "iopub.execute_input": "2024-09-22T12:11:21.236846Z",
     "iopub.status.busy": "2024-09-22T12:11:21.236343Z",
     "iopub.status.idle": "2024-09-22T12:11:21.241899Z",
     "shell.execute_reply": "2024-09-22T12:11:21.240736Z"
    },
    "papermill": {
     "duration": 0.021075,
     "end_time": "2024-09-22T12:11:21.244384",
     "exception": false,
     "start_time": "2024-09-22T12:11:21.223309",
     "status": "completed"
    },
    "tags": []
   },
   "outputs": [],
   "source": [
    "param_grid = [{'classifier__n_neighbors':[2,3,4,5,6],\n",
    "               'classifier__weights':['uniform','distance']}]"
   ]
  },
  {
   "cell_type": "code",
   "execution_count": 15,
   "id": "61abf51b",
   "metadata": {
    "execution": {
     "iopub.execute_input": "2024-09-22T12:11:21.270170Z",
     "iopub.status.busy": "2024-09-22T12:11:21.269413Z",
     "iopub.status.idle": "2024-09-22T12:11:21.274823Z",
     "shell.execute_reply": "2024-09-22T12:11:21.273752Z"
    },
    "papermill": {
     "duration": 0.020955,
     "end_time": "2024-09-22T12:11:21.277111",
     "exception": false,
     "start_time": "2024-09-22T12:11:21.256156",
     "status": "completed"
    },
    "tags": []
   },
   "outputs": [],
   "source": [
    "grid_search = GridSearchCV(knn_pipline,param_grid,cv=3,scoring = \"accuracy\")"
   ]
  },
  {
   "cell_type": "code",
   "execution_count": 16,
   "id": "2d221948",
   "metadata": {
    "execution": {
     "iopub.execute_input": "2024-09-22T12:11:21.302371Z",
     "iopub.status.busy": "2024-09-22T12:11:21.301915Z",
     "iopub.status.idle": "2024-09-22T12:27:17.429270Z",
     "shell.execute_reply": "2024-09-22T12:27:17.428173Z"
    },
    "papermill": {
     "duration": 956.154846,
     "end_time": "2024-09-22T12:27:17.443594",
     "exception": false,
     "start_time": "2024-09-22T12:11:21.288748",
     "status": "completed"
    },
    "tags": []
   },
   "outputs": [
    {
     "data": {
      "text/html": [
       "<style>#sk-container-id-1 {color: black;background-color: white;}#sk-container-id-1 pre{padding: 0;}#sk-container-id-1 div.sk-toggleable {background-color: white;}#sk-container-id-1 label.sk-toggleable__label {cursor: pointer;display: block;width: 100%;margin-bottom: 0;padding: 0.3em;box-sizing: border-box;text-align: center;}#sk-container-id-1 label.sk-toggleable__label-arrow:before {content: \"▸\";float: left;margin-right: 0.25em;color: #696969;}#sk-container-id-1 label.sk-toggleable__label-arrow:hover:before {color: black;}#sk-container-id-1 div.sk-estimator:hover label.sk-toggleable__label-arrow:before {color: black;}#sk-container-id-1 div.sk-toggleable__content {max-height: 0;max-width: 0;overflow: hidden;text-align: left;background-color: #f0f8ff;}#sk-container-id-1 div.sk-toggleable__content pre {margin: 0.2em;color: black;border-radius: 0.25em;background-color: #f0f8ff;}#sk-container-id-1 input.sk-toggleable__control:checked~div.sk-toggleable__content {max-height: 200px;max-width: 100%;overflow: auto;}#sk-container-id-1 input.sk-toggleable__control:checked~label.sk-toggleable__label-arrow:before {content: \"▾\";}#sk-container-id-1 div.sk-estimator input.sk-toggleable__control:checked~label.sk-toggleable__label {background-color: #d4ebff;}#sk-container-id-1 div.sk-label input.sk-toggleable__control:checked~label.sk-toggleable__label {background-color: #d4ebff;}#sk-container-id-1 input.sk-hidden--visually {border: 0;clip: rect(1px 1px 1px 1px);clip: rect(1px, 1px, 1px, 1px);height: 1px;margin: -1px;overflow: hidden;padding: 0;position: absolute;width: 1px;}#sk-container-id-1 div.sk-estimator {font-family: monospace;background-color: #f0f8ff;border: 1px dotted black;border-radius: 0.25em;box-sizing: border-box;margin-bottom: 0.5em;}#sk-container-id-1 div.sk-estimator:hover {background-color: #d4ebff;}#sk-container-id-1 div.sk-parallel-item::after {content: \"\";width: 100%;border-bottom: 1px solid gray;flex-grow: 1;}#sk-container-id-1 div.sk-label:hover label.sk-toggleable__label {background-color: #d4ebff;}#sk-container-id-1 div.sk-serial::before {content: \"\";position: absolute;border-left: 1px solid gray;box-sizing: border-box;top: 0;bottom: 0;left: 50%;z-index: 0;}#sk-container-id-1 div.sk-serial {display: flex;flex-direction: column;align-items: center;background-color: white;padding-right: 0.2em;padding-left: 0.2em;position: relative;}#sk-container-id-1 div.sk-item {position: relative;z-index: 1;}#sk-container-id-1 div.sk-parallel {display: flex;align-items: stretch;justify-content: center;background-color: white;position: relative;}#sk-container-id-1 div.sk-item::before, #sk-container-id-1 div.sk-parallel-item::before {content: \"\";position: absolute;border-left: 1px solid gray;box-sizing: border-box;top: 0;bottom: 0;left: 50%;z-index: -1;}#sk-container-id-1 div.sk-parallel-item {display: flex;flex-direction: column;z-index: 1;position: relative;background-color: white;}#sk-container-id-1 div.sk-parallel-item:first-child::after {align-self: flex-end;width: 50%;}#sk-container-id-1 div.sk-parallel-item:last-child::after {align-self: flex-start;width: 50%;}#sk-container-id-1 div.sk-parallel-item:only-child::after {width: 0;}#sk-container-id-1 div.sk-dashed-wrapped {border: 1px dashed gray;margin: 0 0.4em 0.5em 0.4em;box-sizing: border-box;padding-bottom: 0.4em;background-color: white;}#sk-container-id-1 div.sk-label label {font-family: monospace;font-weight: bold;display: inline-block;line-height: 1.2em;}#sk-container-id-1 div.sk-label-container {text-align: center;}#sk-container-id-1 div.sk-container {/* jupyter's `normalize.less` sets `[hidden] { display: none; }` but bootstrap.min.css set `[hidden] { display: none !important; }` so we also need the `!important` here to be able to override the default hidden behavior on the sphinx rendered scikit-learn.org. See: https://github.com/scikit-learn/scikit-learn/issues/21755 */display: inline-block !important;position: relative;}#sk-container-id-1 div.sk-text-repr-fallback {display: none;}</style><div id=\"sk-container-id-1\" class=\"sk-top-container\"><div class=\"sk-text-repr-fallback\"><pre>GridSearchCV(cv=3,\n",
       "             estimator=Pipeline(steps=[(&#x27;classifier&#x27;, KNeighborsClassifier())]),\n",
       "             param_grid=[{&#x27;classifier__n_neighbors&#x27;: [2, 3, 4, 5, 6],\n",
       "                          &#x27;classifier__weights&#x27;: [&#x27;uniform&#x27;, &#x27;distance&#x27;]}],\n",
       "             scoring=&#x27;accuracy&#x27;)</pre><b>In a Jupyter environment, please rerun this cell to show the HTML representation or trust the notebook. <br />On GitHub, the HTML representation is unable to render, please try loading this page with nbviewer.org.</b></div><div class=\"sk-container\" hidden><div class=\"sk-item sk-dashed-wrapped\"><div class=\"sk-label-container\"><div class=\"sk-label sk-toggleable\"><input class=\"sk-toggleable__control sk-hidden--visually\" id=\"sk-estimator-id-1\" type=\"checkbox\" ><label for=\"sk-estimator-id-1\" class=\"sk-toggleable__label sk-toggleable__label-arrow\">GridSearchCV</label><div class=\"sk-toggleable__content\"><pre>GridSearchCV(cv=3,\n",
       "             estimator=Pipeline(steps=[(&#x27;classifier&#x27;, KNeighborsClassifier())]),\n",
       "             param_grid=[{&#x27;classifier__n_neighbors&#x27;: [2, 3, 4, 5, 6],\n",
       "                          &#x27;classifier__weights&#x27;: [&#x27;uniform&#x27;, &#x27;distance&#x27;]}],\n",
       "             scoring=&#x27;accuracy&#x27;)</pre></div></div></div><div class=\"sk-parallel\"><div class=\"sk-parallel-item\"><div class=\"sk-item\"><div class=\"sk-label-container\"><div class=\"sk-label sk-toggleable\"><input class=\"sk-toggleable__control sk-hidden--visually\" id=\"sk-estimator-id-2\" type=\"checkbox\" ><label for=\"sk-estimator-id-2\" class=\"sk-toggleable__label sk-toggleable__label-arrow\">estimator: Pipeline</label><div class=\"sk-toggleable__content\"><pre>Pipeline(steps=[(&#x27;classifier&#x27;, KNeighborsClassifier())])</pre></div></div></div><div class=\"sk-serial\"><div class=\"sk-item\"><div class=\"sk-serial\"><div class=\"sk-item\"><div class=\"sk-estimator sk-toggleable\"><input class=\"sk-toggleable__control sk-hidden--visually\" id=\"sk-estimator-id-3\" type=\"checkbox\" ><label for=\"sk-estimator-id-3\" class=\"sk-toggleable__label sk-toggleable__label-arrow\">KNeighborsClassifier</label><div class=\"sk-toggleable__content\"><pre>KNeighborsClassifier()</pre></div></div></div></div></div></div></div></div></div></div></div></div>"
      ],
      "text/plain": [
       "GridSearchCV(cv=3,\n",
       "             estimator=Pipeline(steps=[('classifier', KNeighborsClassifier())]),\n",
       "             param_grid=[{'classifier__n_neighbors': [2, 3, 4, 5, 6],\n",
       "                          'classifier__weights': ['uniform', 'distance']}],\n",
       "             scoring='accuracy')"
      ]
     },
     "execution_count": 16,
     "metadata": {},
     "output_type": "execute_result"
    }
   ],
   "source": [
    "grid_search.fit(X_train_data,y_train_data)"
   ]
  },
  {
   "cell_type": "code",
   "execution_count": 17,
   "id": "c69d540c",
   "metadata": {
    "execution": {
     "iopub.execute_input": "2024-09-22T12:27:17.468564Z",
     "iopub.status.busy": "2024-09-22T12:27:17.467622Z",
     "iopub.status.idle": "2024-09-22T12:27:17.474608Z",
     "shell.execute_reply": "2024-09-22T12:27:17.473615Z"
    },
    "papermill": {
     "duration": 0.022014,
     "end_time": "2024-09-22T12:27:17.477017",
     "exception": false,
     "start_time": "2024-09-22T12:27:17.455003",
     "status": "completed"
    },
    "tags": []
   },
   "outputs": [
    {
     "data": {
      "text/plain": [
       "{'classifier__n_neighbors': 4, 'classifier__weights': 'distance'}"
      ]
     },
     "execution_count": 17,
     "metadata": {},
     "output_type": "execute_result"
    }
   ],
   "source": [
    "grid_search.best_params_"
   ]
  },
  {
   "cell_type": "code",
   "execution_count": 18,
   "id": "e1135454",
   "metadata": {
    "execution": {
     "iopub.execute_input": "2024-09-22T12:27:17.501778Z",
     "iopub.status.busy": "2024-09-22T12:27:17.501012Z",
     "iopub.status.idle": "2024-09-22T12:27:17.529014Z",
     "shell.execute_reply": "2024-09-22T12:27:17.527919Z"
    },
    "papermill": {
     "duration": 0.043209,
     "end_time": "2024-09-22T12:27:17.531411",
     "exception": false,
     "start_time": "2024-09-22T12:27:17.488202",
     "status": "completed"
    },
    "tags": []
   },
   "outputs": [
    {
     "data": {
      "text/html": [
       "<div>\n",
       "<style scoped>\n",
       "    .dataframe tbody tr th:only-of-type {\n",
       "        vertical-align: middle;\n",
       "    }\n",
       "\n",
       "    .dataframe tbody tr th {\n",
       "        vertical-align: top;\n",
       "    }\n",
       "\n",
       "    .dataframe thead th {\n",
       "        text-align: right;\n",
       "    }\n",
       "</style>\n",
       "<table border=\"1\" class=\"dataframe\">\n",
       "  <thead>\n",
       "    <tr style=\"text-align: right;\">\n",
       "      <th></th>\n",
       "      <th>mean_fit_time</th>\n",
       "      <th>std_fit_time</th>\n",
       "      <th>mean_score_time</th>\n",
       "      <th>std_score_time</th>\n",
       "      <th>param_classifier__n_neighbors</th>\n",
       "      <th>param_classifier__weights</th>\n",
       "      <th>params</th>\n",
       "      <th>split0_test_score</th>\n",
       "      <th>split1_test_score</th>\n",
       "      <th>split2_test_score</th>\n",
       "      <th>mean_test_score</th>\n",
       "      <th>std_test_score</th>\n",
       "      <th>rank_test_score</th>\n",
       "    </tr>\n",
       "  </thead>\n",
       "  <tbody>\n",
       "    <tr>\n",
       "      <th>5</th>\n",
       "      <td>0.185976</td>\n",
       "      <td>0.004228</td>\n",
       "      <td>32.052911</td>\n",
       "      <td>0.854982</td>\n",
       "      <td>4</td>\n",
       "      <td>distance</td>\n",
       "      <td>{'classifier__n_neighbors': 4, 'classifier__we...</td>\n",
       "      <td>0.969274</td>\n",
       "      <td>0.972567</td>\n",
       "      <td>0.974471</td>\n",
       "      <td>0.972104</td>\n",
       "      <td>0.002147</td>\n",
       "      <td>1</td>\n",
       "    </tr>\n",
       "    <tr>\n",
       "      <th>3</th>\n",
       "      <td>0.186878</td>\n",
       "      <td>0.004087</td>\n",
       "      <td>31.034482</td>\n",
       "      <td>0.353511</td>\n",
       "      <td>3</td>\n",
       "      <td>distance</td>\n",
       "      <td>{'classifier__n_neighbors': 3, 'classifier__we...</td>\n",
       "      <td>0.968296</td>\n",
       "      <td>0.971229</td>\n",
       "      <td>0.973442</td>\n",
       "      <td>0.970989</td>\n",
       "      <td>0.002107</td>\n",
       "      <td>2</td>\n",
       "    </tr>\n",
       "    <tr>\n",
       "      <th>9</th>\n",
       "      <td>0.184350</td>\n",
       "      <td>0.005439</td>\n",
       "      <td>31.087419</td>\n",
       "      <td>1.298837</td>\n",
       "      <td>6</td>\n",
       "      <td>distance</td>\n",
       "      <td>{'classifier__n_neighbors': 6, 'classifier__we...</td>\n",
       "      <td>0.968554</td>\n",
       "      <td>0.970765</td>\n",
       "      <td>0.972824</td>\n",
       "      <td>0.970714</td>\n",
       "      <td>0.001744</td>\n",
       "      <td>3</td>\n",
       "    </tr>\n",
       "    <tr>\n",
       "      <th>2</th>\n",
       "      <td>0.186359</td>\n",
       "      <td>0.005355</td>\n",
       "      <td>31.935260</td>\n",
       "      <td>0.185332</td>\n",
       "      <td>3</td>\n",
       "      <td>uniform</td>\n",
       "      <td>{'classifier__n_neighbors': 3, 'classifier__we...</td>\n",
       "      <td>0.967936</td>\n",
       "      <td>0.970354</td>\n",
       "      <td>0.972001</td>\n",
       "      <td>0.970097</td>\n",
       "      <td>0.001669</td>\n",
       "      <td>4</td>\n",
       "    </tr>\n",
       "    <tr>\n",
       "      <th>1</th>\n",
       "      <td>0.186517</td>\n",
       "      <td>0.003557</td>\n",
       "      <td>29.100150</td>\n",
       "      <td>0.530549</td>\n",
       "      <td>2</td>\n",
       "      <td>distance</td>\n",
       "      <td>{'classifier__n_neighbors': 2, 'classifier__we...</td>\n",
       "      <td>0.965157</td>\n",
       "      <td>0.970765</td>\n",
       "      <td>0.973133</td>\n",
       "      <td>0.969685</td>\n",
       "      <td>0.003345</td>\n",
       "      <td>5</td>\n",
       "    </tr>\n",
       "    <tr>\n",
       "      <th>7</th>\n",
       "      <td>0.186497</td>\n",
       "      <td>0.003537</td>\n",
       "      <td>32.045974</td>\n",
       "      <td>0.937030</td>\n",
       "      <td>5</td>\n",
       "      <td>distance</td>\n",
       "      <td>{'classifier__n_neighbors': 5, 'classifier__we...</td>\n",
       "      <td>0.966958</td>\n",
       "      <td>0.969736</td>\n",
       "      <td>0.972155</td>\n",
       "      <td>0.969616</td>\n",
       "      <td>0.002123</td>\n",
       "      <td>6</td>\n",
       "    </tr>\n",
       "    <tr>\n",
       "      <th>6</th>\n",
       "      <td>0.186397</td>\n",
       "      <td>0.003171</td>\n",
       "      <td>33.104610</td>\n",
       "      <td>0.376684</td>\n",
       "      <td>5</td>\n",
       "      <td>uniform</td>\n",
       "      <td>{'classifier__n_neighbors': 5, 'classifier__we...</td>\n",
       "      <td>0.966341</td>\n",
       "      <td>0.968707</td>\n",
       "      <td>0.970508</td>\n",
       "      <td>0.968518</td>\n",
       "      <td>0.001706</td>\n",
       "      <td>7</td>\n",
       "    </tr>\n",
       "    <tr>\n",
       "      <th>4</th>\n",
       "      <td>0.187811</td>\n",
       "      <td>0.004572</td>\n",
       "      <td>33.176015</td>\n",
       "      <td>0.353091</td>\n",
       "      <td>4</td>\n",
       "      <td>uniform</td>\n",
       "      <td>{'classifier__n_neighbors': 4, 'classifier__we...</td>\n",
       "      <td>0.967730</td>\n",
       "      <td>0.966802</td>\n",
       "      <td>0.968655</td>\n",
       "      <td>0.967729</td>\n",
       "      <td>0.000756</td>\n",
       "      <td>8</td>\n",
       "    </tr>\n",
       "    <tr>\n",
       "      <th>8</th>\n",
       "      <td>0.185547</td>\n",
       "      <td>0.001861</td>\n",
       "      <td>33.178936</td>\n",
       "      <td>0.340546</td>\n",
       "      <td>6</td>\n",
       "      <td>uniform</td>\n",
       "      <td>{'classifier__n_neighbors': 6, 'classifier__we...</td>\n",
       "      <td>0.965672</td>\n",
       "      <td>0.966339</td>\n",
       "      <td>0.968346</td>\n",
       "      <td>0.966786</td>\n",
       "      <td>0.001137</td>\n",
       "      <td>9</td>\n",
       "    </tr>\n",
       "    <tr>\n",
       "      <th>0</th>\n",
       "      <td>0.195015</td>\n",
       "      <td>0.019351</td>\n",
       "      <td>30.033738</td>\n",
       "      <td>0.321566</td>\n",
       "      <td>2</td>\n",
       "      <td>uniform</td>\n",
       "      <td>{'classifier__n_neighbors': 2, 'classifier__we...</td>\n",
       "      <td>0.964385</td>\n",
       "      <td>0.964023</td>\n",
       "      <td>0.963817</td>\n",
       "      <td>0.964075</td>\n",
       "      <td>0.000235</td>\n",
       "      <td>10</td>\n",
       "    </tr>\n",
       "  </tbody>\n",
       "</table>\n",
       "</div>"
      ],
      "text/plain": [
       "   mean_fit_time  std_fit_time  mean_score_time  std_score_time  \\\n",
       "5       0.185976      0.004228        32.052911        0.854982   \n",
       "3       0.186878      0.004087        31.034482        0.353511   \n",
       "9       0.184350      0.005439        31.087419        1.298837   \n",
       "2       0.186359      0.005355        31.935260        0.185332   \n",
       "1       0.186517      0.003557        29.100150        0.530549   \n",
       "7       0.186497      0.003537        32.045974        0.937030   \n",
       "6       0.186397      0.003171        33.104610        0.376684   \n",
       "4       0.187811      0.004572        33.176015        0.353091   \n",
       "8       0.185547      0.001861        33.178936        0.340546   \n",
       "0       0.195015      0.019351        30.033738        0.321566   \n",
       "\n",
       "  param_classifier__n_neighbors param_classifier__weights  \\\n",
       "5                             4                  distance   \n",
       "3                             3                  distance   \n",
       "9                             6                  distance   \n",
       "2                             3                   uniform   \n",
       "1                             2                  distance   \n",
       "7                             5                  distance   \n",
       "6                             5                   uniform   \n",
       "4                             4                   uniform   \n",
       "8                             6                   uniform   \n",
       "0                             2                   uniform   \n",
       "\n",
       "                                              params  split0_test_score  \\\n",
       "5  {'classifier__n_neighbors': 4, 'classifier__we...           0.969274   \n",
       "3  {'classifier__n_neighbors': 3, 'classifier__we...           0.968296   \n",
       "9  {'classifier__n_neighbors': 6, 'classifier__we...           0.968554   \n",
       "2  {'classifier__n_neighbors': 3, 'classifier__we...           0.967936   \n",
       "1  {'classifier__n_neighbors': 2, 'classifier__we...           0.965157   \n",
       "7  {'classifier__n_neighbors': 5, 'classifier__we...           0.966958   \n",
       "6  {'classifier__n_neighbors': 5, 'classifier__we...           0.966341   \n",
       "4  {'classifier__n_neighbors': 4, 'classifier__we...           0.967730   \n",
       "8  {'classifier__n_neighbors': 6, 'classifier__we...           0.965672   \n",
       "0  {'classifier__n_neighbors': 2, 'classifier__we...           0.964385   \n",
       "\n",
       "   split1_test_score  split2_test_score  mean_test_score  std_test_score  \\\n",
       "5           0.972567           0.974471         0.972104        0.002147   \n",
       "3           0.971229           0.973442         0.970989        0.002107   \n",
       "9           0.970765           0.972824         0.970714        0.001744   \n",
       "2           0.970354           0.972001         0.970097        0.001669   \n",
       "1           0.970765           0.973133         0.969685        0.003345   \n",
       "7           0.969736           0.972155         0.969616        0.002123   \n",
       "6           0.968707           0.970508         0.968518        0.001706   \n",
       "4           0.966802           0.968655         0.967729        0.000756   \n",
       "8           0.966339           0.968346         0.966786        0.001137   \n",
       "0           0.964023           0.963817         0.964075        0.000235   \n",
       "\n",
       "   rank_test_score  \n",
       "5                1  \n",
       "3                2  \n",
       "9                3  \n",
       "2                4  \n",
       "1                5  \n",
       "7                6  \n",
       "6                7  \n",
       "4                8  \n",
       "8                9  \n",
       "0               10  "
      ]
     },
     "execution_count": 18,
     "metadata": {},
     "output_type": "execute_result"
    }
   ],
   "source": [
    "cv_res = pd.DataFrame(grid_search.cv_results_)\n",
    "cv_res.sort_values(by=\"mean_test_score\",ascending=False,inplace=True)\n",
    "cv_res"
   ]
  },
  {
   "cell_type": "markdown",
   "id": "7014c923",
   "metadata": {
    "papermill": {
     "duration": 0.011579,
     "end_time": "2024-09-22T12:27:17.555146",
     "exception": false,
     "start_time": "2024-09-22T12:27:17.543567",
     "status": "completed"
    },
    "tags": []
   },
   "source": [
    "**Performance Measures:** "
   ]
  },
  {
   "cell_type": "code",
   "execution_count": 19,
   "id": "516f21c9",
   "metadata": {
    "execution": {
     "iopub.execute_input": "2024-09-22T12:27:17.581845Z",
     "iopub.status.busy": "2024-09-22T12:27:17.581370Z",
     "iopub.status.idle": "2024-09-22T12:27:17.587168Z",
     "shell.execute_reply": "2024-09-22T12:27:17.585867Z"
    },
    "papermill": {
     "duration": 0.02251,
     "end_time": "2024-09-22T12:27:17.589979",
     "exception": false,
     "start_time": "2024-09-22T12:27:17.567469",
     "status": "completed"
    },
    "tags": []
   },
   "outputs": [],
   "source": [
    "#cross_val_score(grid_search,X_train_data,y_train_data,cv=3,scoring = \"accuracy\" )"
   ]
  },
  {
   "cell_type": "code",
   "execution_count": 20,
   "id": "5532017c",
   "metadata": {
    "execution": {
     "iopub.execute_input": "2024-09-22T12:27:17.619433Z",
     "iopub.status.busy": "2024-09-22T12:27:17.618436Z",
     "iopub.status.idle": "2024-09-22T12:50:26.563181Z",
     "shell.execute_reply": "2024-09-22T12:50:26.561938Z"
    },
    "papermill": {
     "duration": 1388.961304,
     "end_time": "2024-09-22T12:50:26.566124",
     "exception": false,
     "start_time": "2024-09-22T12:27:17.604820",
     "status": "completed"
    },
    "tags": []
   },
   "outputs": [],
   "source": [
    "y_train_predict = cross_val_predict(grid_search,X_train_data,y_train_data,cv=3 )"
   ]
  },
  {
   "cell_type": "code",
   "execution_count": 21,
   "id": "a63dd23d",
   "metadata": {
    "execution": {
     "iopub.execute_input": "2024-09-22T12:50:26.594597Z",
     "iopub.status.busy": "2024-09-22T12:50:26.593419Z",
     "iopub.status.idle": "2024-09-22T12:50:27.151278Z",
     "shell.execute_reply": "2024-09-22T12:50:27.150014Z"
    },
    "papermill": {
     "duration": 0.574769,
     "end_time": "2024-09-22T12:50:27.153970",
     "exception": false,
     "start_time": "2024-09-22T12:50:26.579201",
     "status": "completed"
    },
    "tags": []
   },
   "outputs": [
    {
     "data": {
      "image/png": "[encoded data removed]",
      "text/plain": [
       "<Figure size 640x480 with 2 Axes>"
      ]
     },
     "metadata": {},
     "output_type": "display_data"
    }
   ],
   "source": [
    "ConfusionMatrixDisplay.from_predictions(y_train_predict,np.array(train_data.iloc[:,0]),normalize=\"true\",values_format=\".0%\")\n",
    "plt.show()"
   ]
  },
  {
   "cell_type": "code",
   "execution_count": 22,
   "id": "a571e043",
   "metadata": {
    "execution": {
     "iopub.execute_input": "2024-09-22T12:50:27.183313Z",
     "iopub.status.busy": "2024-09-22T12:50:27.182864Z",
     "iopub.status.idle": "2024-09-22T12:50:27.761278Z",
     "shell.execute_reply": "2024-09-22T12:50:27.759793Z"
    },
    "papermill": {
     "duration": 0.597599,
     "end_time": "2024-09-22T12:50:27.765416",
     "exception": false,
     "start_time": "2024-09-22T12:50:27.167817",
     "status": "completed"
    },
    "tags": []
   },
   "outputs": [
    {
     "data": {
      "image/png": "[encoded data removed]",
      "text/plain": [
       "<Figure size 640x480 with 2 Axes>"
      ]
     },
     "metadata": {},
     "output_type": "display_data"
    }
   ],
   "source": [
    "sample_weight = (y_train_predict != np.array(train_data.iloc[:,0]))\n",
    "ConfusionMatrixDisplay.from_predictions(np.array(train_data.iloc[:,0]),y_train_predict,sample_weight=sample_weight,normalize=\"true\",values_format=\".0%\")\n",
    "plt.show()"
   ]
  },
  {
   "cell_type": "markdown",
   "id": "da042bd5",
   "metadata": {
    "papermill": {
     "duration": 0.015594,
     "end_time": "2024-09-22T12:50:27.803455",
     "exception": false,
     "start_time": "2024-09-22T12:50:27.787861",
     "status": "completed"
    },
    "tags": []
   },
   "source": [
    "**Evaluation :**"
   ]
  },
  {
   "cell_type": "code",
   "execution_count": 23,
   "id": "455b1437",
   "metadata": {
    "execution": {
     "iopub.execute_input": "2024-09-22T12:50:27.836026Z",
     "iopub.status.busy": "2024-09-22T12:50:27.835134Z",
     "iopub.status.idle": "2024-09-22T12:51:39.927304Z",
     "shell.execute_reply": "2024-09-22T12:51:39.926238Z"
    },
    "papermill": {
     "duration": 72.111158,
     "end_time": "2024-09-22T12:51:39.930050",
     "exception": false,
     "start_time": "2024-09-22T12:50:27.818892",
     "status": "completed"
    },
    "tags": []
   },
   "outputs": [
    {
     "name": "stderr",
     "output_type": "stream",
     "text": [
      "/opt/conda/lib/python3.10/site-packages/sklearn/base.py:432: UserWarning: X has feature names, but KNeighborsClassifier was fitted without feature names\n",
      "  warnings.warn(\n"
     ]
    }
   ],
   "source": [
    "final_evaluation = grid_search.predict(test_data)"
   ]
  },
  {
   "cell_type": "code",
   "execution_count": 24,
   "id": "1fb7f7f9",
   "metadata": {
    "execution": {
     "iopub.execute_input": "2024-09-22T12:51:39.962641Z",
     "iopub.status.busy": "2024-09-22T12:51:39.962191Z",
     "iopub.status.idle": "2024-09-22T12:51:39.976559Z",
     "shell.execute_reply": "2024-09-22T12:51:39.975268Z"
    },
    "papermill": {
     "duration": 0.034152,
     "end_time": "2024-09-22T12:51:39.979134",
     "exception": false,
     "start_time": "2024-09-22T12:51:39.944982",
     "status": "completed"
    },
    "tags": []
   },
   "outputs": [
    {
     "data": {
      "text/html": [
       "<div>\n",
       "<style scoped>\n",
       "    .dataframe tbody tr th:only-of-type {\n",
       "        vertical-align: middle;\n",
       "    }\n",
       "\n",
       "    .dataframe tbody tr th {\n",
       "        vertical-align: top;\n",
       "    }\n",
       "\n",
       "    .dataframe thead th {\n",
       "        text-align: right;\n",
       "    }\n",
       "</style>\n",
       "<table border=\"1\" class=\"dataframe\">\n",
       "  <thead>\n",
       "    <tr style=\"text-align: right;\">\n",
       "      <th></th>\n",
       "      <th>ImageId</th>\n",
       "      <th>Label</th>\n",
       "    </tr>\n",
       "  </thead>\n",
       "  <tbody>\n",
       "    <tr>\n",
       "      <th>0</th>\n",
       "      <td>1</td>\n",
       "      <td>2</td>\n",
       "    </tr>\n",
       "    <tr>\n",
       "      <th>1</th>\n",
       "      <td>2</td>\n",
       "      <td>0</td>\n",
       "    </tr>\n",
       "    <tr>\n",
       "      <th>2</th>\n",
       "      <td>3</td>\n",
       "      <td>9</td>\n",
       "    </tr>\n",
       "    <tr>\n",
       "      <th>3</th>\n",
       "      <td>4</td>\n",
       "      <td>9</td>\n",
       "    </tr>\n",
       "    <tr>\n",
       "      <th>4</th>\n",
       "      <td>5</td>\n",
       "      <td>3</td>\n",
       "    </tr>\n",
       "    <tr>\n",
       "      <th>...</th>\n",
       "      <td>...</td>\n",
       "      <td>...</td>\n",
       "    </tr>\n",
       "    <tr>\n",
       "      <th>27995</th>\n",
       "      <td>27996</td>\n",
       "      <td>9</td>\n",
       "    </tr>\n",
       "    <tr>\n",
       "      <th>27996</th>\n",
       "      <td>27997</td>\n",
       "      <td>7</td>\n",
       "    </tr>\n",
       "    <tr>\n",
       "      <th>27997</th>\n",
       "      <td>27998</td>\n",
       "      <td>3</td>\n",
       "    </tr>\n",
       "    <tr>\n",
       "      <th>27998</th>\n",
       "      <td>27999</td>\n",
       "      <td>9</td>\n",
       "    </tr>\n",
       "    <tr>\n",
       "      <th>27999</th>\n",
       "      <td>28000</td>\n",
       "      <td>2</td>\n",
       "    </tr>\n",
       "  </tbody>\n",
       "</table>\n",
       "<p>28000 rows × 2 columns</p>\n",
       "</div>"
      ],
      "text/plain": [
       "       ImageId  Label\n",
       "0            1      2\n",
       "1            2      0\n",
       "2            3      9\n",
       "3            4      9\n",
       "4            5      3\n",
       "...        ...    ...\n",
       "27995    27996      9\n",
       "27996    27997      7\n",
       "27997    27998      3\n",
       "27998    27999      9\n",
       "27999    28000      2\n",
       "\n",
       "[28000 rows x 2 columns]"
      ]
     },
     "execution_count": 24,
     "metadata": {},
     "output_type": "execute_result"
    }
   ],
   "source": [
    "d = {'ImageId':np.arange(28000) + 1,'Label':final_evaluation}\n",
    "df = pd.DataFrame(data=d)\n",
    "df"
   ]
  },
  {
   "cell_type": "code",
   "execution_count": 25,
   "id": "66eae2e2",
   "metadata": {
    "execution": {
     "iopub.execute_input": "2024-09-22T12:51:40.010897Z",
     "iopub.status.busy": "2024-09-22T12:51:40.010424Z",
     "iopub.status.idle": "2024-09-22T12:51:40.056054Z",
     "shell.execute_reply": "2024-09-22T12:51:40.054743Z"
    },
    "papermill": {
     "duration": 0.064818,
     "end_time": "2024-09-22T12:51:40.058969",
     "exception": false,
     "start_time": "2024-09-22T12:51:39.994151",
     "status": "completed"
    },
    "tags": []
   },
   "outputs": [],
   "source": [
    "df.to_csv('out.csv',index=False)"
   ]
  }
 ],
 "metadata": {
  "kaggle": {
   "accelerator": "none",
   "dataSources": [
    {
     "databundleVersionId": 861823,
     "sourceId": 3004,
     "sourceType": "competition"
    }
   ],
   "dockerImageVersionId": 30761,
   "isGpuEnabled": false,
   "isInternetEnabled": false,
   "language": "python",
   "sourceType": "notebook"
  },
  "kernelspec": {
   "display_name": "Python 3",
   "language": "python",
   "name": "python3"
  },
  "language_info": {
   "codemirror_mode": {
    "name": "ipython",
    "version": 3
   },
   "file_extension": ".py",
   "mimetype": "text/x-python",
   "name": "python",
   "nbconvert_exporter": "python",
   "pygments_lexer": "ipython3",
   "version": "3.10.14"
  },
  "papermill": {
   "default_parameters": {},
   "duration": 2852.890994,
   "end_time": "2024-09-22T12:51:40.797722",
   "environment_variables": {},
   "exception": null,
   "input_path": "__notebook__.ipynb",
   "output_path": "__notebook__.ipynb",
   "parameters": {},
   "start_time": "2024-09-22T12:04:07.906728",
   "version": "2.6.0"
  }
 },
 "nbformat": 4,
 "nbformat_minor": 5
}
