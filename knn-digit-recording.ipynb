{
 "cells": [
  {
   "cell_type": "markdown",
   "id": "451884e3",
   "metadata": {
    "papermill": {
     "duration": 0.011869,
     "end_time": "2024-10-07T09:07:06.719144",
     "exception": false,
     "start_time": "2024-10-07T09:07:06.707275",
     "status": "completed"
    },
    "tags": []
   },
   "source": [
    "**Importing Libraries:**"
   ]
  },
  {
   "cell_type": "code",
   "execution_count": 1,
   "id": "0154c5c0",
   "metadata": {
    "execution": {
     "iopub.execute_input": "2024-10-07T09:07:06.743717Z",
     "iopub.status.busy": "2024-10-07T09:07:06.743252Z",
     "iopub.status.idle": "2024-10-07T09:07:09.459995Z",
     "shell.execute_reply": "2024-10-07T09:07:09.458888Z"
    },
    "papermill": {
     "duration": 2.731852,
     "end_time": "2024-10-07T09:07:09.462577",
     "exception": false,
     "start_time": "2024-10-07T09:07:06.730725",
     "status": "completed"
    },
    "tags": []
   },
   "outputs": [
    {
     "name": "stderr",
     "output_type": "stream",
     "text": [
      "/tmp/ipykernel_17/2319341015.py:12: DeprecationWarning: Please import `shift` from the `scipy.ndimage` namespace; the `scipy.ndimage.interpolation` namespace is deprecated and will be removed in SciPy 2.0.0.\n",
      "  from scipy.ndimage.interpolation import shift\n"
     ]
    }
   ],
   "source": [
    "import numpy as np\n",
    "import pandas as pd\n",
    "import os\n",
    "from pathlib import Path\n",
    "import matplotlib.pyplot as plt\n",
    "from sklearn.neighbors import KNeighborsClassifier\n",
    "from sklearn.model_selection import cross_val_score\n",
    "from sklearn.model_selection import cross_val_predict\n",
    "from sklearn.metrics import ConfusionMatrixDisplay\n",
    "from sklearn.pipeline import Pipeline\n",
    "from sklearn.model_selection import GridSearchCV\n",
    "from scipy.ndimage.interpolation import shift\n",
    "from IPython.display import clear_output\n",
    "import PIL"
   ]
  },
  {
   "cell_type": "markdown",
   "id": "2881b57a",
   "metadata": {
    "papermill": {
     "duration": 0.010997,
     "end_time": "2024-10-07T09:07:09.484978",
     "exception": false,
     "start_time": "2024-10-07T09:07:09.473981",
     "status": "completed"
    },
    "tags": []
   },
   "source": [
    "**Listing files under input directory:**"
   ]
  },
  {
   "cell_type": "code",
   "execution_count": 2,
   "id": "5c344a54",
   "metadata": {
    "execution": {
     "iopub.execute_input": "2024-10-07T09:07:09.509526Z",
     "iopub.status.busy": "2024-10-07T09:07:09.508899Z",
     "iopub.status.idle": "2024-10-07T09:07:09.516375Z",
     "shell.execute_reply": "2024-10-07T09:07:09.515314Z"
    },
    "papermill": {
     "duration": 0.022858,
     "end_time": "2024-10-07T09:07:09.519107",
     "exception": false,
     "start_time": "2024-10-07T09:07:09.496249",
     "status": "completed"
    },
    "tags": []
   },
   "outputs": [
    {
     "name": "stdout",
     "output_type": "stream",
     "text": [
      "/kaggle/input/digit-recognizer/sample_submission.csv\n",
      "/kaggle/input/digit-recognizer/train.csv\n",
      "/kaggle/input/digit-recognizer/test.csv\n"
     ]
    }
   ],
   "source": [
    "for dirname, _, filenames in os.walk('/kaggle/input'):\n",
    "    for filename in filenames:\n",
    "        print(os.path.join(dirname, filename))"
   ]
  },
  {
   "cell_type": "markdown",
   "id": "60738f4b",
   "metadata": {
    "papermill": {
     "duration": 0.011037,
     "end_time": "2024-10-07T09:07:09.541531",
     "exception": false,
     "start_time": "2024-10-07T09:07:09.530494",
     "status": "completed"
    },
    "tags": []
   },
   "source": [
    "**Reading .csv files :**"
   ]
  },
  {
   "cell_type": "code",
   "execution_count": 3,
   "id": "569bafa3",
   "metadata": {
    "execution": {
     "iopub.execute_input": "2024-10-07T09:07:09.566103Z",
     "iopub.status.busy": "2024-10-07T09:07:09.565281Z",
     "iopub.status.idle": "2024-10-07T09:07:16.370374Z",
     "shell.execute_reply": "2024-10-07T09:07:16.369190Z"
    },
    "papermill": {
     "duration": 6.820349,
     "end_time": "2024-10-07T09:07:16.373153",
     "exception": false,
     "start_time": "2024-10-07T09:07:09.552804",
     "status": "completed"
    },
    "tags": []
   },
   "outputs": [],
   "source": [
    "train_data = pd.read_csv(Path(\"/kaggle/input/digit-recognizer/train.csv\"))\n",
    "test_data = pd.read_csv(Path(\"/kaggle/input/digit-recognizer/test.csv\"))\n",
    "sample_submission = pd.read_csv(Path(\"/kaggle/input/digit-recognizer/sample_submission.csv\"))"
   ]
  },
  {
   "cell_type": "markdown",
   "id": "ec68c12b",
   "metadata": {
    "papermill": {
     "duration": 0.010922,
     "end_time": "2024-10-07T09:07:16.395460",
     "exception": false,
     "start_time": "2024-10-07T09:07:16.384538",
     "status": "completed"
    },
    "tags": []
   },
   "source": [
    "**Taking a quick look at the data structure:**"
   ]
  },
  {
   "cell_type": "code",
   "execution_count": 4,
   "id": "ca0ad26d",
   "metadata": {
    "execution": {
     "iopub.execute_input": "2024-10-07T09:07:16.420264Z",
     "iopub.status.busy": "2024-10-07T09:07:16.419035Z",
     "iopub.status.idle": "2024-10-07T09:07:16.449994Z",
     "shell.execute_reply": "2024-10-07T09:07:16.448839Z"
    },
    "papermill": {
     "duration": 0.045906,
     "end_time": "2024-10-07T09:07:16.452503",
     "exception": false,
     "start_time": "2024-10-07T09:07:16.406597",
     "status": "completed"
    },
    "tags": []
   },
   "outputs": [
    {
     "data": {
      "text/html": [
       "<div>\n",
       "<style scoped>\n",
       "    .dataframe tbody tr th:only-of-type {\n",
       "        vertical-align: middle;\n",
       "    }\n",
       "\n",
       "    .dataframe tbody tr th {\n",
       "        vertical-align: top;\n",
       "    }\n",
       "\n",
       "    .dataframe thead th {\n",
       "        text-align: right;\n",
       "    }\n",
       "</style>\n",
       "<table border=\"1\" class=\"dataframe\">\n",
       "  <thead>\n",
       "    <tr style=\"text-align: right;\">\n",
       "      <th></th>\n",
       "      <th>label</th>\n",
       "      <th>pixel0</th>\n",
       "      <th>pixel1</th>\n",
       "      <th>pixel2</th>\n",
       "      <th>pixel3</th>\n",
       "      <th>pixel4</th>\n",
       "      <th>pixel5</th>\n",
       "      <th>pixel6</th>\n",
       "      <th>pixel7</th>\n",
       "      <th>pixel8</th>\n",
       "      <th>...</th>\n",
       "      <th>pixel774</th>\n",
       "      <th>pixel775</th>\n",
       "      <th>pixel776</th>\n",
       "      <th>pixel777</th>\n",
       "      <th>pixel778</th>\n",
       "      <th>pixel779</th>\n",
       "      <th>pixel780</th>\n",
       "      <th>pixel781</th>\n",
       "      <th>pixel782</th>\n",
       "      <th>pixel783</th>\n",
       "    </tr>\n",
       "  </thead>\n",
       "  <tbody>\n",
       "    <tr>\n",
       "      <th>0</th>\n",
       "      <td>1</td>\n",
       "      <td>0</td>\n",
       "      <td>0</td>\n",
       "      <td>0</td>\n",
       "      <td>0</td>\n",
       "      <td>0</td>\n",
       "      <td>0</td>\n",
       "      <td>0</td>\n",
       "      <td>0</td>\n",
       "      <td>0</td>\n",
       "      <td>...</td>\n",
       "      <td>0</td>\n",
       "      <td>0</td>\n",
       "      <td>0</td>\n",
       "      <td>0</td>\n",
       "      <td>0</td>\n",
       "      <td>0</td>\n",
       "      <td>0</td>\n",
       "      <td>0</td>\n",
       "      <td>0</td>\n",
       "      <td>0</td>\n",
       "    </tr>\n",
       "    <tr>\n",
       "      <th>1</th>\n",
       "      <td>0</td>\n",
       "      <td>0</td>\n",
       "      <td>0</td>\n",
       "      <td>0</td>\n",
       "      <td>0</td>\n",
       "      <td>0</td>\n",
       "      <td>0</td>\n",
       "      <td>0</td>\n",
       "      <td>0</td>\n",
       "      <td>0</td>\n",
       "      <td>...</td>\n",
       "      <td>0</td>\n",
       "      <td>0</td>\n",
       "      <td>0</td>\n",
       "      <td>0</td>\n",
       "      <td>0</td>\n",
       "      <td>0</td>\n",
       "      <td>0</td>\n",
       "      <td>0</td>\n",
       "      <td>0</td>\n",
       "      <td>0</td>\n",
       "    </tr>\n",
       "    <tr>\n",
       "      <th>2</th>\n",
       "      <td>1</td>\n",
       "      <td>0</td>\n",
       "      <td>0</td>\n",
       "      <td>0</td>\n",
       "      <td>0</td>\n",
       "      <td>0</td>\n",
       "      <td>0</td>\n",
       "      <td>0</td>\n",
       "      <td>0</td>\n",
       "      <td>0</td>\n",
       "      <td>...</td>\n",
       "      <td>0</td>\n",
       "      <td>0</td>\n",
       "      <td>0</td>\n",
       "      <td>0</td>\n",
       "      <td>0</td>\n",
       "      <td>0</td>\n",
       "      <td>0</td>\n",
       "      <td>0</td>\n",
       "      <td>0</td>\n",
       "      <td>0</td>\n",
       "    </tr>\n",
       "    <tr>\n",
       "      <th>3</th>\n",
       "      <td>4</td>\n",
       "      <td>0</td>\n",
       "      <td>0</td>\n",
       "      <td>0</td>\n",
       "      <td>0</td>\n",
       "      <td>0</td>\n",
       "      <td>0</td>\n",
       "      <td>0</td>\n",
       "      <td>0</td>\n",
       "      <td>0</td>\n",
       "      <td>...</td>\n",
       "      <td>0</td>\n",
       "      <td>0</td>\n",
       "      <td>0</td>\n",
       "      <td>0</td>\n",
       "      <td>0</td>\n",
       "      <td>0</td>\n",
       "      <td>0</td>\n",
       "      <td>0</td>\n",
       "      <td>0</td>\n",
       "      <td>0</td>\n",
       "    </tr>\n",
       "    <tr>\n",
       "      <th>4</th>\n",
       "      <td>0</td>\n",
       "      <td>0</td>\n",
       "      <td>0</td>\n",
       "      <td>0</td>\n",
       "      <td>0</td>\n",
       "      <td>0</td>\n",
       "      <td>0</td>\n",
       "      <td>0</td>\n",
       "      <td>0</td>\n",
       "      <td>0</td>\n",
       "      <td>...</td>\n",
       "      <td>0</td>\n",
       "      <td>0</td>\n",
       "      <td>0</td>\n",
       "      <td>0</td>\n",
       "      <td>0</td>\n",
       "      <td>0</td>\n",
       "      <td>0</td>\n",
       "      <td>0</td>\n",
       "      <td>0</td>\n",
       "      <td>0</td>\n",
       "    </tr>\n",
       "  </tbody>\n",
       "</table>\n",
       "<p>5 rows × 785 columns</p>\n",
       "</div>"
      ],
      "text/plain": [
       "   label  pixel0  pixel1  pixel2  pixel3  pixel4  pixel5  pixel6  pixel7  \\\n",
       "0      1       0       0       0       0       0       0       0       0   \n",
       "1      0       0       0       0       0       0       0       0       0   \n",
       "2      1       0       0       0       0       0       0       0       0   \n",
       "3      4       0       0       0       0       0       0       0       0   \n",
       "4      0       0       0       0       0       0       0       0       0   \n",
       "\n",
       "   pixel8  ...  pixel774  pixel775  pixel776  pixel777  pixel778  pixel779  \\\n",
       "0       0  ...         0         0         0         0         0         0   \n",
       "1       0  ...         0         0         0         0         0         0   \n",
       "2       0  ...         0         0         0         0         0         0   \n",
       "3       0  ...         0         0         0         0         0         0   \n",
       "4       0  ...         0         0         0         0         0         0   \n",
       "\n",
       "   pixel780  pixel781  pixel782  pixel783  \n",
       "0         0         0         0         0  \n",
       "1         0         0         0         0  \n",
       "2         0         0         0         0  \n",
       "3         0         0         0         0  \n",
       "4         0         0         0         0  \n",
       "\n",
       "[5 rows x 785 columns]"
      ]
     },
     "execution_count": 4,
     "metadata": {},
     "output_type": "execute_result"
    }
   ],
   "source": [
    "train_data.head()"
   ]
  },
  {
   "cell_type": "code",
   "execution_count": 5,
   "id": "a3addec7",
   "metadata": {
    "execution": {
     "iopub.execute_input": "2024-10-07T09:07:16.477840Z",
     "iopub.status.busy": "2024-10-07T09:07:16.477383Z",
     "iopub.status.idle": "2024-10-07T09:07:18.621579Z",
     "shell.execute_reply": "2024-10-07T09:07:18.620506Z"
    },
    "papermill": {
     "duration": 2.159992,
     "end_time": "2024-10-07T09:07:18.624367",
     "exception": false,
     "start_time": "2024-10-07T09:07:16.464375",
     "status": "completed"
    },
    "tags": []
   },
   "outputs": [
    {
     "data": {
      "text/html": [
       "<div>\n",
       "<style scoped>\n",
       "    .dataframe tbody tr th:only-of-type {\n",
       "        vertical-align: middle;\n",
       "    }\n",
       "\n",
       "    .dataframe tbody tr th {\n",
       "        vertical-align: top;\n",
       "    }\n",
       "\n",
       "    .dataframe thead th {\n",
       "        text-align: right;\n",
       "    }\n",
       "</style>\n",
       "<table border=\"1\" class=\"dataframe\">\n",
       "  <thead>\n",
       "    <tr style=\"text-align: right;\">\n",
       "      <th></th>\n",
       "      <th>label</th>\n",
       "      <th>pixel0</th>\n",
       "      <th>pixel1</th>\n",
       "      <th>pixel2</th>\n",
       "      <th>pixel3</th>\n",
       "      <th>pixel4</th>\n",
       "      <th>pixel5</th>\n",
       "      <th>pixel6</th>\n",
       "      <th>pixel7</th>\n",
       "      <th>pixel8</th>\n",
       "      <th>...</th>\n",
       "      <th>pixel774</th>\n",
       "      <th>pixel775</th>\n",
       "      <th>pixel776</th>\n",
       "      <th>pixel777</th>\n",
       "      <th>pixel778</th>\n",
       "      <th>pixel779</th>\n",
       "      <th>pixel780</th>\n",
       "      <th>pixel781</th>\n",
       "      <th>pixel782</th>\n",
       "      <th>pixel783</th>\n",
       "    </tr>\n",
       "  </thead>\n",
       "  <tbody>\n",
       "    <tr>\n",
       "      <th>count</th>\n",
       "      <td>42000.000000</td>\n",
       "      <td>42000.0</td>\n",
       "      <td>42000.0</td>\n",
       "      <td>42000.0</td>\n",
       "      <td>42000.0</td>\n",
       "      <td>42000.0</td>\n",
       "      <td>42000.0</td>\n",
       "      <td>42000.0</td>\n",
       "      <td>42000.0</td>\n",
       "      <td>42000.0</td>\n",
       "      <td>...</td>\n",
       "      <td>42000.000000</td>\n",
       "      <td>42000.000000</td>\n",
       "      <td>42000.000000</td>\n",
       "      <td>42000.00000</td>\n",
       "      <td>42000.000000</td>\n",
       "      <td>42000.000000</td>\n",
       "      <td>42000.0</td>\n",
       "      <td>42000.0</td>\n",
       "      <td>42000.0</td>\n",
       "      <td>42000.0</td>\n",
       "    </tr>\n",
       "    <tr>\n",
       "      <th>mean</th>\n",
       "      <td>4.456643</td>\n",
       "      <td>0.0</td>\n",
       "      <td>0.0</td>\n",
       "      <td>0.0</td>\n",
       "      <td>0.0</td>\n",
       "      <td>0.0</td>\n",
       "      <td>0.0</td>\n",
       "      <td>0.0</td>\n",
       "      <td>0.0</td>\n",
       "      <td>0.0</td>\n",
       "      <td>...</td>\n",
       "      <td>0.219286</td>\n",
       "      <td>0.117095</td>\n",
       "      <td>0.059024</td>\n",
       "      <td>0.02019</td>\n",
       "      <td>0.017238</td>\n",
       "      <td>0.002857</td>\n",
       "      <td>0.0</td>\n",
       "      <td>0.0</td>\n",
       "      <td>0.0</td>\n",
       "      <td>0.0</td>\n",
       "    </tr>\n",
       "    <tr>\n",
       "      <th>std</th>\n",
       "      <td>2.887730</td>\n",
       "      <td>0.0</td>\n",
       "      <td>0.0</td>\n",
       "      <td>0.0</td>\n",
       "      <td>0.0</td>\n",
       "      <td>0.0</td>\n",
       "      <td>0.0</td>\n",
       "      <td>0.0</td>\n",
       "      <td>0.0</td>\n",
       "      <td>0.0</td>\n",
       "      <td>...</td>\n",
       "      <td>6.312890</td>\n",
       "      <td>4.633819</td>\n",
       "      <td>3.274488</td>\n",
       "      <td>1.75987</td>\n",
       "      <td>1.894498</td>\n",
       "      <td>0.414264</td>\n",
       "      <td>0.0</td>\n",
       "      <td>0.0</td>\n",
       "      <td>0.0</td>\n",
       "      <td>0.0</td>\n",
       "    </tr>\n",
       "    <tr>\n",
       "      <th>min</th>\n",
       "      <td>0.000000</td>\n",
       "      <td>0.0</td>\n",
       "      <td>0.0</td>\n",
       "      <td>0.0</td>\n",
       "      <td>0.0</td>\n",
       "      <td>0.0</td>\n",
       "      <td>0.0</td>\n",
       "      <td>0.0</td>\n",
       "      <td>0.0</td>\n",
       "      <td>0.0</td>\n",
       "      <td>...</td>\n",
       "      <td>0.000000</td>\n",
       "      <td>0.000000</td>\n",
       "      <td>0.000000</td>\n",
       "      <td>0.00000</td>\n",
       "      <td>0.000000</td>\n",
       "      <td>0.000000</td>\n",
       "      <td>0.0</td>\n",
       "      <td>0.0</td>\n",
       "      <td>0.0</td>\n",
       "      <td>0.0</td>\n",
       "    </tr>\n",
       "    <tr>\n",
       "      <th>25%</th>\n",
       "      <td>2.000000</td>\n",
       "      <td>0.0</td>\n",
       "      <td>0.0</td>\n",
       "      <td>0.0</td>\n",
       "      <td>0.0</td>\n",
       "      <td>0.0</td>\n",
       "      <td>0.0</td>\n",
       "      <td>0.0</td>\n",
       "      <td>0.0</td>\n",
       "      <td>0.0</td>\n",
       "      <td>...</td>\n",
       "      <td>0.000000</td>\n",
       "      <td>0.000000</td>\n",
       "      <td>0.000000</td>\n",
       "      <td>0.00000</td>\n",
       "      <td>0.000000</td>\n",
       "      <td>0.000000</td>\n",
       "      <td>0.0</td>\n",
       "      <td>0.0</td>\n",
       "      <td>0.0</td>\n",
       "      <td>0.0</td>\n",
       "    </tr>\n",
       "    <tr>\n",
       "      <th>50%</th>\n",
       "      <td>4.000000</td>\n",
       "      <td>0.0</td>\n",
       "      <td>0.0</td>\n",
       "      <td>0.0</td>\n",
       "      <td>0.0</td>\n",
       "      <td>0.0</td>\n",
       "      <td>0.0</td>\n",
       "      <td>0.0</td>\n",
       "      <td>0.0</td>\n",
       "      <td>0.0</td>\n",
       "      <td>...</td>\n",
       "      <td>0.000000</td>\n",
       "      <td>0.000000</td>\n",
       "      <td>0.000000</td>\n",
       "      <td>0.00000</td>\n",
       "      <td>0.000000</td>\n",
       "      <td>0.000000</td>\n",
       "      <td>0.0</td>\n",
       "      <td>0.0</td>\n",
       "      <td>0.0</td>\n",
       "      <td>0.0</td>\n",
       "    </tr>\n",
       "    <tr>\n",
       "      <th>75%</th>\n",
       "      <td>7.000000</td>\n",
       "      <td>0.0</td>\n",
       "      <td>0.0</td>\n",
       "      <td>0.0</td>\n",
       "      <td>0.0</td>\n",
       "      <td>0.0</td>\n",
       "      <td>0.0</td>\n",
       "      <td>0.0</td>\n",
       "      <td>0.0</td>\n",
       "      <td>0.0</td>\n",
       "      <td>...</td>\n",
       "      <td>0.000000</td>\n",
       "      <td>0.000000</td>\n",
       "      <td>0.000000</td>\n",
       "      <td>0.00000</td>\n",
       "      <td>0.000000</td>\n",
       "      <td>0.000000</td>\n",
       "      <td>0.0</td>\n",
       "      <td>0.0</td>\n",
       "      <td>0.0</td>\n",
       "      <td>0.0</td>\n",
       "    </tr>\n",
       "    <tr>\n",
       "      <th>max</th>\n",
       "      <td>9.000000</td>\n",
       "      <td>0.0</td>\n",
       "      <td>0.0</td>\n",
       "      <td>0.0</td>\n",
       "      <td>0.0</td>\n",
       "      <td>0.0</td>\n",
       "      <td>0.0</td>\n",
       "      <td>0.0</td>\n",
       "      <td>0.0</td>\n",
       "      <td>0.0</td>\n",
       "      <td>...</td>\n",
       "      <td>254.000000</td>\n",
       "      <td>254.000000</td>\n",
       "      <td>253.000000</td>\n",
       "      <td>253.00000</td>\n",
       "      <td>254.000000</td>\n",
       "      <td>62.000000</td>\n",
       "      <td>0.0</td>\n",
       "      <td>0.0</td>\n",
       "      <td>0.0</td>\n",
       "      <td>0.0</td>\n",
       "    </tr>\n",
       "  </tbody>\n",
       "</table>\n",
       "<p>8 rows × 785 columns</p>\n",
       "</div>"
      ],
      "text/plain": [
       "              label   pixel0   pixel1   pixel2   pixel3   pixel4   pixel5  \\\n",
       "count  42000.000000  42000.0  42000.0  42000.0  42000.0  42000.0  42000.0   \n",
       "mean       4.456643      0.0      0.0      0.0      0.0      0.0      0.0   \n",
       "std        2.887730      0.0      0.0      0.0      0.0      0.0      0.0   \n",
       "min        0.000000      0.0      0.0      0.0      0.0      0.0      0.0   \n",
       "25%        2.000000      0.0      0.0      0.0      0.0      0.0      0.0   \n",
       "50%        4.000000      0.0      0.0      0.0      0.0      0.0      0.0   \n",
       "75%        7.000000      0.0      0.0      0.0      0.0      0.0      0.0   \n",
       "max        9.000000      0.0      0.0      0.0      0.0      0.0      0.0   \n",
       "\n",
       "        pixel6   pixel7   pixel8  ...      pixel774      pixel775  \\\n",
       "count  42000.0  42000.0  42000.0  ...  42000.000000  42000.000000   \n",
       "mean       0.0      0.0      0.0  ...      0.219286      0.117095   \n",
       "std        0.0      0.0      0.0  ...      6.312890      4.633819   \n",
       "min        0.0      0.0      0.0  ...      0.000000      0.000000   \n",
       "25%        0.0      0.0      0.0  ...      0.000000      0.000000   \n",
       "50%        0.0      0.0      0.0  ...      0.000000      0.000000   \n",
       "75%        0.0      0.0      0.0  ...      0.000000      0.000000   \n",
       "max        0.0      0.0      0.0  ...    254.000000    254.000000   \n",
       "\n",
       "           pixel776     pixel777      pixel778      pixel779  pixel780  \\\n",
       "count  42000.000000  42000.00000  42000.000000  42000.000000   42000.0   \n",
       "mean       0.059024      0.02019      0.017238      0.002857       0.0   \n",
       "std        3.274488      1.75987      1.894498      0.414264       0.0   \n",
       "min        0.000000      0.00000      0.000000      0.000000       0.0   \n",
       "25%        0.000000      0.00000      0.000000      0.000000       0.0   \n",
       "50%        0.000000      0.00000      0.000000      0.000000       0.0   \n",
       "75%        0.000000      0.00000      0.000000      0.000000       0.0   \n",
       "max      253.000000    253.00000    254.000000     62.000000       0.0   \n",
       "\n",
       "       pixel781  pixel782  pixel783  \n",
       "count   42000.0   42000.0   42000.0  \n",
       "mean        0.0       0.0       0.0  \n",
       "std         0.0       0.0       0.0  \n",
       "min         0.0       0.0       0.0  \n",
       "25%         0.0       0.0       0.0  \n",
       "50%         0.0       0.0       0.0  \n",
       "75%         0.0       0.0       0.0  \n",
       "max         0.0       0.0       0.0  \n",
       "\n",
       "[8 rows x 785 columns]"
      ]
     },
     "execution_count": 5,
     "metadata": {},
     "output_type": "execute_result"
    }
   ],
   "source": [
    "train_data.describe()"
   ]
  },
  {
   "cell_type": "code",
   "execution_count": 6,
   "id": "13ebe8c3",
   "metadata": {
    "execution": {
     "iopub.execute_input": "2024-10-07T09:07:18.650657Z",
     "iopub.status.busy": "2024-10-07T09:07:18.650197Z",
     "iopub.status.idle": "2024-10-07T09:07:18.706000Z",
     "shell.execute_reply": "2024-10-07T09:07:18.704930Z"
    },
    "papermill": {
     "duration": 0.072044,
     "end_time": "2024-10-07T09:07:18.708662",
     "exception": false,
     "start_time": "2024-10-07T09:07:18.636618",
     "status": "completed"
    },
    "tags": []
   },
   "outputs": [
    {
     "name": "stdout",
     "output_type": "stream",
     "text": [
      "<class 'pandas.core.frame.DataFrame'>\n",
      "RangeIndex: 42000 entries, 0 to 41999\n",
      "Columns: 785 entries, label to pixel783\n",
      "dtypes: int64(785)\n",
      "memory usage: 251.5 MB\n"
     ]
    }
   ],
   "source": [
    "train_data.info()"
   ]
  },
  {
   "cell_type": "code",
   "execution_count": 7,
   "id": "0ebdcb8a",
   "metadata": {
    "execution": {
     "iopub.execute_input": "2024-10-07T09:07:18.735490Z",
     "iopub.status.busy": "2024-10-07T09:07:18.735004Z",
     "iopub.status.idle": "2024-10-07T09:07:18.741612Z",
     "shell.execute_reply": "2024-10-07T09:07:18.740487Z"
    },
    "papermill": {
     "duration": 0.022955,
     "end_time": "2024-10-07T09:07:18.744103",
     "exception": false,
     "start_time": "2024-10-07T09:07:18.721148",
     "status": "completed"
    },
    "tags": []
   },
   "outputs": [],
   "source": [
    "#plotting the digits\n",
    "def plot_digit(X,v=0,h=0):\n",
    "    image = shift(X.reshape(28,28),(v,h))\n",
    "    plt.imshow(image,cmap=\"binary\")\n",
    "    plt.axis(\"off\")"
   ]
  },
  {
   "cell_type": "code",
   "execution_count": 8,
   "id": "4071f278",
   "metadata": {
    "execution": {
     "iopub.execute_input": "2024-10-07T09:07:18.771168Z",
     "iopub.status.busy": "2024-10-07T09:07:18.770741Z",
     "iopub.status.idle": "2024-10-07T09:07:18.989382Z",
     "shell.execute_reply": "2024-10-07T09:07:18.987911Z"
    },
    "papermill": {
     "duration": 0.236482,
     "end_time": "2024-10-07T09:07:18.993469",
     "exception": false,
     "start_time": "2024-10-07T09:07:18.756987",
     "status": "completed"
    },
    "tags": []
   },
   "outputs": [
    {
     "data": {
      "image/png": "[encoded data removed]",
      "text/plain": [
       "<Figure size 640x480 with 1 Axes>"
      ]
     },
     "metadata": {},
     "output_type": "display_data"
    }
   ],
   "source": [
    "td = np.array(train_data)\n",
    "plot_digit(td[3,1:])"
   ]
  },
  {
   "cell_type": "markdown",
   "id": "790433d4",
   "metadata": {
    "papermill": {
     "duration": 0.025108,
     "end_time": "2024-10-07T09:07:19.044803",
     "exception": false,
     "start_time": "2024-10-07T09:07:19.019695",
     "status": "completed"
    },
    "tags": []
   },
   "source": [
    "**Preparing the data :**"
   ]
  },
  {
   "cell_type": "code",
   "execution_count": 9,
   "id": "e0e42717",
   "metadata": {
    "execution": {
     "iopub.execute_input": "2024-10-07T09:07:19.076857Z",
     "iopub.status.busy": "2024-10-07T09:07:19.076394Z",
     "iopub.status.idle": "2024-10-07T09:07:19.090325Z",
     "shell.execute_reply": "2024-10-07T09:07:19.089348Z"
    },
    "papermill": {
     "duration": 0.030282,
     "end_time": "2024-10-07T09:07:19.092904",
     "exception": false,
     "start_time": "2024-10-07T09:07:19.062622",
     "status": "completed"
    },
    "tags": []
   },
   "outputs": [],
   "source": [
    "def Augment(train_data,n):\n",
    "    Fours = train_data[train_data[\"label\"]==n]\n",
    "    X_fours_data = np.array(Fours.iloc[:,1:])\n",
    "    y_fours_data = np.array(Fours.iloc[:,0])\n",
    "    j = 0\n",
    "    for i in X_fours_data :\n",
    "        j = j + 1\n",
    "        print(j*100/len(y_fours_data))\n",
    "        t1 = shift(i.reshape(28,28),(1,-1))\n",
    "        t2 = shift(i.reshape(28,28),(1,1))\n",
    "        t3 = shift(i.reshape(28,28),(-1,1))\n",
    "        t4 = shift(i.reshape(28,28),(-1,-1))\n",
    "        t1 = np.insert(t1.reshape(1,-1),[0],n)\n",
    "        t2 = np.insert(t2.reshape(1,-1),[0],n)\n",
    "        t3 = np.insert(t3.reshape(1,-1),[0],n)\n",
    "        t4 = np.insert(t4.reshape(1,-1),[0],n)\n",
    "        t1 = pd.DataFrame(t1.reshape(1,785),index = [0],columns = train_data.columns)\n",
    "        t2 = pd.DataFrame(t2.reshape(1,785),index = [1],columns = train_data.columns)\n",
    "        t3 = pd.DataFrame(t3.reshape(1,785),index = [2],columns = train_data.columns)\n",
    "        t4 = pd.DataFrame(t4.reshape(1,785),index = [3],columns = train_data.columns)\n",
    "        t = pd.concat([t1,t2,t3,t4])\n",
    "        train_data = pd.concat([train_data,t])\n",
    "        clear_output()\n",
    "    return train_data"
   ]
  },
  {
   "cell_type": "code",
   "execution_count": 10,
   "id": "f4e2f35d",
   "metadata": {
    "execution": {
     "iopub.execute_input": "2024-10-07T09:07:19.119974Z",
     "iopub.status.busy": "2024-10-07T09:07:19.119234Z",
     "iopub.status.idle": "2024-10-07T09:07:19.126976Z",
     "shell.execute_reply": "2024-10-07T09:07:19.125811Z"
    },
    "papermill": {
     "duration": 0.023966,
     "end_time": "2024-10-07T09:07:19.129501",
     "exception": false,
     "start_time": "2024-10-07T09:07:19.105535",
     "status": "completed"
    },
    "tags": []
   },
   "outputs": [],
   "source": [
    "def image_shift(array,x_axis,y_axis):\n",
    "    fname = array[1:]\n",
    "    n = array[0]\n",
    "    img = PIL.Image.fromarray(td[3,1:].reshape(28,28).astype(np.uint8))\n",
    "    shift_img = PIL.ImageChops.offset(img,x_axis,y_axis)\n",
    "    t = np.insert(np.array(shift_img).reshape(1,-1),[0],n)\n",
    "    t = pd.DataFrame(t.reshape(1,785),index = [0],columns = train_data.columns)\n",
    "    return t"
   ]
  },
  {
   "cell_type": "code",
   "execution_count": 11,
   "id": "bce3c752",
   "metadata": {
    "execution": {
     "iopub.execute_input": "2024-10-07T09:07:19.156792Z",
     "iopub.status.busy": "2024-10-07T09:07:19.156041Z",
     "iopub.status.idle": "2024-10-07T09:14:22.311510Z",
     "shell.execute_reply": "2024-10-07T09:14:22.310245Z"
    },
    "papermill": {
     "duration": 423.171669,
     "end_time": "2024-10-07T09:14:22.313980",
     "exception": false,
     "start_time": "2024-10-07T09:07:19.142311",
     "status": "completed"
    },
    "tags": []
   },
   "outputs": [
    {
     "name": "stdout",
     "output_type": "stream",
     "text": [
      "CPU times: user 3min 5s, sys: 4min 3s, total: 7min 8s\n",
      "Wall time: 7min 3s\n"
     ]
    }
   ],
   "source": [
    "%%time\n",
    "for i in range(4200):\n",
    "    print(i/42)\n",
    "    temp1 = image_shift(td[i],1,1)\n",
    "    temp2 = image_shift(td[i],1,-1)\n",
    "    temp3 = image_shift(td[i],-1,1)\n",
    "    temp4 = image_shift(td[i],-1,-1)\n",
    "    train_data = pd.concat([train_data,temp1,temp2,temp3,temp4])\n",
    "    clear_output()"
   ]
  },
  {
   "cell_type": "code",
   "execution_count": 12,
   "id": "3da7e419",
   "metadata": {
    "execution": {
     "iopub.execute_input": "2024-10-07T09:14:22.341360Z",
     "iopub.status.busy": "2024-10-07T09:14:22.340927Z",
     "iopub.status.idle": "2024-10-07T09:27:32.652723Z",
     "shell.execute_reply": "2024-10-07T09:27:32.651695Z"
    },
    "papermill": {
     "duration": 790.328429,
     "end_time": "2024-10-07T09:27:32.655107",
     "exception": false,
     "start_time": "2024-10-07T09:14:22.326678",
     "status": "completed"
    },
    "tags": []
   },
   "outputs": [],
   "source": [
    "train_data = Augment(train_data,4)"
   ]
  },
  {
   "cell_type": "code",
   "execution_count": 13,
   "id": "6b33d85e",
   "metadata": {
    "execution": {
     "iopub.execute_input": "2024-10-07T09:27:32.682503Z",
     "iopub.status.busy": "2024-10-07T09:27:32.681392Z",
     "iopub.status.idle": "2024-10-07T09:44:34.357052Z",
     "shell.execute_reply": "2024-10-07T09:44:34.356090Z"
    },
    "papermill": {
     "duration": 1021.691946,
     "end_time": "2024-10-07T09:44:34.359507",
     "exception": false,
     "start_time": "2024-10-07T09:27:32.667561",
     "status": "completed"
    },
    "tags": []
   },
   "outputs": [],
   "source": [
    "train_data = Augment(train_data,8)"
   ]
  },
  {
   "cell_type": "code",
   "execution_count": 14,
   "id": "1c6c1110",
   "metadata": {
    "execution": {
     "iopub.execute_input": "2024-10-07T09:44:34.387617Z",
     "iopub.status.busy": "2024-10-07T09:44:34.387158Z",
     "iopub.status.idle": "2024-10-07T10:06:12.513639Z",
     "shell.execute_reply": "2024-10-07T10:06:12.512490Z"
    },
    "papermill": {
     "duration": 1298.143902,
     "end_time": "2024-10-07T10:06:12.516003",
     "exception": false,
     "start_time": "2024-10-07T09:44:34.372101",
     "status": "completed"
    },
    "tags": []
   },
   "outputs": [],
   "source": [
    "train_data = Augment(train_data,0)"
   ]
  },
  {
   "cell_type": "code",
   "execution_count": 15,
   "id": "c0e25191",
   "metadata": {
    "execution": {
     "iopub.execute_input": "2024-10-07T10:06:12.545049Z",
     "iopub.status.busy": "2024-10-07T10:06:12.544621Z",
     "iopub.status.idle": "2024-10-07T10:06:12.857446Z",
     "shell.execute_reply": "2024-10-07T10:06:12.856331Z"
    },
    "papermill": {
     "duration": 0.331178,
     "end_time": "2024-10-07T10:06:12.860091",
     "exception": false,
     "start_time": "2024-10-07T10:06:12.528913",
     "status": "completed"
    },
    "tags": []
   },
   "outputs": [],
   "source": [
    "X_train_data = np.array(train_data.iloc[:,1:])\n",
    "y_train_data = np.array(train_data.iloc[:,0])\n"
   ]
  },
  {
   "cell_type": "markdown",
   "id": "7fc9be04",
   "metadata": {
    "papermill": {
     "duration": 0.012173,
     "end_time": "2024-10-07T10:06:12.884802",
     "exception": false,
     "start_time": "2024-10-07T10:06:12.872629",
     "status": "completed"
    },
    "tags": []
   },
   "source": [
    "**Training and fine-tuning a Classifier:**"
   ]
  },
  {
   "cell_type": "code",
   "execution_count": 16,
   "id": "d851af87",
   "metadata": {
    "execution": {
     "iopub.execute_input": "2024-10-07T10:06:12.911262Z",
     "iopub.status.busy": "2024-10-07T10:06:12.910844Z",
     "iopub.status.idle": "2024-10-07T10:06:12.915819Z",
     "shell.execute_reply": "2024-10-07T10:06:12.914800Z"
    },
    "papermill": {
     "duration": 0.020945,
     "end_time": "2024-10-07T10:06:12.918049",
     "exception": false,
     "start_time": "2024-10-07T10:06:12.897104",
     "status": "completed"
    },
    "tags": []
   },
   "outputs": [],
   "source": [
    "knn_pipline = Pipeline([(\"classifier\",KNeighborsClassifier(n_neighbors=5))])"
   ]
  },
  {
   "cell_type": "code",
   "execution_count": 17,
   "id": "787149d9",
   "metadata": {
    "execution": {
     "iopub.execute_input": "2024-10-07T10:06:12.944353Z",
     "iopub.status.busy": "2024-10-07T10:06:12.943942Z",
     "iopub.status.idle": "2024-10-07T10:06:12.949151Z",
     "shell.execute_reply": "2024-10-07T10:06:12.948125Z"
    },
    "papermill": {
     "duration": 0.021086,
     "end_time": "2024-10-07T10:06:12.951440",
     "exception": false,
     "start_time": "2024-10-07T10:06:12.930354",
     "status": "completed"
    },
    "tags": []
   },
   "outputs": [],
   "source": [
    "param_grid = [{'classifier__n_neighbors':[3,4,5],\n",
    "               'classifier__weights':['distance']}]"
   ]
  },
  {
   "cell_type": "code",
   "execution_count": 18,
   "id": "1ea6ddca",
   "metadata": {
    "execution": {
     "iopub.execute_input": "2024-10-07T10:06:12.977909Z",
     "iopub.status.busy": "2024-10-07T10:06:12.977478Z",
     "iopub.status.idle": "2024-10-07T10:06:12.982750Z",
     "shell.execute_reply": "2024-10-07T10:06:12.981720Z"
    },
    "papermill": {
     "duration": 0.021262,
     "end_time": "2024-10-07T10:06:12.985096",
     "exception": false,
     "start_time": "2024-10-07T10:06:12.963834",
     "status": "completed"
    },
    "tags": []
   },
   "outputs": [],
   "source": [
    "grid_search = GridSearchCV(knn_pipline,param_grid,cv=3,scoring = \"accuracy\")"
   ]
  },
  {
   "cell_type": "code",
   "execution_count": 19,
   "id": "4a80c89e",
   "metadata": {
    "execution": {
     "iopub.execute_input": "2024-10-07T10:06:13.012584Z",
     "iopub.status.busy": "2024-10-07T10:06:13.012134Z",
     "iopub.status.idle": "2024-10-07T10:28:43.767345Z",
     "shell.execute_reply": "2024-10-07T10:28:43.766208Z"
    },
    "papermill": {
     "duration": 1350.784257,
     "end_time": "2024-10-07T10:28:43.782133",
     "exception": false,
     "start_time": "2024-10-07T10:06:12.997876",
     "status": "completed"
    },
    "tags": []
   },
   "outputs": [
    {
     "data": {
      "text/html": [
       "<style>#sk-container-id-1 {color: black;background-color: white;}#sk-container-id-1 pre{padding: 0;}#sk-container-id-1 div.sk-toggleable {background-color: white;}#sk-container-id-1 label.sk-toggleable__label {cursor: pointer;display: block;width: 100%;margin-bottom: 0;padding: 0.3em;box-sizing: border-box;text-align: center;}#sk-container-id-1 label.sk-toggleable__label-arrow:before {content: \"▸\";float: left;margin-right: 0.25em;color: #696969;}#sk-container-id-1 label.sk-toggleable__label-arrow:hover:before {color: black;}#sk-container-id-1 div.sk-estimator:hover label.sk-toggleable__label-arrow:before {color: black;}#sk-container-id-1 div.sk-toggleable__content {max-height: 0;max-width: 0;overflow: hidden;text-align: left;background-color: #f0f8ff;}#sk-container-id-1 div.sk-toggleable__content pre {margin: 0.2em;color: black;border-radius: 0.25em;background-color: #f0f8ff;}#sk-container-id-1 input.sk-toggleable__control:checked~div.sk-toggleable__content {max-height: 200px;max-width: 100%;overflow: auto;}#sk-container-id-1 input.sk-toggleable__control:checked~label.sk-toggleable__label-arrow:before {content: \"▾\";}#sk-container-id-1 div.sk-estimator input.sk-toggleable__control:checked~label.sk-toggleable__label {background-color: #d4ebff;}#sk-container-id-1 div.sk-label input.sk-toggleable__control:checked~label.sk-toggleable__label {background-color: #d4ebff;}#sk-container-id-1 input.sk-hidden--visually {border: 0;clip: rect(1px 1px 1px 1px);clip: rect(1px, 1px, 1px, 1px);height: 1px;margin: -1px;overflow: hidden;padding: 0;position: absolute;width: 1px;}#sk-container-id-1 div.sk-estimator {font-family: monospace;background-color: #f0f8ff;border: 1px dotted black;border-radius: 0.25em;box-sizing: border-box;margin-bottom: 0.5em;}#sk-container-id-1 div.sk-estimator:hover {background-color: #d4ebff;}#sk-container-id-1 div.sk-parallel-item::after {content: \"\";width: 100%;border-bottom: 1px solid gray;flex-grow: 1;}#sk-container-id-1 div.sk-label:hover label.sk-toggleable__label {background-color: #d4ebff;}#sk-container-id-1 div.sk-serial::before {content: \"\";position: absolute;border-left: 1px solid gray;box-sizing: border-box;top: 0;bottom: 0;left: 50%;z-index: 0;}#sk-container-id-1 div.sk-serial {display: flex;flex-direction: column;align-items: center;background-color: white;padding-right: 0.2em;padding-left: 0.2em;position: relative;}#sk-container-id-1 div.sk-item {position: relative;z-index: 1;}#sk-container-id-1 div.sk-parallel {display: flex;align-items: stretch;justify-content: center;background-color: white;position: relative;}#sk-container-id-1 div.sk-item::before, #sk-container-id-1 div.sk-parallel-item::before {content: \"\";position: absolute;border-left: 1px solid gray;box-sizing: border-box;top: 0;bottom: 0;left: 50%;z-index: -1;}#sk-container-id-1 div.sk-parallel-item {display: flex;flex-direction: column;z-index: 1;position: relative;background-color: white;}#sk-container-id-1 div.sk-parallel-item:first-child::after {align-self: flex-end;width: 50%;}#sk-container-id-1 div.sk-parallel-item:last-child::after {align-self: flex-start;width: 50%;}#sk-container-id-1 div.sk-parallel-item:only-child::after {width: 0;}#sk-container-id-1 div.sk-dashed-wrapped {border: 1px dashed gray;margin: 0 0.4em 0.5em 0.4em;box-sizing: border-box;padding-bottom: 0.4em;background-color: white;}#sk-container-id-1 div.sk-label label {font-family: monospace;font-weight: bold;display: inline-block;line-height: 1.2em;}#sk-container-id-1 div.sk-label-container {text-align: center;}#sk-container-id-1 div.sk-container {/* jupyter's `normalize.less` sets `[hidden] { display: none; }` but bootstrap.min.css set `[hidden] { display: none !important; }` so we also need the `!important` here to be able to override the default hidden behavior on the sphinx rendered scikit-learn.org. See: https://github.com/scikit-learn/scikit-learn/issues/21755 */display: inline-block !important;position: relative;}#sk-container-id-1 div.sk-text-repr-fallback {display: none;}</style><div id=\"sk-container-id-1\" class=\"sk-top-container\"><div class=\"sk-text-repr-fallback\"><pre>GridSearchCV(cv=3,\n",
       "             estimator=Pipeline(steps=[(&#x27;classifier&#x27;, KNeighborsClassifier())]),\n",
       "             param_grid=[{&#x27;classifier__n_neighbors&#x27;: [3, 4, 5],\n",
       "                          &#x27;classifier__weights&#x27;: [&#x27;distance&#x27;]}],\n",
       "             scoring=&#x27;accuracy&#x27;)</pre><b>In a Jupyter environment, please rerun this cell to show the HTML representation or trust the notebook. <br />On GitHub, the HTML representation is unable to render, please try loading this page with nbviewer.org.</b></div><div class=\"sk-container\" hidden><div class=\"sk-item sk-dashed-wrapped\"><div class=\"sk-label-container\"><div class=\"sk-label sk-toggleable\"><input class=\"sk-toggleable__control sk-hidden--visually\" id=\"sk-estimator-id-1\" type=\"checkbox\" ><label for=\"sk-estimator-id-1\" class=\"sk-toggleable__label sk-toggleable__label-arrow\">GridSearchCV</label><div class=\"sk-toggleable__content\"><pre>GridSearchCV(cv=3,\n",
       "             estimator=Pipeline(steps=[(&#x27;classifier&#x27;, KNeighborsClassifier())]),\n",
       "             param_grid=[{&#x27;classifier__n_neighbors&#x27;: [3, 4, 5],\n",
       "                          &#x27;classifier__weights&#x27;: [&#x27;distance&#x27;]}],\n",
       "             scoring=&#x27;accuracy&#x27;)</pre></div></div></div><div class=\"sk-parallel\"><div class=\"sk-parallel-item\"><div class=\"sk-item\"><div class=\"sk-label-container\"><div class=\"sk-label sk-toggleable\"><input class=\"sk-toggleable__control sk-hidden--visually\" id=\"sk-estimator-id-2\" type=\"checkbox\" ><label for=\"sk-estimator-id-2\" class=\"sk-toggleable__label sk-toggleable__label-arrow\">estimator: Pipeline</label><div class=\"sk-toggleable__content\"><pre>Pipeline(steps=[(&#x27;classifier&#x27;, KNeighborsClassifier())])</pre></div></div></div><div class=\"sk-serial\"><div class=\"sk-item\"><div class=\"sk-serial\"><div class=\"sk-item\"><div class=\"sk-estimator sk-toggleable\"><input class=\"sk-toggleable__control sk-hidden--visually\" id=\"sk-estimator-id-3\" type=\"checkbox\" ><label for=\"sk-estimator-id-3\" class=\"sk-toggleable__label sk-toggleable__label-arrow\">KNeighborsClassifier</label><div class=\"sk-toggleable__content\"><pre>KNeighborsClassifier()</pre></div></div></div></div></div></div></div></div></div></div></div></div>"
      ],
      "text/plain": [
       "GridSearchCV(cv=3,\n",
       "             estimator=Pipeline(steps=[('classifier', KNeighborsClassifier())]),\n",
       "             param_grid=[{'classifier__n_neighbors': [3, 4, 5],\n",
       "                          'classifier__weights': ['distance']}],\n",
       "             scoring='accuracy')"
      ]
     },
     "execution_count": 19,
     "metadata": {},
     "output_type": "execute_result"
    }
   ],
   "source": [
    "grid_search.fit(X_train_data,y_train_data)"
   ]
  },
  {
   "cell_type": "code",
   "execution_count": 20,
   "id": "e44cd439",
   "metadata": {
    "execution": {
     "iopub.execute_input": "2024-10-07T10:28:43.809194Z",
     "iopub.status.busy": "2024-10-07T10:28:43.808785Z",
     "iopub.status.idle": "2024-10-07T10:28:43.815691Z",
     "shell.execute_reply": "2024-10-07T10:28:43.814637Z"
    },
    "papermill": {
     "duration": 0.023021,
     "end_time": "2024-10-07T10:28:43.817927",
     "exception": false,
     "start_time": "2024-10-07T10:28:43.794906",
     "status": "completed"
    },
    "tags": []
   },
   "outputs": [
    {
     "data": {
      "text/plain": [
       "{'classifier__n_neighbors': 4, 'classifier__weights': 'distance'}"
      ]
     },
     "execution_count": 20,
     "metadata": {},
     "output_type": "execute_result"
    }
   ],
   "source": [
    "grid_search.best_params_"
   ]
  },
  {
   "cell_type": "code",
   "execution_count": 21,
   "id": "ceedd635",
   "metadata": {
    "execution": {
     "iopub.execute_input": "2024-10-07T10:28:43.845066Z",
     "iopub.status.busy": "2024-10-07T10:28:43.844673Z",
     "iopub.status.idle": "2024-10-07T10:28:43.866862Z",
     "shell.execute_reply": "2024-10-07T10:28:43.865846Z"
    },
    "papermill": {
     "duration": 0.038351,
     "end_time": "2024-10-07T10:28:43.869159",
     "exception": false,
     "start_time": "2024-10-07T10:28:43.830808",
     "status": "completed"
    },
    "tags": []
   },
   "outputs": [
    {
     "data": {
      "text/html": [
       "<div>\n",
       "<style scoped>\n",
       "    .dataframe tbody tr th:only-of-type {\n",
       "        vertical-align: middle;\n",
       "    }\n",
       "\n",
       "    .dataframe tbody tr th {\n",
       "        vertical-align: top;\n",
       "    }\n",
       "\n",
       "    .dataframe thead th {\n",
       "        text-align: right;\n",
       "    }\n",
       "</style>\n",
       "<table border=\"1\" class=\"dataframe\">\n",
       "  <thead>\n",
       "    <tr style=\"text-align: right;\">\n",
       "      <th></th>\n",
       "      <th>mean_fit_time</th>\n",
       "      <th>std_fit_time</th>\n",
       "      <th>mean_score_time</th>\n",
       "      <th>std_score_time</th>\n",
       "      <th>param_classifier__n_neighbors</th>\n",
       "      <th>param_classifier__weights</th>\n",
       "      <th>params</th>\n",
       "      <th>split0_test_score</th>\n",
       "      <th>split1_test_score</th>\n",
       "      <th>split2_test_score</th>\n",
       "      <th>mean_test_score</th>\n",
       "      <th>std_test_score</th>\n",
       "      <th>rank_test_score</th>\n",
       "    </tr>\n",
       "  </thead>\n",
       "  <tbody>\n",
       "    <tr>\n",
       "      <th>1</th>\n",
       "      <td>0.436036</td>\n",
       "      <td>0.008275</td>\n",
       "      <td>146.577561</td>\n",
       "      <td>0.436135</td>\n",
       "      <td>4</td>\n",
       "      <td>distance</td>\n",
       "      <td>{'classifier__n_neighbors': 4, 'classifier__we...</td>\n",
       "      <td>0.857046</td>\n",
       "      <td>0.973942</td>\n",
       "      <td>0.406645</td>\n",
       "      <td>0.745878</td>\n",
       "      <td>0.244575</td>\n",
       "      <td>1</td>\n",
       "    </tr>\n",
       "    <tr>\n",
       "      <th>2</th>\n",
       "      <td>0.430545</td>\n",
       "      <td>0.008662</td>\n",
       "      <td>147.671061</td>\n",
       "      <td>0.231922</td>\n",
       "      <td>5</td>\n",
       "      <td>distance</td>\n",
       "      <td>{'classifier__n_neighbors': 5, 'classifier__we...</td>\n",
       "      <td>0.855918</td>\n",
       "      <td>0.971569</td>\n",
       "      <td>0.406199</td>\n",
       "      <td>0.744562</td>\n",
       "      <td>0.243873</td>\n",
       "      <td>2</td>\n",
       "    </tr>\n",
       "    <tr>\n",
       "      <th>0</th>\n",
       "      <td>0.433232</td>\n",
       "      <td>0.003487</td>\n",
       "      <td>154.536052</td>\n",
       "      <td>0.202099</td>\n",
       "      <td>3</td>\n",
       "      <td>distance</td>\n",
       "      <td>{'classifier__n_neighbors': 3, 'classifier__we...</td>\n",
       "      <td>0.856388</td>\n",
       "      <td>0.973096</td>\n",
       "      <td>0.396588</td>\n",
       "      <td>0.742024</td>\n",
       "      <td>0.248864</td>\n",
       "      <td>3</td>\n",
       "    </tr>\n",
       "  </tbody>\n",
       "</table>\n",
       "</div>"
      ],
      "text/plain": [
       "   mean_fit_time  std_fit_time  mean_score_time  std_score_time  \\\n",
       "1       0.436036      0.008275       146.577561        0.436135   \n",
       "2       0.430545      0.008662       147.671061        0.231922   \n",
       "0       0.433232      0.003487       154.536052        0.202099   \n",
       "\n",
       "  param_classifier__n_neighbors param_classifier__weights  \\\n",
       "1                             4                  distance   \n",
       "2                             5                  distance   \n",
       "0                             3                  distance   \n",
       "\n",
       "                                              params  split0_test_score  \\\n",
       "1  {'classifier__n_neighbors': 4, 'classifier__we...           0.857046   \n",
       "2  {'classifier__n_neighbors': 5, 'classifier__we...           0.855918   \n",
       "0  {'classifier__n_neighbors': 3, 'classifier__we...           0.856388   \n",
       "\n",
       "   split1_test_score  split2_test_score  mean_test_score  std_test_score  \\\n",
       "1           0.973942           0.406645         0.745878        0.244575   \n",
       "2           0.971569           0.406199         0.744562        0.243873   \n",
       "0           0.973096           0.396588         0.742024        0.248864   \n",
       "\n",
       "   rank_test_score  \n",
       "1                1  \n",
       "2                2  \n",
       "0                3  "
      ]
     },
     "execution_count": 21,
     "metadata": {},
     "output_type": "execute_result"
    }
   ],
   "source": [
    "cv_res = pd.DataFrame(grid_search.cv_results_)\n",
    "cv_res.sort_values(by=\"mean_test_score\",ascending=False,inplace=True)\n",
    "cv_res"
   ]
  },
  {
   "cell_type": "markdown",
   "id": "e1c43bdf",
   "metadata": {
    "papermill": {
     "duration": 0.01293,
     "end_time": "2024-10-07T10:28:43.895332",
     "exception": false,
     "start_time": "2024-10-07T10:28:43.882402",
     "status": "completed"
    },
    "tags": []
   },
   "source": [
    "**Performance Measures:** "
   ]
  },
  {
   "cell_type": "code",
   "execution_count": 22,
   "id": "17e1ee67",
   "metadata": {
    "execution": {
     "iopub.execute_input": "2024-10-07T10:28:43.923375Z",
     "iopub.status.busy": "2024-10-07T10:28:43.922936Z",
     "iopub.status.idle": "2024-10-07T10:28:43.927629Z",
     "shell.execute_reply": "2024-10-07T10:28:43.926558Z"
    },
    "papermill": {
     "duration": 0.021547,
     "end_time": "2024-10-07T10:28:43.930076",
     "exception": false,
     "start_time": "2024-10-07T10:28:43.908529",
     "status": "completed"
    },
    "tags": []
   },
   "outputs": [],
   "source": [
    "#cross_val_score(grid_search,X_train_data,y_train_data,cv=3,scoring = \"accuracy\" )"
   ]
  },
  {
   "cell_type": "code",
   "execution_count": 23,
   "id": "12d24ad9",
   "metadata": {
    "execution": {
     "iopub.execute_input": "2024-10-07T10:28:43.958455Z",
     "iopub.status.busy": "2024-10-07T10:28:43.957628Z",
     "iopub.status.idle": "2024-10-07T11:05:10.633938Z",
     "shell.execute_reply": "2024-10-07T11:05:10.632069Z"
    },
    "papermill": {
     "duration": 2186.695676,
     "end_time": "2024-10-07T11:05:10.639069",
     "exception": false,
     "start_time": "2024-10-07T10:28:43.943393",
     "status": "completed"
    },
    "tags": []
   },
   "outputs": [],
   "source": [
    "y_train_predict = cross_val_predict(grid_search,X_train_data,y_train_data,cv=3 )"
   ]
  },
  {
   "cell_type": "code",
   "execution_count": 24,
   "id": "cef0e198",
   "metadata": {
    "execution": {
     "iopub.execute_input": "2024-10-07T11:05:10.691869Z",
     "iopub.status.busy": "2024-10-07T11:05:10.691373Z",
     "iopub.status.idle": "2024-10-07T11:05:11.318820Z",
     "shell.execute_reply": "2024-10-07T11:05:11.317732Z"
    },
    "papermill": {
     "duration": 0.653516,
     "end_time": "2024-10-07T11:05:11.321173",
     "exception": false,
     "start_time": "2024-10-07T11:05:10.667657",
     "status": "completed"
    },
    "tags": []
   },
   "outputs": [
    {
     "data": {
      "image/png": "[encoded data removed]",
      "text/plain": [
       "<Figure size 640x480 with 2 Axes>"
      ]
     },
     "metadata": {},
     "output_type": "display_data"
    }
   ],
   "source": [
    "ConfusionMatrixDisplay.from_predictions(y_train_predict,np.array(train_data.iloc[:,0]),normalize=\"true\",values_format=\".0%\")\n",
    "plt.show()"
   ]
  },
  {
   "cell_type": "code",
   "execution_count": 25,
   "id": "ed424958",
   "metadata": {
    "execution": {
     "iopub.execute_input": "2024-10-07T11:05:11.352387Z",
     "iopub.status.busy": "2024-10-07T11:05:11.351258Z",
     "iopub.status.idle": "2024-10-07T11:05:11.956149Z",
     "shell.execute_reply": "2024-10-07T11:05:11.954956Z"
    },
    "papermill": {
     "duration": 0.62306,
     "end_time": "2024-10-07T11:05:11.958761",
     "exception": false,
     "start_time": "2024-10-07T11:05:11.335701",
     "status": "completed"
    },
    "tags": []
   },
   "outputs": [
    {
     "data": {
      "image/png": "[encoded data removed]",
      "text/plain": [
       "<Figure size 640x480 with 2 Axes>"
      ]
     },
     "metadata": {},
     "output_type": "display_data"
    }
   ],
   "source": [
    "sample_weight = (y_train_predict != np.array(train_data.iloc[:,0]))\n",
    "ConfusionMatrixDisplay.from_predictions(np.array(train_data.iloc[:,0]),y_train_predict,sample_weight=sample_weight,normalize=\"true\",values_format=\".0%\")\n",
    "plt.show()"
   ]
  },
  {
   "cell_type": "markdown",
   "id": "5ecd6229",
   "metadata": {
    "papermill": {
     "duration": 0.01625,
     "end_time": "2024-10-07T11:05:11.991097",
     "exception": false,
     "start_time": "2024-10-07T11:05:11.974847",
     "status": "completed"
    },
    "tags": []
   },
   "source": [
    "**Evaluation :**"
   ]
  },
  {
   "cell_type": "code",
   "execution_count": 26,
   "id": "65b068eb",
   "metadata": {
    "execution": {
     "iopub.execute_input": "2024-10-07T11:05:12.024896Z",
     "iopub.status.busy": "2024-10-07T11:05:12.023860Z",
     "iopub.status.idle": "2024-10-07T11:07:47.008576Z",
     "shell.execute_reply": "2024-10-07T11:07:47.007391Z"
    },
    "papermill": {
     "duration": 155.00401,
     "end_time": "2024-10-07T11:07:47.011219",
     "exception": false,
     "start_time": "2024-10-07T11:05:12.007209",
     "status": "completed"
    },
    "tags": []
   },
   "outputs": [
    {
     "name": "stderr",
     "output_type": "stream",
     "text": [
      "/opt/conda/lib/python3.10/site-packages/sklearn/base.py:432: UserWarning: X has feature names, but KNeighborsClassifier was fitted without feature names\n",
      "  warnings.warn(\n"
     ]
    }
   ],
   "source": [
    "final_evaluation = grid_search.predict(test_data)"
   ]
  },
  {
   "cell_type": "code",
   "execution_count": 27,
   "id": "77f6ab54",
   "metadata": {
    "execution": {
     "iopub.execute_input": "2024-10-07T11:07:47.044093Z",
     "iopub.status.busy": "2024-10-07T11:07:47.043585Z",
     "iopub.status.idle": "2024-10-07T11:07:47.057852Z",
     "shell.execute_reply": "2024-10-07T11:07:47.056708Z"
    },
    "papermill": {
     "duration": 0.033226,
     "end_time": "2024-10-07T11:07:47.060110",
     "exception": false,
     "start_time": "2024-10-07T11:07:47.026884",
     "status": "completed"
    },
    "tags": []
   },
   "outputs": [
    {
     "data": {
      "text/html": [
       "<div>\n",
       "<style scoped>\n",
       "    .dataframe tbody tr th:only-of-type {\n",
       "        vertical-align: middle;\n",
       "    }\n",
       "\n",
       "    .dataframe tbody tr th {\n",
       "        vertical-align: top;\n",
       "    }\n",
       "\n",
       "    .dataframe thead th {\n",
       "        text-align: right;\n",
       "    }\n",
       "</style>\n",
       "<table border=\"1\" class=\"dataframe\">\n",
       "  <thead>\n",
       "    <tr style=\"text-align: right;\">\n",
       "      <th></th>\n",
       "      <th>ImageId</th>\n",
       "      <th>Label</th>\n",
       "    </tr>\n",
       "  </thead>\n",
       "  <tbody>\n",
       "    <tr>\n",
       "      <th>0</th>\n",
       "      <td>1</td>\n",
       "      <td>2</td>\n",
       "    </tr>\n",
       "    <tr>\n",
       "      <th>1</th>\n",
       "      <td>2</td>\n",
       "      <td>0</td>\n",
       "    </tr>\n",
       "    <tr>\n",
       "      <th>2</th>\n",
       "      <td>3</td>\n",
       "      <td>9</td>\n",
       "    </tr>\n",
       "    <tr>\n",
       "      <th>3</th>\n",
       "      <td>4</td>\n",
       "      <td>0</td>\n",
       "    </tr>\n",
       "    <tr>\n",
       "      <th>4</th>\n",
       "      <td>5</td>\n",
       "      <td>3</td>\n",
       "    </tr>\n",
       "    <tr>\n",
       "      <th>...</th>\n",
       "      <td>...</td>\n",
       "      <td>...</td>\n",
       "    </tr>\n",
       "    <tr>\n",
       "      <th>27995</th>\n",
       "      <td>27996</td>\n",
       "      <td>9</td>\n",
       "    </tr>\n",
       "    <tr>\n",
       "      <th>27996</th>\n",
       "      <td>27997</td>\n",
       "      <td>7</td>\n",
       "    </tr>\n",
       "    <tr>\n",
       "      <th>27997</th>\n",
       "      <td>27998</td>\n",
       "      <td>3</td>\n",
       "    </tr>\n",
       "    <tr>\n",
       "      <th>27998</th>\n",
       "      <td>27999</td>\n",
       "      <td>9</td>\n",
       "    </tr>\n",
       "    <tr>\n",
       "      <th>27999</th>\n",
       "      <td>28000</td>\n",
       "      <td>2</td>\n",
       "    </tr>\n",
       "  </tbody>\n",
       "</table>\n",
       "<p>28000 rows × 2 columns</p>\n",
       "</div>"
      ],
      "text/plain": [
       "       ImageId  Label\n",
       "0            1      2\n",
       "1            2      0\n",
       "2            3      9\n",
       "3            4      0\n",
       "4            5      3\n",
       "...        ...    ...\n",
       "27995    27996      9\n",
       "27996    27997      7\n",
       "27997    27998      3\n",
       "27998    27999      9\n",
       "27999    28000      2\n",
       "\n",
       "[28000 rows x 2 columns]"
      ]
     },
     "execution_count": 27,
     "metadata": {},
     "output_type": "execute_result"
    }
   ],
   "source": [
    "d = {'ImageId':np.arange(28000) + 1,'Label':final_evaluation}\n",
    "df = pd.DataFrame(data=d)\n",
    "df"
   ]
  },
  {
   "cell_type": "code",
   "execution_count": 28,
   "id": "9e029c78",
   "metadata": {
    "execution": {
     "iopub.execute_input": "2024-10-07T11:07:47.093112Z",
     "iopub.status.busy": "2024-10-07T11:07:47.092590Z",
     "iopub.status.idle": "2024-10-07T11:07:47.139891Z",
     "shell.execute_reply": "2024-10-07T11:07:47.138664Z"
    },
    "papermill": {
     "duration": 0.066651,
     "end_time": "2024-10-07T11:07:47.142504",
     "exception": false,
     "start_time": "2024-10-07T11:07:47.075853",
     "status": "completed"
    },
    "tags": []
   },
   "outputs": [],
   "source": [
    "df.to_csv('out.csv',index=False)"
   ]
  },
  {
   "cell_type": "code",
   "execution_count": null,
   "id": "027b1738",
   "metadata": {
    "papermill": {
     "duration": 0.015313,
     "end_time": "2024-10-07T11:07:47.173536",
     "exception": false,
     "start_time": "2024-10-07T11:07:47.158223",
     "status": "completed"
    },
    "tags": []
   },
   "outputs": [],
   "source": []
  }
 ],
 "metadata": {
  "kaggle": {
   "accelerator": "none",
   "dataSources": [
    {
     "databundleVersionId": 861823,
     "sourceId": 3004,
     "sourceType": "competition"
    }
   ],
   "dockerImageVersionId": 30761,
   "isGpuEnabled": false,
   "isInternetEnabled": false,
   "language": "python",
   "sourceType": "notebook"
  },
  "kernelspec": {
   "display_name": "Python 3",
   "language": "python",
   "name": "python3"
  },
  "language_info": {
   "codemirror_mode": {
    "name": "ipython",
    "version": 3
   },
   "file_extension": ".py",
   "mimetype": "text/x-python",
   "name": "python",
   "nbconvert_exporter": "python",
   "pygments_lexer": "ipython3",
   "version": "3.10.14"
  },
  "papermill": {
   "default_parameters": {},
   "duration": 7244.237817,
   "end_time": "2024-10-07T11:07:47.914910",
   "environment_variables": {},
   "exception": null,
   "input_path": "__notebook__.ipynb",
   "output_path": "__notebook__.ipynb",
   "parameters": {},
   "start_time": "2024-10-07T09:07:03.677093",
   "version": "2.6.0"
  }
 },
 "nbformat": 4,
 "nbformat_minor": 5
}
