{
 "cells": [
  {
   "cell_type": "markdown",
   "id": "06ff0b39",
   "metadata": {
    "papermill": {
     "duration": 0.011273,
     "end_time": "2024-09-23T09:49:09.208981",
     "exception": false,
     "start_time": "2024-09-23T09:49:09.197708",
     "status": "completed"
    },
    "tags": []
   },
   "source": [
    "**Importing Libraries:**"
   ]
  },
  {
   "cell_type": "code",
   "execution_count": 1,
   "id": "3ffd81c5",
   "metadata": {
    "execution": {
     "iopub.execute_input": "2024-09-23T09:49:09.232891Z",
     "iopub.status.busy": "2024-09-23T09:49:09.231864Z",
     "iopub.status.idle": "2024-09-23T09:49:11.270854Z",
     "shell.execute_reply": "2024-09-23T09:49:11.269678Z"
    },
    "papermill": {
     "duration": 2.053579,
     "end_time": "2024-09-23T09:49:11.273635",
     "exception": false,
     "start_time": "2024-09-23T09:49:09.220056",
     "status": "completed"
    },
    "tags": []
   },
   "outputs": [
    {
     "name": "stderr",
     "output_type": "stream",
     "text": [
      "/tmp/ipykernel_17/4030402293.py:12: DeprecationWarning: Please import `shift` from the `scipy.ndimage` namespace; the `scipy.ndimage.interpolation` namespace is deprecated and will be removed in SciPy 2.0.0.\n",
      "  from scipy.ndimage.interpolation import shift\n"
     ]
    }
   ],
   "source": [
    "import numpy as np\n",
    "import pandas as pd\n",
    "import os\n",
    "from pathlib import Path\n",
    "import matplotlib.pyplot as plt\n",
    "from sklearn.neighbors import KNeighborsClassifier\n",
    "from sklearn.model_selection import cross_val_score\n",
    "from sklearn.model_selection import cross_val_predict\n",
    "from sklearn.metrics import ConfusionMatrixDisplay\n",
    "from sklearn.pipeline import Pipeline\n",
    "from sklearn.model_selection import GridSearchCV\n",
    "from scipy.ndimage.interpolation import shift\n",
    "from IPython.display import clear_output"
   ]
  },
  {
   "cell_type": "markdown",
   "id": "a0dbdd08",
   "metadata": {
    "papermill": {
     "duration": 0.010419,
     "end_time": "2024-09-23T09:49:11.294923",
     "exception": false,
     "start_time": "2024-09-23T09:49:11.284504",
     "status": "completed"
    },
    "tags": []
   },
   "source": [
    "**Listing files under input directory:**"
   ]
  },
  {
   "cell_type": "code",
   "execution_count": 2,
   "id": "2252ff9d",
   "metadata": {
    "execution": {
     "iopub.execute_input": "2024-09-23T09:49:11.318221Z",
     "iopub.status.busy": "2024-09-23T09:49:11.317384Z",
     "iopub.status.idle": "2024-09-23T09:49:11.325997Z",
     "shell.execute_reply": "2024-09-23T09:49:11.324552Z"
    },
    "papermill": {
     "duration": 0.023089,
     "end_time": "2024-09-23T09:49:11.328576",
     "exception": false,
     "start_time": "2024-09-23T09:49:11.305487",
     "status": "completed"
    },
    "tags": []
   },
   "outputs": [
    {
     "name": "stdout",
     "output_type": "stream",
     "text": [
      "/kaggle/input/digit-recognizer/sample_submission.csv\n",
      "/kaggle/input/digit-recognizer/train.csv\n",
      "/kaggle/input/digit-recognizer/test.csv\n"
     ]
    }
   ],
   "source": [
    "for dirname, _, filenames in os.walk('/kaggle/input'):\n",
    "    for filename in filenames:\n",
    "        print(os.path.join(dirname, filename))"
   ]
  },
  {
   "cell_type": "markdown",
   "id": "69933720",
   "metadata": {
    "papermill": {
     "duration": 0.010326,
     "end_time": "2024-09-23T09:49:11.349842",
     "exception": false,
     "start_time": "2024-09-23T09:49:11.339516",
     "status": "completed"
    },
    "tags": []
   },
   "source": [
    "**Reading .csv files :**"
   ]
  },
  {
   "cell_type": "code",
   "execution_count": 3,
   "id": "12509c0a",
   "metadata": {
    "execution": {
     "iopub.execute_input": "2024-09-23T09:49:11.373184Z",
     "iopub.status.busy": "2024-09-23T09:49:11.372732Z",
     "iopub.status.idle": "2024-09-23T09:49:18.525907Z",
     "shell.execute_reply": "2024-09-23T09:49:18.524644Z"
    },
    "papermill": {
     "duration": 7.168621,
     "end_time": "2024-09-23T09:49:18.529273",
     "exception": false,
     "start_time": "2024-09-23T09:49:11.360652",
     "status": "completed"
    },
    "tags": []
   },
   "outputs": [],
   "source": [
    "train_data = pd.read_csv(Path(\"/kaggle/input/digit-recognizer/train.csv\"))\n",
    "test_data = pd.read_csv(Path(\"/kaggle/input/digit-recognizer/test.csv\"))\n",
    "sample_submission = pd.read_csv(Path(\"/kaggle/input/digit-recognizer/sample_submission.csv\"))"
   ]
  },
  {
   "cell_type": "markdown",
   "id": "6bafbd63",
   "metadata": {
    "papermill": {
     "duration": 0.010167,
     "end_time": "2024-09-23T09:49:18.550405",
     "exception": false,
     "start_time": "2024-09-23T09:49:18.540238",
     "status": "completed"
    },
    "tags": []
   },
   "source": [
    "**Taking a quick look at the data structure:**"
   ]
  },
  {
   "cell_type": "code",
   "execution_count": 4,
   "id": "a1552850",
   "metadata": {
    "execution": {
     "iopub.execute_input": "2024-09-23T09:49:18.573224Z",
     "iopub.status.busy": "2024-09-23T09:49:18.572778Z",
     "iopub.status.idle": "2024-09-23T09:49:18.603805Z",
     "shell.execute_reply": "2024-09-23T09:49:18.602549Z"
    },
    "papermill": {
     "duration": 0.045712,
     "end_time": "2024-09-23T09:49:18.606745",
     "exception": false,
     "start_time": "2024-09-23T09:49:18.561033",
     "status": "completed"
    },
    "tags": []
   },
   "outputs": [
    {
     "data": {
      "text/html": [
       "<div>\n",
       "<style scoped>\n",
       "    .dataframe tbody tr th:only-of-type {\n",
       "        vertical-align: middle;\n",
       "    }\n",
       "\n",
       "    .dataframe tbody tr th {\n",
       "        vertical-align: top;\n",
       "    }\n",
       "\n",
       "    .dataframe thead th {\n",
       "        text-align: right;\n",
       "    }\n",
       "</style>\n",
       "<table border=\"1\" class=\"dataframe\">\n",
       "  <thead>\n",
       "    <tr style=\"text-align: right;\">\n",
       "      <th></th>\n",
       "      <th>label</th>\n",
       "      <th>pixel0</th>\n",
       "      <th>pixel1</th>\n",
       "      <th>pixel2</th>\n",
       "      <th>pixel3</th>\n",
       "      <th>pixel4</th>\n",
       "      <th>pixel5</th>\n",
       "      <th>pixel6</th>\n",
       "      <th>pixel7</th>\n",
       "      <th>pixel8</th>\n",
       "      <th>...</th>\n",
       "      <th>pixel774</th>\n",
       "      <th>pixel775</th>\n",
       "      <th>pixel776</th>\n",
       "      <th>pixel777</th>\n",
       "      <th>pixel778</th>\n",
       "      <th>pixel779</th>\n",
       "      <th>pixel780</th>\n",
       "      <th>pixel781</th>\n",
       "      <th>pixel782</th>\n",
       "      <th>pixel783</th>\n",
       "    </tr>\n",
       "  </thead>\n",
       "  <tbody>\n",
       "    <tr>\n",
       "      <th>0</th>\n",
       "      <td>1</td>\n",
       "      <td>0</td>\n",
       "      <td>0</td>\n",
       "      <td>0</td>\n",
       "      <td>0</td>\n",
       "      <td>0</td>\n",
       "      <td>0</td>\n",
       "      <td>0</td>\n",
       "      <td>0</td>\n",
       "      <td>0</td>\n",
       "      <td>...</td>\n",
       "      <td>0</td>\n",
       "      <td>0</td>\n",
       "      <td>0</td>\n",
       "      <td>0</td>\n",
       "      <td>0</td>\n",
       "      <td>0</td>\n",
       "      <td>0</td>\n",
       "      <td>0</td>\n",
       "      <td>0</td>\n",
       "      <td>0</td>\n",
       "    </tr>\n",
       "    <tr>\n",
       "      <th>1</th>\n",
       "      <td>0</td>\n",
       "      <td>0</td>\n",
       "      <td>0</td>\n",
       "      <td>0</td>\n",
       "      <td>0</td>\n",
       "      <td>0</td>\n",
       "      <td>0</td>\n",
       "      <td>0</td>\n",
       "      <td>0</td>\n",
       "      <td>0</td>\n",
       "      <td>...</td>\n",
       "      <td>0</td>\n",
       "      <td>0</td>\n",
       "      <td>0</td>\n",
       "      <td>0</td>\n",
       "      <td>0</td>\n",
       "      <td>0</td>\n",
       "      <td>0</td>\n",
       "      <td>0</td>\n",
       "      <td>0</td>\n",
       "      <td>0</td>\n",
       "    </tr>\n",
       "    <tr>\n",
       "      <th>2</th>\n",
       "      <td>1</td>\n",
       "      <td>0</td>\n",
       "      <td>0</td>\n",
       "      <td>0</td>\n",
       "      <td>0</td>\n",
       "      <td>0</td>\n",
       "      <td>0</td>\n",
       "      <td>0</td>\n",
       "      <td>0</td>\n",
       "      <td>0</td>\n",
       "      <td>...</td>\n",
       "      <td>0</td>\n",
       "      <td>0</td>\n",
       "      <td>0</td>\n",
       "      <td>0</td>\n",
       "      <td>0</td>\n",
       "      <td>0</td>\n",
       "      <td>0</td>\n",
       "      <td>0</td>\n",
       "      <td>0</td>\n",
       "      <td>0</td>\n",
       "    </tr>\n",
       "    <tr>\n",
       "      <th>3</th>\n",
       "      <td>4</td>\n",
       "      <td>0</td>\n",
       "      <td>0</td>\n",
       "      <td>0</td>\n",
       "      <td>0</td>\n",
       "      <td>0</td>\n",
       "      <td>0</td>\n",
       "      <td>0</td>\n",
       "      <td>0</td>\n",
       "      <td>0</td>\n",
       "      <td>...</td>\n",
       "      <td>0</td>\n",
       "      <td>0</td>\n",
       "      <td>0</td>\n",
       "      <td>0</td>\n",
       "      <td>0</td>\n",
       "      <td>0</td>\n",
       "      <td>0</td>\n",
       "      <td>0</td>\n",
       "      <td>0</td>\n",
       "      <td>0</td>\n",
       "    </tr>\n",
       "    <tr>\n",
       "      <th>4</th>\n",
       "      <td>0</td>\n",
       "      <td>0</td>\n",
       "      <td>0</td>\n",
       "      <td>0</td>\n",
       "      <td>0</td>\n",
       "      <td>0</td>\n",
       "      <td>0</td>\n",
       "      <td>0</td>\n",
       "      <td>0</td>\n",
       "      <td>0</td>\n",
       "      <td>...</td>\n",
       "      <td>0</td>\n",
       "      <td>0</td>\n",
       "      <td>0</td>\n",
       "      <td>0</td>\n",
       "      <td>0</td>\n",
       "      <td>0</td>\n",
       "      <td>0</td>\n",
       "      <td>0</td>\n",
       "      <td>0</td>\n",
       "      <td>0</td>\n",
       "    </tr>\n",
       "  </tbody>\n",
       "</table>\n",
       "<p>5 rows × 785 columns</p>\n",
       "</div>"
      ],
      "text/plain": [
       "   label  pixel0  pixel1  pixel2  pixel3  pixel4  pixel5  pixel6  pixel7  \\\n",
       "0      1       0       0       0       0       0       0       0       0   \n",
       "1      0       0       0       0       0       0       0       0       0   \n",
       "2      1       0       0       0       0       0       0       0       0   \n",
       "3      4       0       0       0       0       0       0       0       0   \n",
       "4      0       0       0       0       0       0       0       0       0   \n",
       "\n",
       "   pixel8  ...  pixel774  pixel775  pixel776  pixel777  pixel778  pixel779  \\\n",
       "0       0  ...         0         0         0         0         0         0   \n",
       "1       0  ...         0         0         0         0         0         0   \n",
       "2       0  ...         0         0         0         0         0         0   \n",
       "3       0  ...         0         0         0         0         0         0   \n",
       "4       0  ...         0         0         0         0         0         0   \n",
       "\n",
       "   pixel780  pixel781  pixel782  pixel783  \n",
       "0         0         0         0         0  \n",
       "1         0         0         0         0  \n",
       "2         0         0         0         0  \n",
       "3         0         0         0         0  \n",
       "4         0         0         0         0  \n",
       "\n",
       "[5 rows x 785 columns]"
      ]
     },
     "execution_count": 4,
     "metadata": {},
     "output_type": "execute_result"
    }
   ],
   "source": [
    "train_data.head()"
   ]
  },
  {
   "cell_type": "code",
   "execution_count": 5,
   "id": "71b0544b",
   "metadata": {
    "execution": {
     "iopub.execute_input": "2024-09-23T09:49:18.630777Z",
     "iopub.status.busy": "2024-09-23T09:49:18.630350Z",
     "iopub.status.idle": "2024-09-23T09:49:20.757542Z",
     "shell.execute_reply": "2024-09-23T09:49:20.756296Z"
    },
    "papermill": {
     "duration": 2.142329,
     "end_time": "2024-09-23T09:49:20.760268",
     "exception": false,
     "start_time": "2024-09-23T09:49:18.617939",
     "status": "completed"
    },
    "tags": []
   },
   "outputs": [
    {
     "data": {
      "text/html": [
       "<div>\n",
       "<style scoped>\n",
       "    .dataframe tbody tr th:only-of-type {\n",
       "        vertical-align: middle;\n",
       "    }\n",
       "\n",
       "    .dataframe tbody tr th {\n",
       "        vertical-align: top;\n",
       "    }\n",
       "\n",
       "    .dataframe thead th {\n",
       "        text-align: right;\n",
       "    }\n",
       "</style>\n",
       "<table border=\"1\" class=\"dataframe\">\n",
       "  <thead>\n",
       "    <tr style=\"text-align: right;\">\n",
       "      <th></th>\n",
       "      <th>label</th>\n",
       "      <th>pixel0</th>\n",
       "      <th>pixel1</th>\n",
       "      <th>pixel2</th>\n",
       "      <th>pixel3</th>\n",
       "      <th>pixel4</th>\n",
       "      <th>pixel5</th>\n",
       "      <th>pixel6</th>\n",
       "      <th>pixel7</th>\n",
       "      <th>pixel8</th>\n",
       "      <th>...</th>\n",
       "      <th>pixel774</th>\n",
       "      <th>pixel775</th>\n",
       "      <th>pixel776</th>\n",
       "      <th>pixel777</th>\n",
       "      <th>pixel778</th>\n",
       "      <th>pixel779</th>\n",
       "      <th>pixel780</th>\n",
       "      <th>pixel781</th>\n",
       "      <th>pixel782</th>\n",
       "      <th>pixel783</th>\n",
       "    </tr>\n",
       "  </thead>\n",
       "  <tbody>\n",
       "    <tr>\n",
       "      <th>count</th>\n",
       "      <td>42000.000000</td>\n",
       "      <td>42000.0</td>\n",
       "      <td>42000.0</td>\n",
       "      <td>42000.0</td>\n",
       "      <td>42000.0</td>\n",
       "      <td>42000.0</td>\n",
       "      <td>42000.0</td>\n",
       "      <td>42000.0</td>\n",
       "      <td>42000.0</td>\n",
       "      <td>42000.0</td>\n",
       "      <td>...</td>\n",
       "      <td>42000.000000</td>\n",
       "      <td>42000.000000</td>\n",
       "      <td>42000.000000</td>\n",
       "      <td>42000.00000</td>\n",
       "      <td>42000.000000</td>\n",
       "      <td>42000.000000</td>\n",
       "      <td>42000.0</td>\n",
       "      <td>42000.0</td>\n",
       "      <td>42000.0</td>\n",
       "      <td>42000.0</td>\n",
       "    </tr>\n",
       "    <tr>\n",
       "      <th>mean</th>\n",
       "      <td>4.456643</td>\n",
       "      <td>0.0</td>\n",
       "      <td>0.0</td>\n",
       "      <td>0.0</td>\n",
       "      <td>0.0</td>\n",
       "      <td>0.0</td>\n",
       "      <td>0.0</td>\n",
       "      <td>0.0</td>\n",
       "      <td>0.0</td>\n",
       "      <td>0.0</td>\n",
       "      <td>...</td>\n",
       "      <td>0.219286</td>\n",
       "      <td>0.117095</td>\n",
       "      <td>0.059024</td>\n",
       "      <td>0.02019</td>\n",
       "      <td>0.017238</td>\n",
       "      <td>0.002857</td>\n",
       "      <td>0.0</td>\n",
       "      <td>0.0</td>\n",
       "      <td>0.0</td>\n",
       "      <td>0.0</td>\n",
       "    </tr>\n",
       "    <tr>\n",
       "      <th>std</th>\n",
       "      <td>2.887730</td>\n",
       "      <td>0.0</td>\n",
       "      <td>0.0</td>\n",
       "      <td>0.0</td>\n",
       "      <td>0.0</td>\n",
       "      <td>0.0</td>\n",
       "      <td>0.0</td>\n",
       "      <td>0.0</td>\n",
       "      <td>0.0</td>\n",
       "      <td>0.0</td>\n",
       "      <td>...</td>\n",
       "      <td>6.312890</td>\n",
       "      <td>4.633819</td>\n",
       "      <td>3.274488</td>\n",
       "      <td>1.75987</td>\n",
       "      <td>1.894498</td>\n",
       "      <td>0.414264</td>\n",
       "      <td>0.0</td>\n",
       "      <td>0.0</td>\n",
       "      <td>0.0</td>\n",
       "      <td>0.0</td>\n",
       "    </tr>\n",
       "    <tr>\n",
       "      <th>min</th>\n",
       "      <td>0.000000</td>\n",
       "      <td>0.0</td>\n",
       "      <td>0.0</td>\n",
       "      <td>0.0</td>\n",
       "      <td>0.0</td>\n",
       "      <td>0.0</td>\n",
       "      <td>0.0</td>\n",
       "      <td>0.0</td>\n",
       "      <td>0.0</td>\n",
       "      <td>0.0</td>\n",
       "      <td>...</td>\n",
       "      <td>0.000000</td>\n",
       "      <td>0.000000</td>\n",
       "      <td>0.000000</td>\n",
       "      <td>0.00000</td>\n",
       "      <td>0.000000</td>\n",
       "      <td>0.000000</td>\n",
       "      <td>0.0</td>\n",
       "      <td>0.0</td>\n",
       "      <td>0.0</td>\n",
       "      <td>0.0</td>\n",
       "    </tr>\n",
       "    <tr>\n",
       "      <th>25%</th>\n",
       "      <td>2.000000</td>\n",
       "      <td>0.0</td>\n",
       "      <td>0.0</td>\n",
       "      <td>0.0</td>\n",
       "      <td>0.0</td>\n",
       "      <td>0.0</td>\n",
       "      <td>0.0</td>\n",
       "      <td>0.0</td>\n",
       "      <td>0.0</td>\n",
       "      <td>0.0</td>\n",
       "      <td>...</td>\n",
       "      <td>0.000000</td>\n",
       "      <td>0.000000</td>\n",
       "      <td>0.000000</td>\n",
       "      <td>0.00000</td>\n",
       "      <td>0.000000</td>\n",
       "      <td>0.000000</td>\n",
       "      <td>0.0</td>\n",
       "      <td>0.0</td>\n",
       "      <td>0.0</td>\n",
       "      <td>0.0</td>\n",
       "    </tr>\n",
       "    <tr>\n",
       "      <th>50%</th>\n",
       "      <td>4.000000</td>\n",
       "      <td>0.0</td>\n",
       "      <td>0.0</td>\n",
       "      <td>0.0</td>\n",
       "      <td>0.0</td>\n",
       "      <td>0.0</td>\n",
       "      <td>0.0</td>\n",
       "      <td>0.0</td>\n",
       "      <td>0.0</td>\n",
       "      <td>0.0</td>\n",
       "      <td>...</td>\n",
       "      <td>0.000000</td>\n",
       "      <td>0.000000</td>\n",
       "      <td>0.000000</td>\n",
       "      <td>0.00000</td>\n",
       "      <td>0.000000</td>\n",
       "      <td>0.000000</td>\n",
       "      <td>0.0</td>\n",
       "      <td>0.0</td>\n",
       "      <td>0.0</td>\n",
       "      <td>0.0</td>\n",
       "    </tr>\n",
       "    <tr>\n",
       "      <th>75%</th>\n",
       "      <td>7.000000</td>\n",
       "      <td>0.0</td>\n",
       "      <td>0.0</td>\n",
       "      <td>0.0</td>\n",
       "      <td>0.0</td>\n",
       "      <td>0.0</td>\n",
       "      <td>0.0</td>\n",
       "      <td>0.0</td>\n",
       "      <td>0.0</td>\n",
       "      <td>0.0</td>\n",
       "      <td>...</td>\n",
       "      <td>0.000000</td>\n",
       "      <td>0.000000</td>\n",
       "      <td>0.000000</td>\n",
       "      <td>0.00000</td>\n",
       "      <td>0.000000</td>\n",
       "      <td>0.000000</td>\n",
       "      <td>0.0</td>\n",
       "      <td>0.0</td>\n",
       "      <td>0.0</td>\n",
       "      <td>0.0</td>\n",
       "    </tr>\n",
       "    <tr>\n",
       "      <th>max</th>\n",
       "      <td>9.000000</td>\n",
       "      <td>0.0</td>\n",
       "      <td>0.0</td>\n",
       "      <td>0.0</td>\n",
       "      <td>0.0</td>\n",
       "      <td>0.0</td>\n",
       "      <td>0.0</td>\n",
       "      <td>0.0</td>\n",
       "      <td>0.0</td>\n",
       "      <td>0.0</td>\n",
       "      <td>...</td>\n",
       "      <td>254.000000</td>\n",
       "      <td>254.000000</td>\n",
       "      <td>253.000000</td>\n",
       "      <td>253.00000</td>\n",
       "      <td>254.000000</td>\n",
       "      <td>62.000000</td>\n",
       "      <td>0.0</td>\n",
       "      <td>0.0</td>\n",
       "      <td>0.0</td>\n",
       "      <td>0.0</td>\n",
       "    </tr>\n",
       "  </tbody>\n",
       "</table>\n",
       "<p>8 rows × 785 columns</p>\n",
       "</div>"
      ],
      "text/plain": [
       "              label   pixel0   pixel1   pixel2   pixel3   pixel4   pixel5  \\\n",
       "count  42000.000000  42000.0  42000.0  42000.0  42000.0  42000.0  42000.0   \n",
       "mean       4.456643      0.0      0.0      0.0      0.0      0.0      0.0   \n",
       "std        2.887730      0.0      0.0      0.0      0.0      0.0      0.0   \n",
       "min        0.000000      0.0      0.0      0.0      0.0      0.0      0.0   \n",
       "25%        2.000000      0.0      0.0      0.0      0.0      0.0      0.0   \n",
       "50%        4.000000      0.0      0.0      0.0      0.0      0.0      0.0   \n",
       "75%        7.000000      0.0      0.0      0.0      0.0      0.0      0.0   \n",
       "max        9.000000      0.0      0.0      0.0      0.0      0.0      0.0   \n",
       "\n",
       "        pixel6   pixel7   pixel8  ...      pixel774      pixel775  \\\n",
       "count  42000.0  42000.0  42000.0  ...  42000.000000  42000.000000   \n",
       "mean       0.0      0.0      0.0  ...      0.219286      0.117095   \n",
       "std        0.0      0.0      0.0  ...      6.312890      4.633819   \n",
       "min        0.0      0.0      0.0  ...      0.000000      0.000000   \n",
       "25%        0.0      0.0      0.0  ...      0.000000      0.000000   \n",
       "50%        0.0      0.0      0.0  ...      0.000000      0.000000   \n",
       "75%        0.0      0.0      0.0  ...      0.000000      0.000000   \n",
       "max        0.0      0.0      0.0  ...    254.000000    254.000000   \n",
       "\n",
       "           pixel776     pixel777      pixel778      pixel779  pixel780  \\\n",
       "count  42000.000000  42000.00000  42000.000000  42000.000000   42000.0   \n",
       "mean       0.059024      0.02019      0.017238      0.002857       0.0   \n",
       "std        3.274488      1.75987      1.894498      0.414264       0.0   \n",
       "min        0.000000      0.00000      0.000000      0.000000       0.0   \n",
       "25%        0.000000      0.00000      0.000000      0.000000       0.0   \n",
       "50%        0.000000      0.00000      0.000000      0.000000       0.0   \n",
       "75%        0.000000      0.00000      0.000000      0.000000       0.0   \n",
       "max      253.000000    253.00000    254.000000     62.000000       0.0   \n",
       "\n",
       "       pixel781  pixel782  pixel783  \n",
       "count   42000.0   42000.0   42000.0  \n",
       "mean        0.0       0.0       0.0  \n",
       "std         0.0       0.0       0.0  \n",
       "min         0.0       0.0       0.0  \n",
       "25%         0.0       0.0       0.0  \n",
       "50%         0.0       0.0       0.0  \n",
       "75%         0.0       0.0       0.0  \n",
       "max         0.0       0.0       0.0  \n",
       "\n",
       "[8 rows x 785 columns]"
      ]
     },
     "execution_count": 5,
     "metadata": {},
     "output_type": "execute_result"
    }
   ],
   "source": [
    "train_data.describe()"
   ]
  },
  {
   "cell_type": "code",
   "execution_count": 6,
   "id": "9a31efbc",
   "metadata": {
    "execution": {
     "iopub.execute_input": "2024-09-23T09:49:20.785284Z",
     "iopub.status.busy": "2024-09-23T09:49:20.784396Z",
     "iopub.status.idle": "2024-09-23T09:49:20.840942Z",
     "shell.execute_reply": "2024-09-23T09:49:20.839440Z"
    },
    "papermill": {
     "duration": 0.072035,
     "end_time": "2024-09-23T09:49:20.843710",
     "exception": false,
     "start_time": "2024-09-23T09:49:20.771675",
     "status": "completed"
    },
    "tags": []
   },
   "outputs": [
    {
     "name": "stdout",
     "output_type": "stream",
     "text": [
      "<class 'pandas.core.frame.DataFrame'>\n",
      "RangeIndex: 42000 entries, 0 to 41999\n",
      "Columns: 785 entries, label to pixel783\n",
      "dtypes: int64(785)\n",
      "memory usage: 251.5 MB\n"
     ]
    }
   ],
   "source": [
    "train_data.info()"
   ]
  },
  {
   "cell_type": "code",
   "execution_count": 7,
   "id": "ffc29929",
   "metadata": {
    "execution": {
     "iopub.execute_input": "2024-09-23T09:49:20.869586Z",
     "iopub.status.busy": "2024-09-23T09:49:20.869146Z",
     "iopub.status.idle": "2024-09-23T09:49:20.875381Z",
     "shell.execute_reply": "2024-09-23T09:49:20.874249Z"
    },
    "papermill": {
     "duration": 0.02208,
     "end_time": "2024-09-23T09:49:20.877723",
     "exception": false,
     "start_time": "2024-09-23T09:49:20.855643",
     "status": "completed"
    },
    "tags": []
   },
   "outputs": [],
   "source": [
    "#plotting the digits\n",
    "def plot_digit(X,v=0,h=0):\n",
    "    image = shift(X.reshape(28,28),(v,h))\n",
    "    plt.imshow(image,cmap=\"binary\")\n",
    "    plt.axis(\"off\")"
   ]
  },
  {
   "cell_type": "code",
   "execution_count": 8,
   "id": "83fbe065",
   "metadata": {
    "execution": {
     "iopub.execute_input": "2024-09-23T09:49:20.902755Z",
     "iopub.status.busy": "2024-09-23T09:49:20.902353Z",
     "iopub.status.idle": "2024-09-23T09:49:21.119146Z",
     "shell.execute_reply": "2024-09-23T09:49:21.117620Z"
    },
    "papermill": {
     "duration": 0.232689,
     "end_time": "2024-09-23T09:49:21.122065",
     "exception": false,
     "start_time": "2024-09-23T09:49:20.889376",
     "status": "completed"
    },
    "tags": []
   },
   "outputs": [
    {
     "data": {
      "image/png": "[encoded data removed]",
      "text/plain": [
       "<Figure size 640x480 with 1 Axes>"
      ]
     },
     "metadata": {},
     "output_type": "display_data"
    }
   ],
   "source": [
    "td = np.array(train_data)\n",
    "plot_digit(td[3,1:])"
   ]
  },
  {
   "cell_type": "markdown",
   "id": "e72a5cc1",
   "metadata": {
    "papermill": {
     "duration": 0.011487,
     "end_time": "2024-09-23T09:49:21.145207",
     "exception": false,
     "start_time": "2024-09-23T09:49:21.133720",
     "status": "completed"
    },
    "tags": []
   },
   "source": [
    "**Preparing the data :**"
   ]
  },
  {
   "cell_type": "code",
   "execution_count": 9,
   "id": "18396a14",
   "metadata": {
    "execution": {
     "iopub.execute_input": "2024-09-23T09:49:21.170951Z",
     "iopub.status.busy": "2024-09-23T09:49:21.170505Z",
     "iopub.status.idle": "2024-09-23T09:49:21.184123Z",
     "shell.execute_reply": "2024-09-23T09:49:21.182757Z"
    },
    "papermill": {
     "duration": 0.029368,
     "end_time": "2024-09-23T09:49:21.186637",
     "exception": false,
     "start_time": "2024-09-23T09:49:21.157269",
     "status": "completed"
    },
    "tags": []
   },
   "outputs": [],
   "source": [
    "def Augment(train_data,n):\n",
    "    Fours = train_data[train_data[\"label\"]==n]\n",
    "    X_fours_data = np.array(Fours.iloc[:,1:])\n",
    "    y_fours_data = np.array(Fours.iloc[:,0])\n",
    "    j = 0\n",
    "    for i in X_fours_data :\n",
    "        j = j + 1\n",
    "        print(j*100/len(y_fours_data))\n",
    "        t1 = shift(i.reshape(28,28),(1,-1))\n",
    "        t2 = shift(i.reshape(28,28),(1,1))\n",
    "        t3 = shift(i.reshape(28,28),(-1,1))\n",
    "        t4 = shift(i.reshape(28,28),(-1,-1))\n",
    "        t1 = np.insert(t1.reshape(1,-1),[0],n)\n",
    "        t2 = np.insert(t2.reshape(1,-1),[0],n)\n",
    "        t3 = np.insert(t3.reshape(1,-1),[0],n)\n",
    "        t4 = np.insert(t4.reshape(1,-1),[0],n)\n",
    "        t1 = pd.DataFrame(t1.reshape(1,785),index = [0],columns = train_data.columns)\n",
    "        t2 = pd.DataFrame(t2.reshape(1,785),index = [1],columns = train_data.columns)\n",
    "        t3 = pd.DataFrame(t3.reshape(1,785),index = [2],columns = train_data.columns)\n",
    "        t4 = pd.DataFrame(t4.reshape(1,785),index = [3],columns = train_data.columns)\n",
    "        t = pd.concat([t1,t2,t3,t4])\n",
    "        train_data = pd.concat([train_data,t])\n",
    "        clear_output()\n",
    "    return train_data"
   ]
  },
  {
   "cell_type": "code",
   "execution_count": 10,
   "id": "a1434586",
   "metadata": {
    "execution": {
     "iopub.execute_input": "2024-09-23T09:49:21.212072Z",
     "iopub.status.busy": "2024-09-23T09:49:21.211621Z",
     "iopub.status.idle": "2024-09-23T09:56:17.435972Z",
     "shell.execute_reply": "2024-09-23T09:56:17.434415Z"
    },
    "papermill": {
     "duration": 416.240419,
     "end_time": "2024-09-23T09:56:17.438926",
     "exception": false,
     "start_time": "2024-09-23T09:49:21.198507",
     "status": "completed"
    },
    "tags": []
   },
   "outputs": [],
   "source": [
    "train_data = Augment(train_data,4)"
   ]
  },
  {
   "cell_type": "code",
   "execution_count": 11,
   "id": "7c666df7",
   "metadata": {
    "execution": {
     "iopub.execute_input": "2024-09-23T09:56:17.465059Z",
     "iopub.status.busy": "2024-09-23T09:56:17.464171Z",
     "iopub.status.idle": "2024-09-23T10:05:18.198572Z",
     "shell.execute_reply": "2024-09-23T10:05:18.197402Z"
    },
    "papermill": {
     "duration": 540.750293,
     "end_time": "2024-09-23T10:05:18.201229",
     "exception": false,
     "start_time": "2024-09-23T09:56:17.450936",
     "status": "completed"
    },
    "tags": []
   },
   "outputs": [],
   "source": [
    "train_data = Augment(train_data,8)"
   ]
  },
  {
   "cell_type": "code",
   "execution_count": 12,
   "id": "a8a0438a",
   "metadata": {
    "execution": {
     "iopub.execute_input": "2024-09-23T10:05:18.227664Z",
     "iopub.status.busy": "2024-09-23T10:05:18.227242Z",
     "iopub.status.idle": "2024-09-23T10:16:37.152704Z",
     "shell.execute_reply": "2024-09-23T10:16:37.151666Z"
    },
    "papermill": {
     "duration": 678.942221,
     "end_time": "2024-09-23T10:16:37.155328",
     "exception": false,
     "start_time": "2024-09-23T10:05:18.213107",
     "status": "completed"
    },
    "tags": []
   },
   "outputs": [],
   "source": [
    "train_data = Augment(train_data,0)"
   ]
  },
  {
   "cell_type": "code",
   "execution_count": 13,
   "id": "3d058c6a",
   "metadata": {
    "execution": {
     "iopub.execute_input": "2024-09-23T10:16:37.181576Z",
     "iopub.status.busy": "2024-09-23T10:16:37.181120Z",
     "iopub.status.idle": "2024-09-23T10:16:37.410397Z",
     "shell.execute_reply": "2024-09-23T10:16:37.409251Z"
    },
    "papermill": {
     "duration": 0.245922,
     "end_time": "2024-09-23T10:16:37.413326",
     "exception": false,
     "start_time": "2024-09-23T10:16:37.167404",
     "status": "completed"
    },
    "tags": []
   },
   "outputs": [],
   "source": [
    "X_train_data = np.array(train_data.iloc[:,1:])\n",
    "y_train_data = np.array(train_data.iloc[:,0])\n"
   ]
  },
  {
   "cell_type": "markdown",
   "id": "0e60ee37",
   "metadata": {
    "papermill": {
     "duration": 0.011756,
     "end_time": "2024-09-23T10:16:37.437618",
     "exception": false,
     "start_time": "2024-09-23T10:16:37.425862",
     "status": "completed"
    },
    "tags": []
   },
   "source": [
    "**Training and fine-tuning a Classifier:**"
   ]
  },
  {
   "cell_type": "code",
   "execution_count": 14,
   "id": "19f9e035",
   "metadata": {
    "execution": {
     "iopub.execute_input": "2024-09-23T10:16:37.463187Z",
     "iopub.status.busy": "2024-09-23T10:16:37.462711Z",
     "iopub.status.idle": "2024-09-23T10:16:37.468307Z",
     "shell.execute_reply": "2024-09-23T10:16:37.467129Z"
    },
    "papermill": {
     "duration": 0.021301,
     "end_time": "2024-09-23T10:16:37.470687",
     "exception": false,
     "start_time": "2024-09-23T10:16:37.449386",
     "status": "completed"
    },
    "tags": []
   },
   "outputs": [],
   "source": [
    "knn_pipline = Pipeline([(\"classifier\",KNeighborsClassifier(n_neighbors=5))])"
   ]
  },
  {
   "cell_type": "code",
   "execution_count": 15,
   "id": "fe078dc8",
   "metadata": {
    "execution": {
     "iopub.execute_input": "2024-09-23T10:16:37.496585Z",
     "iopub.status.busy": "2024-09-23T10:16:37.495599Z",
     "iopub.status.idle": "2024-09-23T10:16:37.501226Z",
     "shell.execute_reply": "2024-09-23T10:16:37.500133Z"
    },
    "papermill": {
     "duration": 0.021238,
     "end_time": "2024-09-23T10:16:37.503812",
     "exception": false,
     "start_time": "2024-09-23T10:16:37.482574",
     "status": "completed"
    },
    "tags": []
   },
   "outputs": [],
   "source": [
    "param_grid = [{'classifier__n_neighbors':[3,4,5],\n",
    "               'classifier__weights':['distance']}]"
   ]
  },
  {
   "cell_type": "code",
   "execution_count": 16,
   "id": "7c3eb508",
   "metadata": {
    "execution": {
     "iopub.execute_input": "2024-09-23T10:16:37.530841Z",
     "iopub.status.busy": "2024-09-23T10:16:37.530379Z",
     "iopub.status.idle": "2024-09-23T10:16:37.535800Z",
     "shell.execute_reply": "2024-09-23T10:16:37.534597Z"
    },
    "papermill": {
     "duration": 0.021365,
     "end_time": "2024-09-23T10:16:37.538309",
     "exception": false,
     "start_time": "2024-09-23T10:16:37.516944",
     "status": "completed"
    },
    "tags": []
   },
   "outputs": [],
   "source": [
    "grid_search = GridSearchCV(knn_pipline,param_grid,cv=3,scoring = \"accuracy\")"
   ]
  },
  {
   "cell_type": "code",
   "execution_count": 17,
   "id": "54980f54",
   "metadata": {
    "execution": {
     "iopub.execute_input": "2024-09-23T10:16:37.563936Z",
     "iopub.status.busy": "2024-09-23T10:16:37.563389Z",
     "iopub.status.idle": "2024-09-23T10:28:20.553262Z",
     "shell.execute_reply": "2024-09-23T10:28:20.552027Z"
    },
    "papermill": {
     "duration": 703.017951,
     "end_time": "2024-09-23T10:28:20.568137",
     "exception": false,
     "start_time": "2024-09-23T10:16:37.550186",
     "status": "completed"
    },
    "tags": []
   },
   "outputs": [
    {
     "data": {
      "text/html": [
       "<style>#sk-container-id-1 {color: black;background-color: white;}#sk-container-id-1 pre{padding: 0;}#sk-container-id-1 div.sk-toggleable {background-color: white;}#sk-container-id-1 label.sk-toggleable__label {cursor: pointer;display: block;width: 100%;margin-bottom: 0;padding: 0.3em;box-sizing: border-box;text-align: center;}#sk-container-id-1 label.sk-toggleable__label-arrow:before {content: \"▸\";float: left;margin-right: 0.25em;color: #696969;}#sk-container-id-1 label.sk-toggleable__label-arrow:hover:before {color: black;}#sk-container-id-1 div.sk-estimator:hover label.sk-toggleable__label-arrow:before {color: black;}#sk-container-id-1 div.sk-toggleable__content {max-height: 0;max-width: 0;overflow: hidden;text-align: left;background-color: #f0f8ff;}#sk-container-id-1 div.sk-toggleable__content pre {margin: 0.2em;color: black;border-radius: 0.25em;background-color: #f0f8ff;}#sk-container-id-1 input.sk-toggleable__control:checked~div.sk-toggleable__content {max-height: 200px;max-width: 100%;overflow: auto;}#sk-container-id-1 input.sk-toggleable__control:checked~label.sk-toggleable__label-arrow:before {content: \"▾\";}#sk-container-id-1 div.sk-estimator input.sk-toggleable__control:checked~label.sk-toggleable__label {background-color: #d4ebff;}#sk-container-id-1 div.sk-label input.sk-toggleable__control:checked~label.sk-toggleable__label {background-color: #d4ebff;}#sk-container-id-1 input.sk-hidden--visually {border: 0;clip: rect(1px 1px 1px 1px);clip: rect(1px, 1px, 1px, 1px);height: 1px;margin: -1px;overflow: hidden;padding: 0;position: absolute;width: 1px;}#sk-container-id-1 div.sk-estimator {font-family: monospace;background-color: #f0f8ff;border: 1px dotted black;border-radius: 0.25em;box-sizing: border-box;margin-bottom: 0.5em;}#sk-container-id-1 div.sk-estimator:hover {background-color: #d4ebff;}#sk-container-id-1 div.sk-parallel-item::after {content: \"\";width: 100%;border-bottom: 1px solid gray;flex-grow: 1;}#sk-container-id-1 div.sk-label:hover label.sk-toggleable__label {background-color: #d4ebff;}#sk-container-id-1 div.sk-serial::before {content: \"\";position: absolute;border-left: 1px solid gray;box-sizing: border-box;top: 0;bottom: 0;left: 50%;z-index: 0;}#sk-container-id-1 div.sk-serial {display: flex;flex-direction: column;align-items: center;background-color: white;padding-right: 0.2em;padding-left: 0.2em;position: relative;}#sk-container-id-1 div.sk-item {position: relative;z-index: 1;}#sk-container-id-1 div.sk-parallel {display: flex;align-items: stretch;justify-content: center;background-color: white;position: relative;}#sk-container-id-1 div.sk-item::before, #sk-container-id-1 div.sk-parallel-item::before {content: \"\";position: absolute;border-left: 1px solid gray;box-sizing: border-box;top: 0;bottom: 0;left: 50%;z-index: -1;}#sk-container-id-1 div.sk-parallel-item {display: flex;flex-direction: column;z-index: 1;position: relative;background-color: white;}#sk-container-id-1 div.sk-parallel-item:first-child::after {align-self: flex-end;width: 50%;}#sk-container-id-1 div.sk-parallel-item:last-child::after {align-self: flex-start;width: 50%;}#sk-container-id-1 div.sk-parallel-item:only-child::after {width: 0;}#sk-container-id-1 div.sk-dashed-wrapped {border: 1px dashed gray;margin: 0 0.4em 0.5em 0.4em;box-sizing: border-box;padding-bottom: 0.4em;background-color: white;}#sk-container-id-1 div.sk-label label {font-family: monospace;font-weight: bold;display: inline-block;line-height: 1.2em;}#sk-container-id-1 div.sk-label-container {text-align: center;}#sk-container-id-1 div.sk-container {/* jupyter's `normalize.less` sets `[hidden] { display: none; }` but bootstrap.min.css set `[hidden] { display: none !important; }` so we also need the `!important` here to be able to override the default hidden behavior on the sphinx rendered scikit-learn.org. See: https://github.com/scikit-learn/scikit-learn/issues/21755 */display: inline-block !important;position: relative;}#sk-container-id-1 div.sk-text-repr-fallback {display: none;}</style><div id=\"sk-container-id-1\" class=\"sk-top-container\"><div class=\"sk-text-repr-fallback\"><pre>GridSearchCV(cv=3,\n",
       "             estimator=Pipeline(steps=[(&#x27;classifier&#x27;, KNeighborsClassifier())]),\n",
       "             param_grid=[{&#x27;classifier__n_neighbors&#x27;: [3, 4, 5],\n",
       "                          &#x27;classifier__weights&#x27;: [&#x27;distance&#x27;]}],\n",
       "             scoring=&#x27;accuracy&#x27;)</pre><b>In a Jupyter environment, please rerun this cell to show the HTML representation or trust the notebook. <br />On GitHub, the HTML representation is unable to render, please try loading this page with nbviewer.org.</b></div><div class=\"sk-container\" hidden><div class=\"sk-item sk-dashed-wrapped\"><div class=\"sk-label-container\"><div class=\"sk-label sk-toggleable\"><input class=\"sk-toggleable__control sk-hidden--visually\" id=\"sk-estimator-id-1\" type=\"checkbox\" ><label for=\"sk-estimator-id-1\" class=\"sk-toggleable__label sk-toggleable__label-arrow\">GridSearchCV</label><div class=\"sk-toggleable__content\"><pre>GridSearchCV(cv=3,\n",
       "             estimator=Pipeline(steps=[(&#x27;classifier&#x27;, KNeighborsClassifier())]),\n",
       "             param_grid=[{&#x27;classifier__n_neighbors&#x27;: [3, 4, 5],\n",
       "                          &#x27;classifier__weights&#x27;: [&#x27;distance&#x27;]}],\n",
       "             scoring=&#x27;accuracy&#x27;)</pre></div></div></div><div class=\"sk-parallel\"><div class=\"sk-parallel-item\"><div class=\"sk-item\"><div class=\"sk-label-container\"><div class=\"sk-label sk-toggleable\"><input class=\"sk-toggleable__control sk-hidden--visually\" id=\"sk-estimator-id-2\" type=\"checkbox\" ><label for=\"sk-estimator-id-2\" class=\"sk-toggleable__label sk-toggleable__label-arrow\">estimator: Pipeline</label><div class=\"sk-toggleable__content\"><pre>Pipeline(steps=[(&#x27;classifier&#x27;, KNeighborsClassifier())])</pre></div></div></div><div class=\"sk-serial\"><div class=\"sk-item\"><div class=\"sk-serial\"><div class=\"sk-item\"><div class=\"sk-estimator sk-toggleable\"><input class=\"sk-toggleable__control sk-hidden--visually\" id=\"sk-estimator-id-3\" type=\"checkbox\" ><label for=\"sk-estimator-id-3\" class=\"sk-toggleable__label sk-toggleable__label-arrow\">KNeighborsClassifier</label><div class=\"sk-toggleable__content\"><pre>KNeighborsClassifier()</pre></div></div></div></div></div></div></div></div></div></div></div></div>"
      ],
      "text/plain": [
       "GridSearchCV(cv=3,\n",
       "             estimator=Pipeline(steps=[('classifier', KNeighborsClassifier())]),\n",
       "             param_grid=[{'classifier__n_neighbors': [3, 4, 5],\n",
       "                          'classifier__weights': ['distance']}],\n",
       "             scoring='accuracy')"
      ]
     },
     "execution_count": 17,
     "metadata": {},
     "output_type": "execute_result"
    }
   ],
   "source": [
    "grid_search.fit(X_train_data,y_train_data)"
   ]
  },
  {
   "cell_type": "code",
   "execution_count": 18,
   "id": "8a000360",
   "metadata": {
    "execution": {
     "iopub.execute_input": "2024-09-23T10:28:20.593939Z",
     "iopub.status.busy": "2024-09-23T10:28:20.593524Z",
     "iopub.status.idle": "2024-09-23T10:28:20.600879Z",
     "shell.execute_reply": "2024-09-23T10:28:20.599702Z"
    },
    "papermill": {
     "duration": 0.023244,
     "end_time": "2024-09-23T10:28:20.603409",
     "exception": false,
     "start_time": "2024-09-23T10:28:20.580165",
     "status": "completed"
    },
    "tags": []
   },
   "outputs": [
    {
     "data": {
      "text/plain": [
       "{'classifier__n_neighbors': 4, 'classifier__weights': 'distance'}"
      ]
     },
     "execution_count": 18,
     "metadata": {},
     "output_type": "execute_result"
    }
   ],
   "source": [
    "grid_search.best_params_"
   ]
  },
  {
   "cell_type": "code",
   "execution_count": 19,
   "id": "8307c743",
   "metadata": {
    "execution": {
     "iopub.execute_input": "2024-09-23T10:28:20.629945Z",
     "iopub.status.busy": "2024-09-23T10:28:20.628945Z",
     "iopub.status.idle": "2024-09-23T10:28:20.651880Z",
     "shell.execute_reply": "2024-09-23T10:28:20.650638Z"
    },
    "papermill": {
     "duration": 0.038781,
     "end_time": "2024-09-23T10:28:20.654388",
     "exception": false,
     "start_time": "2024-09-23T10:28:20.615607",
     "status": "completed"
    },
    "tags": []
   },
   "outputs": [
    {
     "data": {
      "text/html": [
       "<div>\n",
       "<style scoped>\n",
       "    .dataframe tbody tr th:only-of-type {\n",
       "        vertical-align: middle;\n",
       "    }\n",
       "\n",
       "    .dataframe tbody tr th {\n",
       "        vertical-align: top;\n",
       "    }\n",
       "\n",
       "    .dataframe thead th {\n",
       "        text-align: right;\n",
       "    }\n",
       "</style>\n",
       "<table border=\"1\" class=\"dataframe\">\n",
       "  <thead>\n",
       "    <tr style=\"text-align: right;\">\n",
       "      <th></th>\n",
       "      <th>mean_fit_time</th>\n",
       "      <th>std_fit_time</th>\n",
       "      <th>mean_score_time</th>\n",
       "      <th>std_score_time</th>\n",
       "      <th>param_classifier__n_neighbors</th>\n",
       "      <th>param_classifier__weights</th>\n",
       "      <th>params</th>\n",
       "      <th>split0_test_score</th>\n",
       "      <th>split1_test_score</th>\n",
       "      <th>split2_test_score</th>\n",
       "      <th>mean_test_score</th>\n",
       "      <th>std_test_score</th>\n",
       "      <th>rank_test_score</th>\n",
       "    </tr>\n",
       "  </thead>\n",
       "  <tbody>\n",
       "    <tr>\n",
       "      <th>1</th>\n",
       "      <td>0.303262</td>\n",
       "      <td>0.014316</td>\n",
       "      <td>78.438078</td>\n",
       "      <td>1.037651</td>\n",
       "      <td>4</td>\n",
       "      <td>distance</td>\n",
       "      <td>{'classifier__n_neighbors': 4, 'classifier__we...</td>\n",
       "      <td>0.970451</td>\n",
       "      <td>0.977138</td>\n",
       "      <td>0.977896</td>\n",
       "      <td>0.975161</td>\n",
       "      <td>0.003345</td>\n",
       "      <td>1</td>\n",
       "    </tr>\n",
       "    <tr>\n",
       "      <th>0</th>\n",
       "      <td>0.303621</td>\n",
       "      <td>0.010864</td>\n",
       "      <td>75.774761</td>\n",
       "      <td>0.164364</td>\n",
       "      <td>3</td>\n",
       "      <td>distance</td>\n",
       "      <td>{'classifier__n_neighbors': 3, 'classifier__we...</td>\n",
       "      <td>0.969232</td>\n",
       "      <td>0.975754</td>\n",
       "      <td>0.977006</td>\n",
       "      <td>0.973997</td>\n",
       "      <td>0.003408</td>\n",
       "      <td>2</td>\n",
       "    </tr>\n",
       "    <tr>\n",
       "      <th>2</th>\n",
       "      <td>0.298639</td>\n",
       "      <td>0.004318</td>\n",
       "      <td>79.094005</td>\n",
       "      <td>0.663719</td>\n",
       "      <td>5</td>\n",
       "      <td>distance</td>\n",
       "      <td>{'classifier__n_neighbors': 5, 'classifier__we...</td>\n",
       "      <td>0.969133</td>\n",
       "      <td>0.974799</td>\n",
       "      <td>0.976018</td>\n",
       "      <td>0.973317</td>\n",
       "      <td>0.003000</td>\n",
       "      <td>3</td>\n",
       "    </tr>\n",
       "  </tbody>\n",
       "</table>\n",
       "</div>"
      ],
      "text/plain": [
       "   mean_fit_time  std_fit_time  mean_score_time  std_score_time  \\\n",
       "1       0.303262      0.014316        78.438078        1.037651   \n",
       "0       0.303621      0.010864        75.774761        0.164364   \n",
       "2       0.298639      0.004318        79.094005        0.663719   \n",
       "\n",
       "  param_classifier__n_neighbors param_classifier__weights  \\\n",
       "1                             4                  distance   \n",
       "0                             3                  distance   \n",
       "2                             5                  distance   \n",
       "\n",
       "                                              params  split0_test_score  \\\n",
       "1  {'classifier__n_neighbors': 4, 'classifier__we...           0.970451   \n",
       "0  {'classifier__n_neighbors': 3, 'classifier__we...           0.969232   \n",
       "2  {'classifier__n_neighbors': 5, 'classifier__we...           0.969133   \n",
       "\n",
       "   split1_test_score  split2_test_score  mean_test_score  std_test_score  \\\n",
       "1           0.977138           0.977896         0.975161        0.003345   \n",
       "0           0.975754           0.977006         0.973997        0.003408   \n",
       "2           0.974799           0.976018         0.973317        0.003000   \n",
       "\n",
       "   rank_test_score  \n",
       "1                1  \n",
       "0                2  \n",
       "2                3  "
      ]
     },
     "execution_count": 19,
     "metadata": {},
     "output_type": "execute_result"
    }
   ],
   "source": [
    "cv_res = pd.DataFrame(grid_search.cv_results_)\n",
    "cv_res.sort_values(by=\"mean_test_score\",ascending=False,inplace=True)\n",
    "cv_res"
   ]
  },
  {
   "cell_type": "markdown",
   "id": "a44cdd5e",
   "metadata": {
    "papermill": {
     "duration": 0.012267,
     "end_time": "2024-09-23T10:28:20.679377",
     "exception": false,
     "start_time": "2024-09-23T10:28:20.667110",
     "status": "completed"
    },
    "tags": []
   },
   "source": [
    "**Performance Measures:** "
   ]
  },
  {
   "cell_type": "code",
   "execution_count": 20,
   "id": "f5e2d015",
   "metadata": {
    "execution": {
     "iopub.execute_input": "2024-09-23T10:28:20.707016Z",
     "iopub.status.busy": "2024-09-23T10:28:20.706044Z",
     "iopub.status.idle": "2024-09-23T10:28:20.711660Z",
     "shell.execute_reply": "2024-09-23T10:28:20.710414Z"
    },
    "papermill": {
     "duration": 0.022123,
     "end_time": "2024-09-23T10:28:20.714044",
     "exception": false,
     "start_time": "2024-09-23T10:28:20.691921",
     "status": "completed"
    },
    "tags": []
   },
   "outputs": [],
   "source": [
    "#cross_val_score(grid_search,X_train_data,y_train_data,cv=3,scoring = \"accuracy\" )"
   ]
  },
  {
   "cell_type": "code",
   "execution_count": 21,
   "id": "89c665fc",
   "metadata": {
    "execution": {
     "iopub.execute_input": "2024-09-23T10:28:20.741159Z",
     "iopub.status.busy": "2024-09-23T10:28:20.740616Z",
     "iopub.status.idle": "2024-09-23T10:47:55.071815Z",
     "shell.execute_reply": "2024-09-23T10:47:55.070474Z"
    },
    "papermill": {
     "duration": 1174.347859,
     "end_time": "2024-09-23T10:47:55.074565",
     "exception": false,
     "start_time": "2024-09-23T10:28:20.726706",
     "status": "completed"
    },
    "tags": []
   },
   "outputs": [],
   "source": [
    "y_train_predict = cross_val_predict(grid_search,X_train_data,y_train_data,cv=3 )"
   ]
  },
  {
   "cell_type": "code",
   "execution_count": 22,
   "id": "cc62fab3",
   "metadata": {
    "execution": {
     "iopub.execute_input": "2024-09-23T10:47:55.102365Z",
     "iopub.status.busy": "2024-09-23T10:47:55.101292Z",
     "iopub.status.idle": "2024-09-23T10:47:55.705544Z",
     "shell.execute_reply": "2024-09-23T10:47:55.704327Z"
    },
    "papermill": {
     "duration": 0.620767,
     "end_time": "2024-09-23T10:47:55.708246",
     "exception": false,
     "start_time": "2024-09-23T10:47:55.087479",
     "status": "completed"
    },
    "tags": []
   },
   "outputs": [
    {
     "data": {
      "image/png": "[encoded data removed]",
      "text/plain": [
       "<Figure size 640x480 with 2 Axes>"
      ]
     },
     "metadata": {},
     "output_type": "display_data"
    }
   ],
   "source": [
    "ConfusionMatrixDisplay.from_predictions(y_train_predict,np.array(train_data.iloc[:,0]),normalize=\"true\",values_format=\".0%\")\n",
    "plt.show()"
   ]
  },
  {
   "cell_type": "code",
   "execution_count": 23,
   "id": "b95e0f5a",
   "metadata": {
    "execution": {
     "iopub.execute_input": "2024-09-23T10:47:55.737345Z",
     "iopub.status.busy": "2024-09-23T10:47:55.736806Z",
     "iopub.status.idle": "2024-09-23T10:47:56.300120Z",
     "shell.execute_reply": "2024-09-23T10:47:56.298771Z"
    },
    "papermill": {
     "duration": 0.580971,
     "end_time": "2024-09-23T10:47:56.302774",
     "exception": false,
     "start_time": "2024-09-23T10:47:55.721803",
     "status": "completed"
    },
    "tags": []
   },
   "outputs": [
    {
     "data": {
      "image/png": "[encoded data removed]",
      "text/plain": [
       "<Figure size 640x480 with 2 Axes>"
      ]
     },
     "metadata": {},
     "output_type": "display_data"
    }
   ],
   "source": [
    "sample_weight = (y_train_predict != np.array(train_data.iloc[:,0]))\n",
    "ConfusionMatrixDisplay.from_predictions(np.array(train_data.iloc[:,0]),y_train_predict,sample_weight=sample_weight,normalize=\"true\",values_format=\".0%\")\n",
    "plt.show()"
   ]
  },
  {
   "cell_type": "markdown",
   "id": "476f2e0f",
   "metadata": {
    "papermill": {
     "duration": 0.014442,
     "end_time": "2024-09-23T10:47:56.332117",
     "exception": false,
     "start_time": "2024-09-23T10:47:56.317675",
     "status": "completed"
    },
    "tags": []
   },
   "source": [
    "**Evaluation :**"
   ]
  },
  {
   "cell_type": "code",
   "execution_count": 24,
   "id": "108d5151",
   "metadata": {
    "execution": {
     "iopub.execute_input": "2024-09-23T10:47:56.363452Z",
     "iopub.status.busy": "2024-09-23T10:47:56.362995Z",
     "iopub.status.idle": "2024-09-23T10:49:50.329365Z",
     "shell.execute_reply": "2024-09-23T10:49:50.327884Z"
    },
    "papermill": {
     "duration": 113.98696,
     "end_time": "2024-09-23T10:49:50.333703",
     "exception": false,
     "start_time": "2024-09-23T10:47:56.346743",
     "status": "completed"
    },
    "tags": []
   },
   "outputs": [
    {
     "name": "stderr",
     "output_type": "stream",
     "text": [
      "/opt/conda/lib/python3.10/site-packages/sklearn/base.py:432: UserWarning: X has feature names, but KNeighborsClassifier was fitted without feature names\n",
      "  warnings.warn(\n"
     ]
    }
   ],
   "source": [
    "final_evaluation = grid_search.predict(test_data)"
   ]
  },
  {
   "cell_type": "code",
   "execution_count": 25,
   "id": "df9ad3ef",
   "metadata": {
    "execution": {
     "iopub.execute_input": "2024-09-23T10:49:50.388298Z",
     "iopub.status.busy": "2024-09-23T10:49:50.387839Z",
     "iopub.status.idle": "2024-09-23T10:49:50.400554Z",
     "shell.execute_reply": "2024-09-23T10:49:50.399488Z"
    },
    "papermill": {
     "duration": 0.038413,
     "end_time": "2024-09-23T10:49:50.403000",
     "exception": false,
     "start_time": "2024-09-23T10:49:50.364587",
     "status": "completed"
    },
    "tags": []
   },
   "outputs": [
    {
     "data": {
      "text/html": [
       "<div>\n",
       "<style scoped>\n",
       "    .dataframe tbody tr th:only-of-type {\n",
       "        vertical-align: middle;\n",
       "    }\n",
       "\n",
       "    .dataframe tbody tr th {\n",
       "        vertical-align: top;\n",
       "    }\n",
       "\n",
       "    .dataframe thead th {\n",
       "        text-align: right;\n",
       "    }\n",
       "</style>\n",
       "<table border=\"1\" class=\"dataframe\">\n",
       "  <thead>\n",
       "    <tr style=\"text-align: right;\">\n",
       "      <th></th>\n",
       "      <th>ImageId</th>\n",
       "      <th>Label</th>\n",
       "    </tr>\n",
       "  </thead>\n",
       "  <tbody>\n",
       "    <tr>\n",
       "      <th>0</th>\n",
       "      <td>1</td>\n",
       "      <td>2</td>\n",
       "    </tr>\n",
       "    <tr>\n",
       "      <th>1</th>\n",
       "      <td>2</td>\n",
       "      <td>0</td>\n",
       "    </tr>\n",
       "    <tr>\n",
       "      <th>2</th>\n",
       "      <td>3</td>\n",
       "      <td>9</td>\n",
       "    </tr>\n",
       "    <tr>\n",
       "      <th>3</th>\n",
       "      <td>4</td>\n",
       "      <td>0</td>\n",
       "    </tr>\n",
       "    <tr>\n",
       "      <th>4</th>\n",
       "      <td>5</td>\n",
       "      <td>3</td>\n",
       "    </tr>\n",
       "    <tr>\n",
       "      <th>...</th>\n",
       "      <td>...</td>\n",
       "      <td>...</td>\n",
       "    </tr>\n",
       "    <tr>\n",
       "      <th>27995</th>\n",
       "      <td>27996</td>\n",
       "      <td>9</td>\n",
       "    </tr>\n",
       "    <tr>\n",
       "      <th>27996</th>\n",
       "      <td>27997</td>\n",
       "      <td>7</td>\n",
       "    </tr>\n",
       "    <tr>\n",
       "      <th>27997</th>\n",
       "      <td>27998</td>\n",
       "      <td>3</td>\n",
       "    </tr>\n",
       "    <tr>\n",
       "      <th>27998</th>\n",
       "      <td>27999</td>\n",
       "      <td>9</td>\n",
       "    </tr>\n",
       "    <tr>\n",
       "      <th>27999</th>\n",
       "      <td>28000</td>\n",
       "      <td>2</td>\n",
       "    </tr>\n",
       "  </tbody>\n",
       "</table>\n",
       "<p>28000 rows × 2 columns</p>\n",
       "</div>"
      ],
      "text/plain": [
       "       ImageId  Label\n",
       "0            1      2\n",
       "1            2      0\n",
       "2            3      9\n",
       "3            4      0\n",
       "4            5      3\n",
       "...        ...    ...\n",
       "27995    27996      9\n",
       "27996    27997      7\n",
       "27997    27998      3\n",
       "27998    27999      9\n",
       "27999    28000      2\n",
       "\n",
       "[28000 rows x 2 columns]"
      ]
     },
     "execution_count": 25,
     "metadata": {},
     "output_type": "execute_result"
    }
   ],
   "source": [
    "d = {'ImageId':np.arange(28000) + 1,'Label':final_evaluation}\n",
    "df = pd.DataFrame(data=d)\n",
    "df"
   ]
  },
  {
   "cell_type": "code",
   "execution_count": 26,
   "id": "8ece969e",
   "metadata": {
    "execution": {
     "iopub.execute_input": "2024-09-23T10:49:50.435115Z",
     "iopub.status.busy": "2024-09-23T10:49:50.434077Z",
     "iopub.status.idle": "2024-09-23T10:49:50.479001Z",
     "shell.execute_reply": "2024-09-23T10:49:50.477814Z"
    },
    "papermill": {
     "duration": 0.063826,
     "end_time": "2024-09-23T10:49:50.481748",
     "exception": false,
     "start_time": "2024-09-23T10:49:50.417922",
     "status": "completed"
    },
    "tags": []
   },
   "outputs": [],
   "source": [
    "df.to_csv('out.csv',index=False)"
   ]
  }
 ],
 "metadata": {
  "kaggle": {
   "accelerator": "none",
   "dataSources": [
    {
     "databundleVersionId": 861823,
     "sourceId": 3004,
     "sourceType": "competition"
    }
   ],
   "dockerImageVersionId": 30761,
   "isGpuEnabled": false,
   "isInternetEnabled": false,
   "language": "python",
   "sourceType": "notebook"
  },
  "kernelspec": {
   "display_name": "Python 3",
   "language": "python",
   "name": "python3"
  },
  "language_info": {
   "codemirror_mode": {
    "name": "ipython",
    "version": 3
   },
   "file_extension": ".py",
   "mimetype": "text/x-python",
   "name": "python",
   "nbconvert_exporter": "python",
   "pygments_lexer": "ipython3",
   "version": "3.10.14"
  },
  "papermill": {
   "default_parameters": {},
   "duration": 3644.99948,
   "end_time": "2024-09-23T10:49:51.220365",
   "environment_variables": {},
   "exception": null,
   "input_path": "__notebook__.ipynb",
   "output_path": "__notebook__.ipynb",
   "parameters": {},
   "start_time": "2024-09-23T09:49:06.220885",
   "version": "2.6.0"
  }
 },
 "nbformat": 4,
 "nbformat_minor": 5
}
